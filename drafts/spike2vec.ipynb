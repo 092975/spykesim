{
 "cells": [
  {
   "cell_type": "code",
   "execution_count": 1,
   "metadata": {},
   "outputs": [],
   "source": [
    "import numpy as np\n",
    "import matplotlib.pyplot as plt\n",
    "import sys\n",
    "import pandas as pd\n",
    "from scipy import sparse\n",
    "sys.path.append(\"../spykesim\")\n",
    "import editsim\n",
    "import seaborn as sns\n",
    "sns.set_context('poster')\n",
    "sns.set_style('white')\n",
    "sns.set_color_codes()\n",
    "plot_kwds = {'alpha' : 0.5, 's' : 80, 'linewidths':0}\n",
    "%matplotlib inline\n",
    "\n",
    "def genpoisson_spiketrain(rate, dt, duration):\n",
    "    offset = duration\n",
    "    events = np.cumsum(np.random.exponential(scale = 1 / rate, size = int(duration*rate + offset)))\n",
    "    return np.round(events[np.logical_and(0 < events, events < duration)], -int(np.log10(dt)))\n",
    "\n",
    "def genpoisson_spiketrains(nneurons, rate, dt, duration):\n",
    "    spike_timings = np.array([], dtype = np.float)\n",
    "    spike_neurons = np.array([], dtype = np.int)\n",
    "    for n in range(nneurons):\n",
    "        spike_train = genpoisson_spiketrain(rate, dt, duration)\n",
    "        spike_timings = np.r_[spike_timings, spike_train]\n",
    "        spike_neurons = np.r_[spike_neurons, n * np.ones_like(spike_train, dtype = np.int)]\n",
    "    return pd.DataFrame({\n",
    "        \"neuronid\": spike_neurons,\n",
    "        \"spiketime\": spike_timings\n",
    "    })\n",
    "\n",
    "def gen_sequence(nneurons = 10, seqlen = 0.1, dt = 0.001):\n",
    "    return np.round(np.linspace(dt, seqlen-dt, nneurons), int(-np.log10(dt)))\n",
    "\n",
    "def gen_sequences(neurons = np.arange(10), nsequences = 10, start = 0, end = 60, seqlen = 0.1, dt = 0.001, shrink = 1):\n",
    "    spike_timings = np.array([], dtype = np.float)\n",
    "    spike_neurons = np.array([], dtype = np.int)\n",
    "    nneurons = len(neurons)\n",
    "    sequence_onsets = np.random.choice(\n",
    "        np.arange(start, end - seqlen, seqlen),\n",
    "        nsequences,\n",
    "        replace = False\n",
    "    )\n",
    "    for onset in sequence_onsets:\n",
    "        spike_timings = np.r_[spike_timings, onset + gen_sequence(nneurons, seqlen / shrink, dt)]\n",
    "        spike_neurons = np.r_[spike_neurons, neurons]\n",
    "    return pd.DataFrame({\n",
    "        \"neuronid\": spike_neurons,\n",
    "        \"spiketime\": spike_timings\n",
    "    }) \n",
    "\n",
    "def gen_sequences_with_replay(shrinkages = [2], neurons = np.arange(10), nsequences = 10, duration = 60, seqlen = 0.1, dt = 0.001):\n",
    "    duration_per_type = duration / (len(shrinkages) + 1)\n",
    "    sequences = gen_sequences(neurons,\n",
    "                              nsequences,\n",
    "                              0,\n",
    "                              duration_per_type,\n",
    "                              seqlen,\n",
    "                              dt)\n",
    "    for idx, shrinkage in enumerate(shrinkages):\n",
    "        replay = gen_sequences(neurons,\n",
    "                               nsequences,\n",
    "                               duration_per_type * (idx + 1),\n",
    "                               duration_per_type * (idx + 2),\n",
    "                               seqlen,\n",
    "                               dt, \n",
    "                               abs(shrinkage))\n",
    "        if shrinkage < 0: # reverse replay\n",
    "            replay = pd.DataFrame({\n",
    "                \"neuronid\": replay.neuronid,\n",
    "                \"spiketime\": np.copy(replay.spiketime[::-1])\n",
    "            })\n",
    "        sequences = pd.concat([sequences, replay])\n",
    "    return sequences"
   ]
  },
  {
   "cell_type": "code",
   "execution_count": 5,
   "metadata": {},
   "outputs": [],
   "source": [
    "def df2binarray_csc(df, duration_ms = 10, binwidth = 1):\n",
    "    neuronids = df.neuronid\n",
    "    spikes_ms = df.spiketime * 1000\n",
    "    nneurons = int(neuronids.max()+1)\n",
    "    nrow = nneurons \n",
    "    ncol = int(duration_ms) // binwidth + 1000\n",
    "    binarray_lil = sparse.lil_matrix((nrow, ncol))\n",
    "    for neuronid in range(nneurons):\n",
    "        spike_train_of_a_neuron = spikes_ms[neuronids == neuronid]\n",
    "        bins = np.arange(0, ncol * binwidth, binwidth)\n",
    "        digitized_spike_train_of_a_neuron = np.digitize(spike_train_of_a_neuron, bins) - 1\n",
    "        binned_spike_train_of_a_neuron = np.bincount(digitized_spike_train_of_a_neuron)\n",
    "        binarray_lil[neuronid, digitized_spike_train_of_a_neuron] = binned_spike_train_of_a_neuron[digitized_spike_train_of_a_neuron]\n",
    "    return binarray_lil.tocsc()"
   ]
  },
  {
   "cell_type": "code",
   "execution_count": 11,
   "metadata": {},
   "outputs": [],
   "source": [
    "dt = 0.001\n",
    "# nsequences = 10\n",
    "# seqlen = 0.3\n",
    "nsequences = 5\n",
    "seqlen = 0.1\n",
    "window = int(seqlen * 1000)\n",
    "shrinkages = [-5, 5]\n",
    "nneurons = 10\n",
    "duration = nsequences * seqlen * (len(shrinkages) + 1) + 0.2\n",
    "nseqkinds = 3\n",
    "df = pd.DataFrame()\n",
    "for idx in range(nseqkinds):\n",
    "    df_seq = gen_sequences_with_replay(\n",
    "        shrinkages = shrinkages,\n",
    "        neurons = np.arange(nneurons*(idx), nneurons*(idx+1)),\n",
    "        nsequences = nsequences,\n",
    "        duration = duration,\n",
    "        seqlen = seqlen,\n",
    "        dt = dt)\n",
    "    df_seq = pd.DataFrame({\n",
    "        \"neuronid\": df_seq.neuronid,\n",
    "        \"spiketime\": np.copy(df_seq.spiketime + duration * idx + idx)\n",
    "    })\n",
    "    df = pd.concat([df, df_seq])\n",
    "\n",
    "rate = 1\n",
    "nneurons = nneurons*nseqkinds \n",
    "duration = duration*nseqkinds + nseqkinds\n",
    "df_noise = genpoisson_spiketrains(nneurons, rate, dt, duration)\n",
    "df = pd.concat([df, df_noise])\n",
    "binarray_csc = df2binarray_csc(df, duration)"
   ]
  },
  {
   "cell_type": "code",
   "execution_count": 12,
   "metadata": {},
   "outputs": [
    {
     "data": {
      "text/plain": [
       "[<matplotlib.lines.Line2D at 0x7fc50d13b320>]"
      ]
     },
     "execution_count": 12,
     "metadata": {},
     "output_type": "execute_result"
    },
    {
     "data": {
      "image/png": "[encoded data removed]",
      "text/plain": [
       "<matplotlib.figure.Figure at 0x7fc50d069f60>"
      ]
     },
     "metadata": {},
     "output_type": "display_data"
    }
   ],
   "source": [
    "plt.plot(df.spiketime, df.neuronid, \"b.\", alpha = 0.3)"
   ]
  },
  {
   "cell_type": "markdown",
   "metadata": {},
   "source": [
    "# Time windowをどうやって放り込むか？ ー＞ CNNか"
   ]
  },
  {
   "cell_type": "code",
   "execution_count": null,
   "metadata": {},
   "outputs": [],
   "source": []
  },
  {
   "cell_type": "markdown",
   "metadata": {},
   "source": [
    "# まずはTime Windowごとのunigramを計算してみる"
   ]
  },
  {
   "cell_type": "code",
   "execution_count": null,
   "metadata": {},
   "outputs": [],
   "source": [
    "t1 = 0\n",
    "m1 = binarray_csc[:, t1:(t1+window)].toarray().astype(DBL)\n",
    "for idx2, t2 in enumerate(times):\n",
    "    m2 = binarray_csc[:, t2:(t2+window)].toarray().astype(DBL)\n",
    "    dp_max, _, _, _ = clocal_exp_editsim_withflip(m1, m2, a)\n",
    "    simvec[idx2] = dp_max\n"
   ]
  }
 ],
 "metadata": {
  "kernelspec": {
   "display_name": "Python 3",
   "language": "python",
   "name": "python3"
  },
  "language_info": {
   "codemirror_mode": {
    "name": "ipython",
    "version": 3
   },
   "file_extension": ".py",
   "mimetype": "text/x-python",
   "name": "python",
   "nbconvert_exporter": "python",
   "pygments_lexer": "ipython3",
   "version": "3.6.5"
  }
 },
 "nbformat": 4,
 "nbformat_minor": 2
}
