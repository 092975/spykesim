{
 "cells": [
  {
   "cell_type": "code",
   "execution_count": 1,
   "metadata": {},
   "outputs": [],
   "source": [
    "import os"
   ]
  },
  {
   "cell_type": "code",
   "execution_count": 2,
   "metadata": {},
   "outputs": [],
   "source": [
    "os.chdir(\"/Users/kei/Projects/spykesim/drafts/\")"
   ]
  },
  {
   "cell_type": "code",
   "execution_count": 3,
   "metadata": {},
   "outputs": [],
   "source": [
    "import numpy as np\n",
    "import matplotlib.pyplot as plt\n",
    "import line_profiler\n",
    "import cython\n",
    "%matplotlib inline\n",
    "%load_ext line_profiler"
   ]
  },
  {
   "cell_type": "code",
   "execution_count": 4,
   "metadata": {},
   "outputs": [],
   "source": [
    "# Row: Neuron #, Col: Bin #\n",
    "mat1 = np.array([\n",
    "    [1, 0, 0, 0, 0],\n",
    "    [1, 1, 0, 1, 0],\n",
    "    [1, 0, 1, 1, 0],\n",
    "    [0, 1, 0, 0, 0],\n",
    "    [0, 0, 0, 0, 0]])\n",
    "mat2 = np.array([\n",
    "    [1, 0, 1, 0, 1],\n",
    "    [0, 0, 1, 1, 1],\n",
    "    [1, 1, 1, 1, 0],\n",
    "    [1, 1, 1, 0, 0],\n",
    "    [1, 0, 0, 0, 0]])"
   ]
  },
  {
   "cell_type": "markdown",
   "metadata": {},
   "source": [
    "# とりあえずシンプルなケースから実装してみる"
   ]
  },
  {
   "cell_type": "code",
   "execution_count": 31,
   "metadata": {},
   "outputs": [],
   "source": [
    "import numpy as np\n",
    "def editsim(mat1, mat2):\n",
    "    return _simpleeditsim(mat1, mat2)\n",
    "def _simpleeditsim(mat1, mat2):\n",
    "    nrow = mat1.shape[1]\n",
    "    ncol = mat2.shape[1]\n",
    "    dp_table = np.zeros((nrow+1, ncol+1))\n",
    "    for col1 in range(nrow):\n",
    "        for col2 in range(ncol):\n",
    "            match = np.dot(mat1[:, col1], mat2[:, col2])\n",
    "            dp_table[col1 + 1, col2 + 1] = np.max([\n",
    "                dp_table[col1, col2 + 1],\n",
    "                dp_table[col1 + 1, col2],\n",
    "                dp_table[col1, col2] + match])\n",
    "    return dp_table[-1, -1]\n",
    "\n",
    "def _simpleeditsim_withbp(mat1, mat2):\n",
    "    nrow = mat1.shape[1]\n",
    "    ncol = mat2.shape[1]\n",
    "    dp_table = np.zeros((nrow+1, ncol+1))\n",
    "    bp_table = np.ones_like(dp_table) * (-1)\n",
    "    for col1 in range(nrow):\n",
    "        for col2 in range(ncol):\n",
    "            match = np.dot(mat1[:, col1], mat2[:, col2])\n",
    "            choices = [\n",
    "                dp_table[col1, col2 + 1],\n",
    "                dp_table[col1 + 1, col2],\n",
    "                dp_table[col1, col2] + match\n",
    "            ]\n",
    "            bp_table[col1 + 1, col2 + 1] = np.argmax(choices)\n",
    "            dp_table[col1 + 1, col2 + 1] = np.max(choices)\n",
    "            \n",
    "    return dp_table, bp_table\n",
    "\n",
    "def _simpleeditsim_tracebp(bp, mat1, mat2):\n",
    "    nrow = bp.shape[0]\n",
    "    ncol = bp.shape[1]\n",
    "    row = nrow - 1\n",
    "    col = ncol - 1\n",
    "    # The first column is inserted just to avoid initialization error that may occur on concatination.\n",
    "    alignment1 = np.zeros((mat1.shape[0], 1))\n",
    "    alignment2 = np.zeros((mat1.shape[0], 1))\n",
    "    zerovec = np.zeros(mat1.shape[0]) # which is corresponding to the null character.\n",
    "    while True:\n",
    "        if bp[row, col] == -1:\n",
    "            # Eather of the strings tracing terminated\n",
    "            break\n",
    "        elif bp[row, col] == 2:\n",
    "            alignment1 = np.c_[mat1[:, row - 1] * mat2[:, col - 1], alignment1]\n",
    "            alignment2 = np.c_[mat1[:, row - 1] * mat2[:, col - 1], alignment2]\n",
    "            row -= 1\n",
    "            col -= 1\n",
    "        elif bp[row, col] == 1:\n",
    "            alignment1 = np.c_[zerovec, alignment1]\n",
    "            alignment2 = np.c_[mat2[:, col - 1], alignment2]\n",
    "            col -= 1\n",
    "        elif bp[row, col] == 0:\n",
    "            alignment1 = np.c_[mat1[:, row - 1], alignment1]\n",
    "            alignment2 = np.c_[zerovec, alignment2]\n",
    "            row -= 1\n",
    "    return alignment1[:, :-1], alignment2[:, :-1]\n",
    "\n",
    "def profile_simpleeditsim():\n",
    "    nrow = 100\n",
    "    mat1 = np.random.randint(0, 10, size = nrow ** 2).reshape(nrow, nrow)\n",
    "    mat2 = np.random.randint(0, 10, size = nrow ** 2).reshape(nrow, nrow)\n",
    "    for i in range(10):\n",
    "        a = _simpleeditsim(mat1, mat2)\n",
    "        print(a)"
   ]
  },
  {
   "cell_type": "code",
   "execution_count": 33,
   "metadata": {},
   "outputs": [
    {
     "name": "stdout",
     "output_type": "stream",
     "text": [
      "22.5 ns ± 0.166 ns per loop (mean ± std. dev. of 7 runs, 10000000 loops each)\n"
     ]
    }
   ],
   "source": [
    "%%timeit\n",
    "profile_simpleeditsim"
   ]
  },
  {
   "cell_type": "markdown",
   "metadata": {},
   "source": [
    "## 動作テスト"
   ]
  },
  {
   "cell_type": "code",
   "execution_count": 6,
   "metadata": {},
   "outputs": [],
   "source": [
    "# A: 1-th col, T: 0-th col\n",
    "# ATATATAT and\n",
    "#  TATA AT\n",
    "mat1 = np.array([\n",
    "    [0, 1, 0, 1, 0, 1, 0, 1],\n",
    "    [1, 0, 1, 0, 1, 0, 1, 0]\n",
    "])\n",
    "\n",
    "mat2 = np.array([\n",
    "    [1, 0, 1, 0, 0, 1],\n",
    "    [0, 1, 0, 1, 1, 0]\n",
    "])"
   ]
  },
  {
   "cell_type": "code",
   "execution_count": 9,
   "metadata": {},
   "outputs": [
    {
     "ename": "NameError",
     "evalue": "name '_simpleeditsim_withbp' is not defined",
     "output_type": "error",
     "traceback": [
      "\u001b[0;31m---------------------------------------------------------------------------\u001b[0m",
      "\u001b[0;31mNameError\u001b[0m                                 Traceback (most recent call last)",
      "\u001b[0;32m<ipython-input-9-7c7e49a837b9>\u001b[0m in \u001b[0;36m<module>\u001b[0;34m()\u001b[0m\n\u001b[0;32m----> 1\u001b[0;31m \u001b[0mdp\u001b[0m\u001b[0;34m,\u001b[0m \u001b[0mbp\u001b[0m \u001b[0;34m=\u001b[0m \u001b[0m_simpleeditsim_withbp\u001b[0m\u001b[0;34m(\u001b[0m\u001b[0mmat1\u001b[0m\u001b[0;34m,\u001b[0m \u001b[0mmat2\u001b[0m\u001b[0;34m)\u001b[0m\u001b[0;34m\u001b[0m\u001b[0m\n\u001b[0m\u001b[1;32m      2\u001b[0m \u001b[0mprint\u001b[0m\u001b[0;34m(\u001b[0m\u001b[0mbp\u001b[0m\u001b[0;34m)\u001b[0m\u001b[0;34m\u001b[0m\u001b[0m\n\u001b[1;32m      3\u001b[0m \u001b[0m_simpleeditsim_tracebp\u001b[0m\u001b[0;34m(\u001b[0m\u001b[0mbp\u001b[0m\u001b[0;34m,\u001b[0m \u001b[0mmat1\u001b[0m\u001b[0;34m,\u001b[0m \u001b[0mmat2\u001b[0m\u001b[0;34m)\u001b[0m\u001b[0;34m\u001b[0m\u001b[0m\n",
      "\u001b[0;31mNameError\u001b[0m: name '_simpleeditsim_withbp' is not defined"
     ]
    }
   ],
   "source": [
    "dp, bp = _simpleeditsim_withbp(mat1, mat2)\n",
    "print(bp)\n",
    "_simpleeditsim_tracebp(bp, mat1, mat2)"
   ]
  },
  {
   "cell_type": "code",
   "execution_count": 141,
   "metadata": {},
   "outputs": [],
   "source": [
    "# ATATATAT and\n",
    "#  TATA AT\n",
    "mat1 = np.array([\n",
    "    [0, 1, 0, 1, 0, 1, 0, 1],\n",
    "    [1, 0, 1, 0, 1, 0, 1, 0]\n",
    "])\n",
    "\n",
    "mat2 = np.array([\n",
    "    [1, 0, 1, 0, 0, 1],\n",
    "    [0, 1, 0, 1, 1, 0]\n",
    "])"
   ]
  },
  {
   "cell_type": "markdown",
   "metadata": {},
   "source": [
    "# Profiling"
   ]
  },
  {
   "cell_type": "code",
   "execution_count": 10,
   "metadata": {},
   "outputs": [],
   "source": [
    "nrow = 10\n",
    "mat1 = np.random.randint(0, 10, size = nrow ** 2).reshape(nrow, nrow)\n",
    "mat2 = np.random.randint(0, 10, size = nrow ** 2).reshape(nrow, nrow)"
   ]
  },
  {
   "cell_type": "code",
   "execution_count": 12,
   "metadata": {},
   "outputs": [
    {
     "name": "stdout",
     "output_type": "stream",
     "text": [
      "Overwriting profile_editsim_draft.py\n"
     ]
    }
   ],
   "source": [
    "%%writefile profile_editsim_draft.py\n",
    "import numpy as np\n",
    "from editsim_draft import *\n",
    "def profile():\n",
    "    nrow = 10\n",
    "    mat1 = np.random.randint(0, 10, size = nrow ** 2).reshape(nrow, nrow)\n",
    "    mat2 = np.random.randint(0, 10, size = nrow ** 2).reshape(nrow, nrow)\n",
    "    for i in range(10):\n",
    "        a = editsim(mat1, mat2)"
   ]
  },
  {
   "cell_type": "code",
   "execution_count": 28,
   "metadata": {},
   "outputs": [
    {
     "name": "stdout",
     "output_type": "stream",
     "text": [
      "\n",
      "*** Profile printout saved to text file 'report.log'. \n",
      "Timer unit: 1e-06 s\n",
      "\n"
     ]
    },
    {
     "data": {
      "text/plain": [
       "Timer unit: 1e-06 s\n",
       "\n",
       "Total time: 0.036256 s\n",
       "File: /Users/kei/Projects/spykesim/drafts/editsim_draft.py\n",
       "Function: _simpleeditsim at line 4\n",
       "\n",
       "Line #      Hits         Time  Per Hit   % Time  Line Contents\n",
       "==============================================================\n",
       "     4                                           def _simpleeditsim(mat1, mat2):\n",
       "     5        10         12.0      1.2      0.0      nrow = mat1.shape[1]\n",
       "     6        10          7.0      0.7      0.0      ncol = mat2.shape[1]\n",
       "     7        10         30.0      3.0      0.1      dp_table = np.zeros((nrow+1, ncol+1))\n",
       "     8       110         60.0      0.5      0.2      for col1 in range(nrow):\n",
       "     9      1100       1028.0      0.9      2.8          for col2 in range(ncol):\n",
       "    10      1000       9366.0      9.4     25.8              match = np.dot(mat1[:, col1], mat2[:, col2])\n",
       "    11      1000        943.0      0.9      2.6              dp_table[col1 + 1, col2 + 1] = np.max([\n",
       "    12      1000        982.0      1.0      2.7                  dp_table[col1, col2 + 1],\n",
       "    13      1000        631.0      0.6      1.7                  dp_table[col1 + 1, col2],\n",
       "    14      1000      23189.0     23.2     64.0                  dp_table[col1, col2] + match])\n",
       "    15        10          8.0      0.8      0.0      return dp_table[-1, -1]"
      ]
     },
     "metadata": {},
     "output_type": "display_data"
    }
   ],
   "source": [
    "import sys\n",
    "import editsim_draft\n",
    "from pathlib import Path\n",
    "%lprun -T report.log -f editsim_draft._simpleeditsim editsim_draft.profile()\n",
    "with Path(\"report.log\").open( ) as rf: print(rf.readline())"
   ]
  },
  {
   "cell_type": "code",
   "execution_count": 23,
   "metadata": {},
   "outputs": [],
   "source": [
    "editsim_draft.profile()"
   ]
  },
  {
   "cell_type": "code",
   "execution_count": null,
   "metadata": {},
   "outputs": [],
   "source": [
    "def ceval_edit_dist(fragment1, fragment2, dp_table, jitter, score_vec):\n",
    "    return ceval_edit_dist_virtual(fragment1.astype(np.int32), fragment2.astype(np.int32), dp_table.astype(np.float32), jitter, \n",
    "                                 score_vec.astype(np.int32))\n",
    "def ceval_edit_dist_virtual(np.ndarray[np.int32_t, ndim=2] mat1, np.ndarray[np.int32_t, ndim=2] mat2, np.ndarray[np.float32_t, ndim=2] dp_table, int jitter, \n",
    "                   np.ndarray[np.int32_t, ndim=1] score_vec):\n",
    "    cdef int nrow = mat1.shape[0]\n",
    "    cdef int ncol = mat1.shape[1]\n",
    "    cdef int col1, col2\n",
    "    cdef int row\n",
    "    cdef float match=0\n",
    "    cdef float disim\n",
    "    for col1 in range(ncol):\n",
    "        for col2 in range(int_max(0, col1-jitter), int_min(col1+jitter, ncol)):\n",
    "            match = 0\n",
    "            # calculate inner product\n",
    "            for row in range(nrow):\n",
    "                match += mat1[row, col1] * mat2[row, col2]\n",
    "                match /= score_vec[row] + 1\n",
    "            disim = nrow -  match\n",
    "            # idx 0 : ←, 1 : ↑, 2, ↖\n",
    "            dp_table[col1+1, col2+1] = float_min(dp_table[col1][col2+1]+nrow, dp_table[col1+1][col2]+nrow, dp_table[col1][col2]+disim)\n",
    "    return dp_table[-1, -1]"
   ]
  }
 ],
 "metadata": {
  "kernelspec": {
   "display_name": "Python 3",
   "language": "python",
   "name": "python3"
  },
  "language_info": {
   "codemirror_mode": {
    "name": "ipython",
    "version": 3
   },
   "file_extension": ".py",
   "mimetype": "text/x-python",
   "name": "python",
   "nbconvert_exporter": "python",
   "pygments_lexer": "ipython3",
   "version": "3.6.2"
  }
 },
 "nbformat": 4,
 "nbformat_minor": 2
}
