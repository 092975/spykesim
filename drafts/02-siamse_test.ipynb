{
 "cells": [
  {
   "cell_type": "markdown",
   "metadata": {
    "deletable": true,
    "editable": true
   },
   "source": [
    "# Siamese Address Similarity with TensorFlow\n",
    "--------------------------\n",
    "\n",
    "Here, we show how to perform address matching with a Siamese RNN model.\n",
    "\n",
    "We start by loading the necessary libraries."
   ]
  },
  {
   "cell_type": "code",
   "execution_count": 16,
   "metadata": {
    "collapsed": false,
    "deletable": true,
    "editable": true
   },
   "outputs": [],
   "source": [
    "import os\n",
    "import random\n",
    "import string\n",
    "import numpy as np\n",
    "import matplotlib.pyplot as plt\n",
    "import tensorflow as tf\n",
    "from tensorflow.python.framework import ops\n",
    "ops.reset_default_graph()\n",
    "\n",
    "model = __import__('siamese_similarity_model')"
   ]
  },
  {
   "cell_type": "markdown",
   "metadata": {
    "deletable": true,
    "editable": true
   },
   "source": [
    "Start a graph session"
   ]
  },
  {
   "cell_type": "code",
   "execution_count": 17,
   "metadata": {
    "collapsed": true,
    "deletable": true,
    "editable": true
   },
   "outputs": [],
   "source": [
    "sess = tf.Session()"
   ]
  },
  {
   "cell_type": "markdown",
   "metadata": {
    "deletable": true,
    "editable": true
   },
   "source": [
    "Set the model parameters."
   ]
  },
  {
   "cell_type": "code",
   "execution_count": 18,
   "metadata": {
    "collapsed": true,
    "deletable": true,
    "editable": true
   },
   "outputs": [],
   "source": [
    "batch_size = 200     # How many addresses to train on in one batch\n",
    "n_batches = 300      # How many batches to train on\n",
    "max_address_len = 20 # How many character to crop/pad each address\n",
    "margin = 0.25        # A sort of regularization parameter that allows for 'wiggle' room in bad predicted similarities.\n",
    "num_features = 50    # RNN feature size\n",
    "dropout_keep_prob = 0.8 # Dropout probability"
   ]
  },
  {
   "cell_type": "markdown",
   "metadata": {
    "deletable": true,
    "editable": true
   },
   "source": [
    "We need a function to randomly create one typo in a string."
   ]
  },
  {
   "cell_type": "code",
   "execution_count": 19,
   "metadata": {
    "collapsed": true,
    "deletable": true,
    "editable": true
   },
   "outputs": [],
   "source": [
    "def create_typo(s):\n",
    "    rand_ind = random.choice(range(len(s)))\n",
    "    s_list = list(s)\n",
    "    s_list[rand_ind]=random.choice(string.ascii_lowercase + '0123456789')\n",
    "    s = ''.join(s_list)\n",
    "    return(s)\n",
    "\n",
    "# Generate data\n",
    "street_names = ['abbey', 'baker', 'canal', 'donner', 'elm', 'fifth',\n",
    "                'grandvia', 'hollywood', 'interstate', 'jay', 'kings']\n",
    "street_types = ['rd', 'st', 'ln', 'pass', 'ave', 'hwy', 'cir', 'dr', 'jct']\n",
    "\n",
    "# Define test addresses\n",
    "test_queries = ['111 abbey ln', '271 doner cicle',\n",
    "                '314 king avenue', 'tensorflow is fun']\n",
    "test_references = ['123 abbey ln', '217 donner cir', '314 kings ave',\n",
    "                   '404 hollywood st', 'tensorflow is so fun']"
   ]
  },
  {
   "cell_type": "markdown",
   "metadata": {
    "deletable": true,
    "editable": true
   },
   "source": [
    "Get a batch of size n, half of which is similar addresses, half are not"
   ]
  },
  {
   "cell_type": "code",
   "execution_count": 20,
   "metadata": {
    "collapsed": true,
    "deletable": true,
    "editable": true
   },
   "outputs": [],
   "source": [
    "def get_batch(n):\n",
    "    # Generate a list of reference addresses with similar addresses that have\n",
    "    # a typo.\n",
    "    numbers = [random.randint(1, 9999) for i in range(n)]\n",
    "    streets = [random.choice(street_names) for i in range(n)]\n",
    "    street_suffs = [random.choice(street_types) for i in range(n)]\n",
    "    full_streets = [str(w) + ' ' + x + ' ' + y for w,x,y in zip(numbers, streets, street_suffs)]\n",
    "    typo_streets = [create_typo(x) for x in full_streets]\n",
    "    reference = [list(x) for x in zip(full_streets, typo_streets)]\n",
    "    \n",
    "    # Shuffle last half of them for training on dissimilar addresses\n",
    "    half_ix = int(n/2)\n",
    "    bottom_half = reference[half_ix:]\n",
    "    true_address = [x[0] for x in bottom_half]\n",
    "    typo_address = [x[1] for x in bottom_half]\n",
    "    typo_address = list(np.roll(typo_address, 1))\n",
    "    bottom_half = [[x,y] for x,y in zip(true_address, typo_address)]\n",
    "    reference[half_ix:] = bottom_half\n",
    "    \n",
    "    # Get target similarities (1's for similar, -1's for non-similar)\n",
    "    target = [1]*(n-half_ix) + [-1]*half_ix\n",
    "    reference = [[x,y] for x,y in zip(reference, target)]\n",
    "    return(reference)"
   ]
  },
  {
   "cell_type": "code",
   "execution_count": 46,
   "metadata": {},
   "outputs": [
    {
     "data": {
      "text/plain": [
       "[[['5184 donner ave', '518j donner ave'], 1],\n",
       " [['2834 baker hwy', '4834 baker hwy'], 1],\n",
       " [['7532 grandvia dr', '20x abbey jct'], -1],\n",
       " [['204 abbey jct', '7532 rrandvia dr'], -1]]"
      ]
     },
     "execution_count": 46,
     "metadata": {},
     "output_type": "execute_result"
    }
   ],
   "source": [
    "get_batch(4)"
   ]
  },
  {
   "cell_type": "markdown",
   "metadata": {
    "deletable": true,
    "editable": true
   },
   "source": [
    "Define vocabulary dictionary (remember to save '0' for padding)"
   ]
  },
  {
   "cell_type": "code",
   "execution_count": 21,
   "metadata": {
    "collapsed": true,
    "deletable": true,
    "editable": true
   },
   "outputs": [],
   "source": [
    "vocab_chars = string.ascii_lowercase + '0123456789 '\n",
    "vocab2ix_dict = {char:(ix+1) for ix, char in enumerate(vocab_chars)}\n",
    "vocab_length = len(vocab_chars) + 1"
   ]
  },
  {
   "cell_type": "markdown",
   "metadata": {
    "deletable": true,
    "editable": true
   },
   "source": [
    "Define vocab one-hot encoding.  Here we get the actual indices for usage in the embedding lookup."
   ]
  },
  {
   "cell_type": "code",
   "execution_count": 22,
   "metadata": {
    "collapsed": true,
    "deletable": true,
    "editable": true
   },
   "outputs": [],
   "source": [
    "def address2onehot(address,\n",
    "                   vocab2ix_dict = vocab2ix_dict,\n",
    "                   max_address_len = max_address_len):\n",
    "    # translate address string into indices\n",
    "    address_ix = [vocab2ix_dict[x] for x in list(address)]\n",
    "\n",
    "    # Pad or crop to max_address_len\n",
    "    address_ix = (address_ix + [0]*max_address_len)[0:max_address_len]\n",
    "    return(address_ix)"
   ]
  },
  {
   "cell_type": "markdown",
   "metadata": {
    "deletable": true,
    "editable": true
   },
   "source": [
    "Now we define model placeholders."
   ]
  },
  {
   "cell_type": "code",
   "execution_count": 23,
   "metadata": {
    "collapsed": true,
    "deletable": true,
    "editable": true
   },
   "outputs": [],
   "source": [
    "address1_ph = tf.placeholder(tf.int32, [None, max_address_len], name=\"address1_ph\")\n",
    "address2_ph = tf.placeholder(tf.int32, [None, max_address_len], name=\"address2_ph\")\n",
    "\n",
    "y_target_ph = tf.placeholder(tf.int32, [None], name=\"y_target_ph\")\n",
    "dropout_keep_prob_ph = tf.placeholder(tf.float32, name=\"dropout_keep_prob\")"
   ]
  },
  {
   "cell_type": "markdown",
   "metadata": {
    "deletable": true,
    "editable": true
   },
   "source": [
    "Create embedding lookup. Here we use the identidy matrix so that we have a one-hot encoded lookup."
   ]
  },
  {
   "cell_type": "code",
   "execution_count": 24,
   "metadata": {
    "collapsed": true,
    "deletable": true,
    "editable": true
   },
   "outputs": [],
   "source": [
    "identity_mat = tf.diag(tf.ones(shape=[vocab_length]))\n",
    "address1_embed = tf.nn.embedding_lookup(identity_mat, address1_ph)\n",
    "address2_embed = tf.nn.embedding_lookup(identity_mat, address2_ph)"
   ]
  },
  {
   "cell_type": "markdown",
   "metadata": {
    "deletable": true,
    "editable": true
   },
   "source": [
    "Now we define the model.  Please see the `06_siamese_similarity_model.py` for details."
   ]
  },
  {
   "cell_type": "code",
   "execution_count": 25,
   "metadata": {
    "collapsed": false,
    "deletable": true,
    "editable": true
   },
   "outputs": [],
   "source": [
    "# Define Model\n",
    "text_snn = model.snn(address1_embed, address2_embed, dropout_keep_prob_ph,\n",
    "                     vocab_length, num_features, max_address_len)"
   ]
  },
  {
   "cell_type": "markdown",
   "metadata": {
    "deletable": true,
    "editable": true
   },
   "source": [
    "Now we can define our accuracy, loss, and prediction functions.  These come from the `06_siamese_similarity_model.py` model function."
   ]
  },
  {
   "cell_type": "code",
   "execution_count": 26,
   "metadata": {
    "collapsed": false,
    "deletable": true,
    "editable": true
   },
   "outputs": [],
   "source": [
    "# Define Accuracy\n",
    "batch_accuracy = model.accuracy(text_snn, y_target_ph)\n",
    "# Define Loss\n",
    "batch_loss = model.loss(text_snn, y_target_ph, margin)\n",
    "# Define Predictions\n",
    "predictions = model.get_predictions(text_snn)"
   ]
  },
  {
   "cell_type": "markdown",
   "metadata": {
    "deletable": true,
    "editable": true
   },
   "source": [
    "We declare our optimizer, training operation, and variable initialization."
   ]
  },
  {
   "cell_type": "code",
   "execution_count": 27,
   "metadata": {
    "collapsed": true,
    "deletable": true,
    "editable": true
   },
   "outputs": [],
   "source": [
    "# Declare optimizer\n",
    "optimizer = tf.train.AdamOptimizer(0.01)\n",
    "# Apply gradients\n",
    "train_op = optimizer.minimize(batch_loss)\n",
    "\n",
    "# Initialize Variables\n",
    "init = tf.global_variables_initializer()\n",
    "sess.run(init)"
   ]
  },
  {
   "cell_type": "markdown",
   "metadata": {
    "deletable": true,
    "editable": true
   },
   "source": [
    "Now we loop through our training iterations and print out convergence statistics every 10 generations."
   ]
  },
  {
   "cell_type": "code",
   "execution_count": 28,
   "metadata": {
    "collapsed": false,
    "deletable": true,
    "editable": true
   },
   "outputs": [
    {
     "name": "stdout",
     "output_type": "stream",
     "text": [
      "Training Metrics, Batch 0: Loss=0.653, Accuracy=0.500.\n",
      "Training Metrics, Batch 10: Loss=0.051, Accuracy=0.700.\n",
      "Training Metrics, Batch 20: Loss=0.100, Accuracy=0.705.\n",
      "Training Metrics, Batch 30: Loss=0.046, Accuracy=0.750.\n",
      "Training Metrics, Batch 40: Loss=0.003, Accuracy=0.780.\n",
      "Training Metrics, Batch 50: Loss=0.001, Accuracy=0.750.\n",
      "Training Metrics, Batch 60: Loss=0.020, Accuracy=0.745.\n",
      "Training Metrics, Batch 70: Loss=0.047, Accuracy=0.715.\n",
      "Training Metrics, Batch 80: Loss=-0.015, Accuracy=0.750.\n",
      "Training Metrics, Batch 90: Loss=-0.009, Accuracy=0.745.\n",
      "Training Metrics, Batch 100: Loss=-0.001, Accuracy=0.760.\n",
      "Training Metrics, Batch 110: Loss=0.028, Accuracy=0.730.\n",
      "Training Metrics, Batch 120: Loss=0.011, Accuracy=0.785.\n",
      "Training Metrics, Batch 130: Loss=-0.005, Accuracy=0.810.\n",
      "Training Metrics, Batch 140: Loss=-0.028, Accuracy=0.765.\n",
      "Training Metrics, Batch 150: Loss=0.014, Accuracy=0.780.\n",
      "Training Metrics, Batch 160: Loss=-0.022, Accuracy=0.785.\n",
      "Training Metrics, Batch 170: Loss=-0.030, Accuracy=0.785.\n",
      "Training Metrics, Batch 180: Loss=0.024, Accuracy=0.740.\n",
      "Training Metrics, Batch 190: Loss=-0.001, Accuracy=0.755.\n",
      "Training Metrics, Batch 200: Loss=-0.020, Accuracy=0.775.\n",
      "Training Metrics, Batch 210: Loss=-0.021, Accuracy=0.770.\n",
      "Training Metrics, Batch 220: Loss=-0.000, Accuracy=0.745.\n",
      "Training Metrics, Batch 230: Loss=-0.033, Accuracy=0.745.\n",
      "Training Metrics, Batch 240: Loss=-0.022, Accuracy=0.800.\n",
      "Training Metrics, Batch 250: Loss=0.040, Accuracy=0.730.\n",
      "Training Metrics, Batch 260: Loss=-0.008, Accuracy=0.745.\n",
      "Training Metrics, Batch 270: Loss=-0.040, Accuracy=0.800.\n",
      "Training Metrics, Batch 280: Loss=-0.004, Accuracy=0.760.\n",
      "Training Metrics, Batch 290: Loss=-0.009, Accuracy=0.730.\n"
     ]
    }
   ],
   "source": [
    "# Train loop\n",
    "train_loss_vec = []\n",
    "train_acc_vec = []\n",
    "for b in range(n_batches):\n",
    "    # Get a batch of data\n",
    "    batch_data = get_batch(batch_size)\n",
    "    # Shuffle data\n",
    "    np.random.shuffle(batch_data)\n",
    "    # Parse addresses and targets\n",
    "    input_addresses = [x[0] for x in batch_data]\n",
    "    target_similarity = np.array([x[1] for x in batch_data])\n",
    "    address1 = np.array([address2onehot(x[0]) for x in input_addresses])\n",
    "    address2 = np.array([address2onehot(x[1]) for x in input_addresses])\n",
    "    \n",
    "    train_feed_dict = {address1_ph: address1,\n",
    "                       address2_ph: address2,\n",
    "                       y_target_ph: target_similarity,\n",
    "                       dropout_keep_prob_ph: dropout_keep_prob}\n",
    "\n",
    "    _, train_loss, train_acc = sess.run([train_op, batch_loss, batch_accuracy],\n",
    "                                        feed_dict=train_feed_dict)\n",
    "    # Save train loss and accuracy\n",
    "    train_loss_vec.append(train_loss)\n",
    "    train_acc_vec.append(train_acc)\n",
    "    # Print out statistics\n",
    "    if b%10==0:\n",
    "        print('Training Metrics, Batch {0}: Loss={1:.3f}, Accuracy={2:.3f}.'.format(b, train_loss, train_acc))"
   ]
  },
  {
   "cell_type": "markdown",
   "metadata": {
    "deletable": true,
    "editable": true
   },
   "source": [
    "Let us test the algorithm on the test set of addresses."
   ]
  },
  {
   "cell_type": "code",
   "execution_count": 45,
   "metadata": {
    "collapsed": false,
    "deletable": true,
    "editable": true
   },
   "outputs": [
    {
     "name": "stdout",
     "output_type": "stream",
     "text": [
      "tout: [ 0.98493505 -0.07089555  0.14957491 -0.19291267 -0.28293544]\n",
      "tout: [-0.10951525  0.96771681 -0.37090081  0.39070976  0.71320361]\n",
      "tout: [ 0.236927   -0.37360039  0.95761704 -0.29050037 -0.17723504]\n",
      "tout: [-0.23360541  0.82287937 -0.26481262  0.46136814  0.94131815]\n",
      "Query Addresses: ['111 abbey ln', '271 doner cicle', '314 king avenue', 'tensorflow is fun']\n",
      "Model Found Matches: ['123 abbey ln', '217 donner cir', '314 kings ave', 'tensorflow is so fun']\n"
     ]
    }
   ],
   "source": [
    "# Calculate the nearest addresses for test inputs\n",
    "# First process the test_queries and test_references\n",
    "test_queries_ix = np.array([address2onehot(x) for x in test_queries])\n",
    "test_references_ix = np.array([address2onehot(x) for x in test_references])\n",
    "num_refs = test_references_ix.shape[0]\n",
    "best_fit_refs = []\n",
    "for query in test_queries_ix:\n",
    "    test_query = np.repeat(np.array([query]), num_refs, axis=0)\n",
    "    test_feed_dict = {address1_ph: test_query,\n",
    "                      address2_ph: test_references_ix,\n",
    "                      y_target_ph: target_similarity,\n",
    "                      dropout_keep_prob_ph: 1.0}\n",
    "    test_out = sess.run(text_snn, feed_dict=test_feed_dict)\n",
    "    print(\"tout:\", test_out)\n",
    "    best_fit = test_references[np.argmax(test_out)]\n",
    "    best_fit_refs.append(best_fit)\n",
    "\n",
    "print('Query Addresses: {}'.format(test_queries))\n",
    "print('Model Found Matches: {}'.format(best_fit_refs))"
   ]
  },
  {
   "cell_type": "markdown",
   "metadata": {
    "deletable": true,
    "editable": true
   },
   "source": [
    "This is great! The model generalizes to strings that aren't even addresses!!\n",
    "\n",
    "Now let us plot the loss and accuracy."
   ]
  },
  {
   "cell_type": "code",
   "execution_count": 15,
   "metadata": {
    "collapsed": false,
    "deletable": true,
    "editable": true
   },
   "outputs": [
    {
     "data": {
      "image/png": "[encoded data removed]",
      "text/plain": [
       "<matplotlib.figure.Figure at 0x7f12da7c7400>"
      ]
     },
     "metadata": {},
     "output_type": "display_data"
    }
   ],
   "source": [
    "# Plot the loss and accuracy\n",
    "%matplotlib inline\n",
    "plt.plot(train_loss_vec, 'k-', lw=2, label='Batch Loss')\n",
    "plt.plot(train_acc_vec, 'r:', label='Batch Accuracy')\n",
    "plt.xlabel('Iterations')\n",
    "plt.ylabel('Accuracy and Loss')\n",
    "plt.title('Accuracy and Loss of Siamese RNN')\n",
    "plt.grid()\n",
    "plt.legend(loc='lower right')\n",
    "plt.show()"
   ]
  },
  {
   "cell_type": "code",
   "execution_count": null,
   "metadata": {},
   "outputs": [],
   "source": []
  }
 ],
 "metadata": {
  "kernelspec": {
   "display_name": "Python 3",
   "language": "python",
   "name": "python3"
  },
  "language_info": {
   "codemirror_mode": {
    "name": "ipython",
    "version": 3
   },
   "file_extension": ".py",
   "mimetype": "text/x-python",
   "name": "python",
   "nbconvert_exporter": "python",
   "pygments_lexer": "ipython3",
   "version": "3.6.2"
  }
 },
 "nbformat": 4,
 "nbformat_minor": 2
}
