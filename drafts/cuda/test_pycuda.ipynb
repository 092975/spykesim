{
 "cells": [
  {
   "cell_type": "code",
   "execution_count": null,
   "metadata": {},
   "outputs": [],
   "source": [
    "mod = SourceModule(\"\"\"\n",
    "__global__ void get_row_indices(uint* )\n",
    "{\n",
    "    int pos_y = threadIdx.y + blockDim.y * blockIdx.y; // 画像のy方向の位置を取得。\n",
    "    int pos_x = threadIdx.x + blockDim.x * blockIdx.x; // 画像のx方向の位置を取得。\n",
    "\n",
    "    int idx = pos_y * height + pos_x; // 内部では1次元配列化しているので、インデックスはこのようになる\n",
    "\n",
    "    image[idx] = 255 - image[idx];  //画素値を反転\n",
    "}\n",
    "\"\"\")\n"
   ]
  },
  {
   "cell_type": "code",
   "execution_count": 22,
   "metadata": {},
   "outputs": [],
   "source": [
    "import pycuda.autoinit\n",
    "import pycuda.driver as cuda\n",
    "from pycuda.compiler import SourceModule\n",
    "from pycuda import gpuarray\n",
    "import numpy as np\n",
    "from PIL import Image"
   ]
  },
  {
   "cell_type": "code",
   "execution_count": null,
   "metadata": {},
   "outputs": [],
   "source": [
    "def _generate_signature_matrix_cpu(numhash, numband, bandwidth, data):\n",
    "    signature_matrix = np.zeros((numhash, data.shape[1]))\n",
    "    for row in range(numhash):\n",
    "        for col in range(data.shape[1]):\n",
    "            idsets = np.where(data[:, col] >= 1)[0]\n",
    "            if len(idsets) > 0: \n",
    "                signature_matrix[row, col] = minhash(idsets, seed = row)\n",
    "            else:\n",
    "                signature_matrix[row, col] = hash_fn(3511 * col, seed = row)\n",
    "    return signature_matrix\n"
   ]
  },
  {
   "cell_type": "code",
   "execution_count": 95,
   "metadata": {},
   "outputs": [],
   "source": [
    "#\n",
    "# 以下CUDAカーネル\n",
    "#\n",
    "\n",
    "mod = SourceModule(\"\"\"\n",
    "__global__ void negative(unsigned char *image, int height, int width)\n",
    "{\n",
    "    int pos_y = threadIdx.y + blockDim.y * blockIdx.y; // 画像のy方向の位置を取得。\n",
    "    int pos_x = threadIdx.x + blockDim.x * blockIdx.x; // 画像のx方向の位置を取得。\n",
    "\n",
    "    int idx = pos_y * height + pos_x; // 内部では1次元配列化しているので、インデックスはこのようになる\n",
    "\n",
    "    image[idx] = 255 - image[idx];  //画素値を反転\n",
    "}\n",
    "\"\"\")\n",
    "\n",
    "\n",
    "#\n",
    "# 画像の読みこみ\n",
    "#\n",
    "pil_image = Image.open(\"./lena_gray.png\")   # 画像の読み込み\n",
    "image = np.array(pil_image, np.uint8)       # PIL Image型からnumpy arrayに変換。\n",
    "\n",
    "height, width = image.shape[:2] # 今回は512x512pxの画像を利用\n",
    "\n",
    "#\n",
    "# CUDA周りの準備\n",
    "#\n",
    "cuda_kernel = mod.get_function(\"negative\")  # 上で定義したカーネルを呼び出す\n",
    "\n",
    "block   = (512, 1, 1)                       # Block size (後述) \n",
    "grid    = (512, 1, 1)                      # Grid size (後述)\n",
    "\n",
    "\n",
    "#\n",
    "# カーネルを実行\n",
    "#\n",
    "cuda_kernel(cuda.InOut(image),              # imageを参照渡しする。\n",
    "            np.int32(height),               # int型定数はnumpyで明示的に型を定義する\n",
    "            np.int32(width), \n",
    "            block=block, grid=grid)         # BlockとGridも引数として与える\n",
    "\n",
    "#\n",
    "# 処理後の画像を保存\n",
    "#\n",
    "pil_output_image = Image.fromarray(image)\n",
    "pil_output_image.save(\"out.png\")"
   ]
  },
  {
   "cell_type": "code",
   "execution_count": 99,
   "metadata": {},
   "outputs": [],
   "source": [
    "def negative_cpu(image):\n",
    "    for row in range(image.shape[0]):\n",
    "        for col in range(image.shape[1]):\n",
    "            image[row, col] = -image[row, col]\n",
    "    return image"
   ]
  },
  {
   "cell_type": "code",
   "execution_count": 100,
   "metadata": {},
   "outputs": [
    {
     "name": "stdout",
     "output_type": "stream",
     "text": [
      "92.8 ms ± 525 µs per loop (mean ± std. dev. of 7 runs, 10 loops each)\n"
     ]
    }
   ],
   "source": [
    "%%timeit\n",
    "negative_cpu(image)"
   ]
  },
  {
   "cell_type": "code",
   "execution_count": 96,
   "metadata": {},
   "outputs": [
    {
     "name": "stdout",
     "output_type": "stream",
     "text": [
      "4.83 ms ± 6.67 µs per loop (mean ± std. dev. of 7 runs, 100 loops each)\n"
     ]
    }
   ],
   "source": [
    "%%timeit\n",
    "#\n",
    "# CUDA周りの準備\n",
    "#\n",
    "cuda_kernel = mod.get_function(\"negative\")  # 上で定義したカーネルを呼び出す\n",
    "\n",
    "block   = (512, 1, 1)                       # Block size (後述) \n",
    "grid    = (512, 1, 1)                      # Grid size (後述)\n",
    "\n",
    "\n",
    "#\n",
    "# カーネルを実行\n",
    "#\n",
    "cuda_kernel(cuda.InOut(image),              # imageを参照渡しする。\n",
    "            np.int32(height),               # int型定数はnumpyで明示的に型を定義する\n",
    "            np.int32(width), \n",
    "            block=block, grid=grid)         # BlockとGridも引数として与える\n",
    "\n",
    "\n",
    "# #\n",
    "# # 処理後の画像を保存\n",
    "# #\n",
    "# pil_output_image = Image.fromarray(image)\n",
    "# pil_output_image.save(\"out.png\")"
   ]
  },
  {
   "cell_type": "code",
   "execution_count": 94,
   "metadata": {},
   "outputs": [],
   "source": [
    "mod = SourceModule(\"\"\"\n",
    "#include <stdio.h>\n",
    "#include <cuda.h>\n",
    "#include <cublas.h>\n",
    "#define UINT4 uint\n",
    "\n",
    "/* F, G and H are basic MD5 functions: selection, majority, parity */\n",
    "\n",
    "#define F(x, y, z) (((x) & (y)) | ((~x) & (z)))\n",
    "#define G(x, y, z) (((x) & (z)) | ((y) & (~z)))\n",
    "#define H(x, y, z) ((x) ^ (y) ^ (z))\n",
    "#define I(x, y, z) ((y) ^ ((x) | (~z))) \n",
    "\n",
    "/* ROTATE_LEFT rotates x left n bits */\n",
    "#define ROTATE_LEFT(x, n) (((x) << (n)) | ((x) >> (32-(n))))\n",
    "\n",
    "/* FF, GG, HH, and II transformations for rounds 1, 2, 3, and 4 */\n",
    "/* Rotation is separate from addition to prevent recomputation */\n",
    "#define FF(a, b, c, d, x, s, ac) \\\n",
    "  {(a) += F ((b), (c), (d)) + (x) + (UINT4)(ac); \\\n",
    "   (a) = ROTATE_LEFT ((a), (s)); \\\n",
    "   (a) += (b); \\\n",
    "  }\n",
    "\n",
    "#define GG(a, b, c, d, x, s, ac) \\\n",
    "  {(a) += G ((b), (c), (d)) + (x) + (UINT4)(ac); \\\n",
    "   (a) = ROTATE_LEFT ((a), (s)); \\\n",
    "   (a) += (b); \\\n",
    "  }\n",
    "\n",
    "#define HH(a, b, c, d, x, s, ac) \\\n",
    "  {(a) += H ((b), (c), (d)) + (x) + (UINT4)(ac); \\\n",
    "   (a) = ROTATE_LEFT ((a), (s)); \\\n",
    "   (a) += (b); \\\n",
    "  }\n",
    "\n",
    "#define II(a, b, c, d, x, s, ac) \\\n",
    "  {(a) += I ((b), (c), (d)) + (x) + (UINT4)(ac); \\\n",
    "   (a) = ROTATE_LEFT ((a), (s)); \\\n",
    "   (a) += (b); \\\n",
    "  }\n",
    "\n",
    "__global__ void md5(uint *in, uint *hash) {\n",
    "uint a, b, c, d;\n",
    "\n",
    "const uint a0 = 0x67452301;\n",
    "const uint b0 = 0xEFCDAB89;\n",
    "const uint c0 = 0x98BADCFE;\n",
    "const uint d0 = 0x10325476;\n",
    "\n",
    "    a = a0;\n",
    "    b = b0;\n",
    "    c = c0;\n",
    "    d = d0;\n",
    "\n",
    "  /* Round 1 */\n",
    "#define S11 7\n",
    "#define S12 12\n",
    "#define S13 17\n",
    "#define S14 22\n",
    "  FF ( a, b, c, d, in[ 0], S11, 3614090360); /* 1 */\n",
    "  FF ( d, a, b, c, in[ 1], S12, 3905402710); /* 2 */\n",
    "  FF ( c, d, a, b, in[ 2], S13,  606105819); /* 3 */\n",
    "  FF ( b, c, d, a, in[ 3], S14, 3250441966); /* 4 */\n",
    "  FF ( a, b, c, d, in[ 4], S11, 4118548399); /* 5 */\n",
    "  FF ( d, a, b, c, in[ 5], S12, 1200080426); /* 6 */\n",
    "  FF ( c, d, a, b, in[ 6], S13, 2821735955); /* 7 */\n",
    "  FF ( b, c, d, a, in[ 7], S14, 4249261313); /* 8 */\n",
    "  FF ( a, b, c, d, in[ 8], S11, 1770035416); /* 9 */\n",
    "  FF ( d, a, b, c, in[ 9], S12, 2336552879); /* 10 */\n",
    "  FF ( c, d, a, b, in[10], S13, 4294925233); /* 11 */\n",
    "  FF ( b, c, d, a, in[11], S14, 2304563134); /* 12 */\n",
    "  FF ( a, b, c, d, in[12], S11, 1804603682); /* 13 */\n",
    "  FF ( d, a, b, c, in[13], S12, 4254626195); /* 14 */\n",
    "  FF ( c, d, a, b, in[14], S13, 2792965006); /* 15 */\n",
    "  FF ( b, c, d, a, in[15], S14, 1236535329); /* 16 */\n",
    "\n",
    "  /* Round 2 */\n",
    "#define S21 5\n",
    "#define S22 9\n",
    "#define S23 14\n",
    "#define S24 20\n",
    "  GG ( a, b, c, d, in[ 1], S21, 4129170786); /* 17 */\n",
    "  GG ( d, a, b, c, in[ 6], S22, 3225465664); /* 18 */\n",
    "  GG ( c, d, a, b, in[11], S23,  643717713); /* 19 */\n",
    "  GG ( b, c, d, a, in[ 0], S24, 3921069994); /* 20 */\n",
    "  GG ( a, b, c, d, in[ 5], S21, 3593408605); /* 21 */\n",
    "  GG ( d, a, b, c, in[10], S22,   38016083); /* 22 */\n",
    "  GG ( c, d, a, b, in[15], S23, 3634488961); /* 23 */\n",
    "  GG ( b, c, d, a, in[ 4], S24, 3889429448); /* 24 */\n",
    "  GG ( a, b, c, d, in[ 9], S21,  568446438); /* 25 */\n",
    "  GG ( d, a, b, c, in[14], S22, 3275163606); /* 26 */\n",
    "  GG ( c, d, a, b, in[ 3], S23, 4107603335); /* 27 */\n",
    "  GG ( b, c, d, a, in[ 8], S24, 1163531501); /* 28 */\n",
    "  GG ( a, b, c, d, in[13], S21, 2850285829); /* 29 */\n",
    "  GG ( d, a, b, c, in[ 2], S22, 4243563512); /* 30 */\n",
    "  GG ( c, d, a, b, in[ 7], S23, 1735328473); /* 31 */\n",
    "  GG ( b, c, d, a, in[12], S24, 2368359562); /* 32 */\n",
    "\n",
    "  /* Round 3 */\n",
    "#define S31 4\n",
    "#define S32 11\n",
    "#define S33 16\n",
    "#define S34 23\n",
    "  HH ( a, b, c, d, in[ 5], S31, 4294588738); /* 33 */\n",
    "  HH ( d, a, b, c, in[ 8], S32, 2272392833); /* 34 */\n",
    "  HH ( c, d, a, b, in[11], S33, 1839030562); /* 35 */\n",
    "  HH ( b, c, d, a, in[14], S34, 4259657740); /* 36 */\n",
    "  HH ( a, b, c, d, in[ 1], S31, 2763975236); /* 37 */\n",
    "  HH ( d, a, b, c, in[ 4], S32, 1272893353); /* 38 */\n",
    "  HH ( c, d, a, b, in[ 7], S33, 4139469664); /* 39 */\n",
    "  HH ( b, c, d, a, in[10], S34, 3200236656); /* 40 */\n",
    "  HH ( a, b, c, d, in[13], S31,  681279174); /* 41 */\n",
    "  HH ( d, a, b, c, in[ 0], S32, 3936430074); /* 42 */\n",
    "  HH ( c, d, a, b, in[ 3], S33, 3572445317); /* 43 */\n",
    "  HH ( b, c, d, a, in[ 6], S34,   76029189); /* 44 */\n",
    "  HH ( a, b, c, d, in[ 9], S31, 3654602809); /* 45 */\n",
    "  HH ( d, a, b, c, in[12], S32, 3873151461); /* 46 */\n",
    "  HH ( c, d, a, b, in[15], S33,  530742520); /* 47 */\n",
    "  HH ( b, c, d, a, in[ 2], S34, 3299628645); /* 48 */\n",
    "\n",
    "  /* Round 4 */\n",
    "#define S41 6\n",
    "#define S42 10\n",
    "#define S43 15\n",
    "#define S44 21\n",
    "  II ( a, b, c, d, in[ 0], S41, 4096336452); /* 49 */\n",
    "  II ( d, a, b, c, in[ 7], S42, 1126891415); /* 50 */\n",
    "  II ( c, d, a, b, in[14], S43, 2878612391); /* 51 */\n",
    "  II ( b, c, d, a, in[ 5], S44, 4237533241); /* 52 */\n",
    "  II ( a, b, c, d, in[12], S41, 1700485571); /* 53 */\n",
    "  II ( d, a, b, c, in[ 3], S42, 2399980690); /* 54 */\n",
    "  II ( c, d, a, b, in[10], S43, 4293915773); /* 55 */\n",
    "  II ( b, c, d, a, in[ 1], S44, 2240044497); /* 56 */\n",
    "  II ( a, b, c, d, in[ 8], S41, 1873313359); /* 57 */\n",
    "  II ( d, a, b, c, in[15], S42, 4264355552); /* 58 */\n",
    "  II ( c, d, a, b, in[ 6], S43, 2734768916); /* 59 */\n",
    "  II ( b, c, d, a, in[13], S44, 1309151649); /* 60 */\n",
    "  II ( a, b, c, d, in[ 4], S41, 4149444226); /* 61 */\n",
    "  II ( d, a, b, c, in[11], S42, 3174756917); /* 62 */\n",
    "  II ( c, d, a, b, in[ 2], S43,  718787259); /* 63 */\n",
    "  II ( b, c, d, a, in[ 9], S44, 3951481745); /* 64 */\n",
    "  \n",
    "  a += a0;\n",
    "  b += b0;\n",
    "  c += c0;\n",
    "  d += d0;\n",
    "  hash[0] = a;\n",
    "  hash[1] = b;\n",
    "  hash[2] = c;\n",
    "  hash[3] = d;\n",
    "\n",
    "return;\n",
    "}\n",
    "\"\"\")"
   ]
  },
  {
   "cell_type": "code",
   "execution_count": 29,
   "metadata": {},
   "outputs": [],
   "source": [
    "#  md5(uint *in, uint *hash)"
   ]
  },
  {
   "cell_type": "code",
   "execution_count": 63,
   "metadata": {},
   "outputs": [],
   "source": [
    "#\n",
    "# CUDA周りの準備\n",
    "#\n",
    "cuda_kernel = mod.get_function(\"md5\")  # 上で定義したカーネルを呼び出す\n",
    "\n",
    "block   = (512, 1, 1)                       # Block size (後述) \n",
    "grid    = (512, 1, 1)                      # Grid size (後述)\n",
    "\n",
    "a = np.arange(16)\n",
    "b = np.zeros(4, dtype = np.uint8)\n",
    "b_gpu = gpuarray.to_gpu(b)\n",
    "#\n",
    "# カーネルを実行\n",
    "#\n",
    "cuda_kernel(\n",
    "            cuda.InOut(np.uint8(np.arange(100))),               # int型定数はnumpyで明示的に型を定義する\n",
    "            b_gpu, \n",
    "            block=block, grid=grid)         # BlockとGridも引数として与える\n"
   ]
  },
  {
   "cell_type": "code",
   "execution_count": null,
   "metadata": {},
   "outputs": [],
   "source": [
    "unsigned int RSHash(const std::string& str)\n",
    "{\n",
    "    unsigned int b    = 378551;\n",
    "    unsigned int a    = 63689;\n",
    "    unsigned int hash = 0;\n",
    "\n",
    "    for(std::size_t i = 0; i < str.length(); i++)\n",
    "    {\n",
    "        hash = hash * a + str[i];\n",
    "        a    = a * b;\n",
    "    }\n",
    "\n",
    "    return (hash & 0x7FFFFFFF);\n",
    " }"
   ]
  },
  {
   "cell_type": "code",
   "execution_count": null,
   "metadata": {},
   "outputs": [],
   "source": [
    "def rshash(key):\n",
    "    a = 63689\n",
    "    b = 378551\n",
    "    hash_ = 0\n",
    "    for i in range(len(key)):\n",
    "        hash_ = hash_ * a + key[i]\n",
    "        a = a * b\n",
    "    return hash_ & 0x7FFFFFFF"
   ]
  },
  {
   "cell_type": "code",
   "execution_count": 75,
   "metadata": {},
   "outputs": [
    {
     "data": {
      "text/plain": [
       "2147483647"
      ]
     },
     "execution_count": 75,
     "metadata": {},
     "output_type": "execute_result"
    }
   ],
   "source": [
    "0x7FFFFFFF"
   ]
  },
  {
   "cell_type": "code",
   "execution_count": 72,
   "metadata": {},
   "outputs": [
    {
     "data": {
      "text/plain": [
       "116"
      ]
     },
     "execution_count": 72,
     "metadata": {},
     "output_type": "execute_result"
    }
   ],
   "source": [
    "ord(\"t\")"
   ]
  },
  {
   "cell_type": "code",
   "execution_count": 92,
   "metadata": {},
   "outputs": [],
   "source": [
    "def rshash(key):\n",
    "    a = 63689\n",
    "    b = 378551\n",
    "    hash_ = 0\n",
    "    for i in range(len(key)):\n",
    "        hash_ = hash_ * a + key[i]\n",
    "        a = a * b\n",
    "    return hash_ & 0x7FFFFFFF"
   ]
  },
  {
   "cell_type": "code",
   "execution_count": 93,
   "metadata": {},
   "outputs": [
    {
     "data": {
      "text/plain": [
       "684956120"
      ]
     },
     "execution_count": 93,
     "metadata": {},
     "output_type": "execute_result"
    }
   ],
   "source": [
    "RSHash(np.arange(12))"
   ]
  },
  {
   "cell_type": "code",
   "execution_count": 64,
   "metadata": {},
   "outputs": [
    {
     "data": {
      "text/plain": [
       "array([202, 217,  68, 145], dtype=uint8)"
      ]
     },
     "execution_count": 64,
     "metadata": {},
     "output_type": "execute_result"
    }
   ],
   "source": [
    "b_gpu.get()"
   ]
  },
  {
   "cell_type": "code",
   "execution_count": 53,
   "metadata": {},
   "outputs": [],
   "source": [
    "c = b_gpu.get()"
   ]
  }
 ],
 "metadata": {
  "kernelspec": {
   "display_name": "Python 3",
   "language": "python",
   "name": "python3"
  },
  "language_info": {
   "codemirror_mode": {
    "name": "ipython",
    "version": 3
   },
   "file_extension": ".py",
   "mimetype": "text/x-python",
   "name": "python",
   "nbconvert_exporter": "python",
   "pygments_lexer": "ipython3",
   "version": "3.6.2"
  }
 },
 "nbformat": 4,
 "nbformat_minor": 2
}
