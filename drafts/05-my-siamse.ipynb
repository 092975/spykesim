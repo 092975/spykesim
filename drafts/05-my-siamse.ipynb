{
 "cells": [
  {
   "cell_type": "code",
   "execution_count": 30,
   "metadata": {},
   "outputs": [],
   "source": [
    "import numpy as np\n",
    "import matplotlib.pyplot as plt\n",
    "import sys\n",
    "import pandas as pd\n",
    "from scipy import sparse\n",
    "sys.path.append(\"../spykesim\")\n",
    "import editsim\n",
    "import seaborn as sns\n",
    "sns.set_context('poster')\n",
    "sns.set_style('white')\n",
    "sns.set_color_codes()\n",
    "plot_kwds = {'alpha' : 0.5, 's' : 80, 'linewidths':0}\n",
    "%matplotlib inline\n",
    "\n",
    "def genpoisson_spiketrain(rate, dt, duration):\n",
    "    offset = duration\n",
    "    events = np.cumsum(np.random.exponential(scale = 1 / rate, size = int(duration*rate + offset)))\n",
    "    return np.round(events[np.logical_and(0 < events, events < duration)], -int(np.log10(dt)))\n",
    "\n",
    "def genpoisson_spiketrains(nneurons, rate, dt, duration):\n",
    "    spike_timings = np.array([], dtype = np.float)\n",
    "    spike_neurons = np.array([], dtype = np.int)\n",
    "    for n in range(nneurons):\n",
    "        spike_train = genpoisson_spiketrain(rate, dt, duration)\n",
    "        spike_timings = np.r_[spike_timings, spike_train]\n",
    "        spike_neurons = np.r_[spike_neurons, n * np.ones_like(spike_train, dtype = np.int)]\n",
    "    return pd.DataFrame({\n",
    "        \"neuronid\": spike_neurons,\n",
    "        \"spiketime\": spike_timings\n",
    "    })\n",
    "\n",
    "def gen_sequence(nneurons = 10, seqlen = 0.1, dt = 0.001):\n",
    "    return np.round(np.linspace(dt, seqlen-dt, nneurons), int(-np.log10(dt)))\n",
    "\n",
    "def gen_sequences(neurons = np.arange(10), nsequences = 10, start = 0, end = 60, seqlen = 0.1, dt = 0.001, shrink = 1):\n",
    "    spike_timings = np.array([], dtype = np.float)\n",
    "    spike_neurons = np.array([], dtype = np.int)\n",
    "    nneurons = len(neurons)\n",
    "    sequence_onsets = np.random.choice(\n",
    "        np.arange(start, end - seqlen, seqlen),\n",
    "        nsequences,\n",
    "        replace = False\n",
    "    )\n",
    "    for onset in sequence_onsets:\n",
    "        spike_timings = np.r_[spike_timings, onset + gen_sequence(nneurons, seqlen / shrink, dt)]\n",
    "        spike_neurons = np.r_[spike_neurons, neurons]\n",
    "    return pd.DataFrame({\n",
    "        \"neuronid\": spike_neurons,\n",
    "        \"spiketime\": spike_timings\n",
    "    }), sequence_onsets\n",
    "\n",
    "def gen_sequences_with_replay(shrinkages = [2], neurons = np.arange(10),\n",
    "                              nsequences = 10, duration = 60,\n",
    "                              seqlen = 0.1, dt = 0.001, seqtype = 1):\n",
    "    onsets = []\n",
    "    duration_per_type = duration / (len(shrinkages) + 1)\n",
    "    sequences, onset = gen_sequences(neurons,\n",
    "                              nsequences,\n",
    "                              0,\n",
    "                              duration_per_type,\n",
    "                              seqlen,\n",
    "                              dt)\n",
    "    onsets.append(onset)\n",
    "    for idx, shrinkage in enumerate(shrinkages):\n",
    "        replay, onset = gen_sequences(neurons,\n",
    "                               nsequences,\n",
    "                               duration_per_type * (idx + 1),\n",
    "                               duration_per_type * (idx + 2),\n",
    "                               seqlen,\n",
    "                               dt, \n",
    "                               abs(shrinkage))\n",
    "        onsets.append(onset)\n",
    "        if shrinkage < 0: # reverse replay\n",
    "            replay = pd.DataFrame({\n",
    "                \"neuronid\": replay.neuronid,\n",
    "                \"spiketime\": np.copy(replay.spiketime[::-1])\n",
    "            })\n",
    "        sequences = pd.concat([sequences, replay])\n",
    "    return sequences, onsets"
   ]
  },
  {
   "cell_type": "code",
   "execution_count": 31,
   "metadata": {},
   "outputs": [],
   "source": [
    "dt = 0.001\n",
    "# nsequences = 10\n",
    "# seqlen = 0.3\n",
    "nsequences = 5\n",
    "seqlen = 0.1\n",
    "shrinkages = [-5, 5]\n",
    "nneurons = 10\n",
    "duration = nsequences * seqlen * (len(shrinkages) + 1) + 0.2\n",
    "nseqkinds = 3\n",
    "df = pd.DataFrame()\n",
    "onsets = []\n",
    "for idx in range(nseqkinds):\n",
    "    df_seq, onset = gen_sequences_with_replay(\n",
    "        shrinkages = shrinkages,\n",
    "        neurons = np.arange(nneurons*(idx), nneurons*(idx+1)),\n",
    "        nsequences = nsequences,\n",
    "        duration = duration,\n",
    "        seqlen = seqlen,\n",
    "        dt = dt)\n",
    "    onsets.append(onset)\n",
    "    df_seq = pd.DataFrame({\n",
    "        \"neuronid\": df_seq.neuronid,\n",
    "        \"spiketime\": np.copy(df_seq.spiketime + duration * idx + idx)\n",
    "    })\n",
    "    df = pd.concat([df, df_seq])\n",
    "\n",
    "rate = 1\n",
    "nneurons = nneurons*nseqkinds \n",
    "duration = duration*nseqkinds + nseqkinds\n",
    "df_noise = genpoisson_spiketrains(nneurons, rate, dt, duration)\n",
    "df = pd.concat([df, df_noise])"
   ]
  },
  {
   "cell_type": "code",
   "execution_count": 32,
   "metadata": {},
   "outputs": [
    {
     "data": {
      "text/plain": [
       "[[array([ 0.2,  0.1,  0. ,  0.3,  0.4]),\n",
       "  array([ 0.66666667,  0.86666667,  0.76666667,  0.56666667,  0.96666667]),\n",
       "  array([ 1.33333333,  1.23333333,  1.13333333,  1.43333333,  1.53333333])],\n",
       " [array([ 0. ,  0.2,  0.3,  0.4,  0.1]),\n",
       "  array([ 0.66666667,  0.76666667,  0.96666667,  0.56666667,  0.86666667]),\n",
       "  array([ 1.23333333,  1.13333333,  1.43333333,  1.53333333,  1.33333333])],\n",
       " [array([ 0. ,  0.3,  0.2,  0.1,  0.4]),\n",
       "  array([ 0.66666667,  0.76666667,  0.96666667,  0.56666667,  0.86666667]),\n",
       "  array([ 1.33333333,  1.23333333,  1.13333333,  1.43333333,  1.53333333])]]"
      ]
     },
     "execution_count": 32,
     "metadata": {},
     "output_type": "execute_result"
    }
   ],
   "source": [
    "onsets"
   ]
  },
  {
   "cell_type": "code",
   "execution_count": 3,
   "metadata": {},
   "outputs": [
    {
     "data": {
      "text/plain": [
       "[<matplotlib.lines.Line2D at 0x7f3e15f5d630>]"
      ]
     },
     "execution_count": 3,
     "metadata": {},
     "output_type": "execute_result"
    },
    {
     "data": {
      "image/png": "[encoded data removed]",
      "text/plain": [
       "<matplotlib.figure.Figure at 0x7f3e1063af28>"
      ]
     },
     "metadata": {},
     "output_type": "display_data"
    }
   ],
   "source": [
    "plt.plot(df.spiketime, df.neuronid, \"b.\", alpha = 0.3)"
   ]
  },
  {
   "cell_type": "code",
   "execution_count": 4,
   "metadata": {},
   "outputs": [],
   "source": [
    "def df2binarray_csc(df, duration_ms = int(df.spiketime.max()*1000), binwidth = 1):\n",
    "    neuronids = df.neuronid\n",
    "    spikes_ms = df.spiketime * 1000\n",
    "    nneurons = int(neuronids.max()+1)\n",
    "    nrow = nneurons \n",
    "    ncol = int(duration_ms) // binwidth + 1000\n",
    "    binarray_lil = sparse.lil_matrix((nrow, ncol))\n",
    "    for neuronid in range(nneurons):\n",
    "        spike_train_of_a_neuron = spikes_ms[neuronids == neuronid]\n",
    "        bins = np.arange(0, ncol * binwidth, binwidth)\n",
    "        digitized_spike_train_of_a_neuron = np.digitize(spike_train_of_a_neuron, bins) - 1\n",
    "        binned_spike_train_of_a_neuron = np.bincount(digitized_spike_train_of_a_neuron)\n",
    "        binarray_lil[neuronid, digitized_spike_train_of_a_neuron] = binned_spike_train_of_a_neuron[digitized_spike_train_of_a_neuron]\n",
    "    return binarray_lil.tocsc()"
   ]
  },
  {
   "cell_type": "code",
   "execution_count": 5,
   "metadata": {},
   "outputs": [],
   "source": [
    "from matplotlib import gridspec\n",
    "\n",
    "binarray_csc = df2binarray_csc(df, duration_ms=int(duration*1000), binwidth = 1)\n",
    "binmat = binarray_csc.toarray()"
   ]
  },
  {
   "cell_type": "code",
   "execution_count": 6,
   "metadata": {},
   "outputs": [
    {
     "name": "stderr",
     "output_type": "stream",
     "text": [
      "[2018-07-24 17:52:31,343] [MainThread] calculation start\n",
      "[2018-07-24 17:52:33,534] [MainThread] submit end\n",
      "[2018-07-24 17:52:33,547] [MainThread] Progress of the calculation\n",
      "\r",
      "  0%|          | 0.00/88.0 [00:00<?, ?it/s]\r",
      "  1%|          | 1.00/88.0 [00:01<02:24, 1.66s/it]\r",
      " 11%|█▏        | 10.0/88.0 [00:01<00:13, 5.66it/s]\r",
      " 26%|██▌       | 23.0/88.0 [00:01<00:05, 12.3it/s]\r",
      " 45%|████▌     | 40.0/88.0 [00:01<00:02, 20.2it/s]\r",
      " 56%|█████▌    | 49.0/88.0 [00:03<00:02, 15.6it/s]\r",
      " 64%|██████▎   | 56.0/88.0 [00:03<00:01, 16.9it/s]\r",
      " 78%|███████▊  | 69.0/88.0 [00:03<00:00, 20.2it/s]\r",
      " 92%|█████████▏| 81.0/88.0 [00:03<00:00, 23.0it/s]\r",
      "100%|██████████| 88.0/88.0 [00:03<00:00, 24.2it/s]\n",
      "[2018-07-24 17:52:37,233] [MainThread] Progress of the aggregation\n",
      "\r",
      "0it [00:00, ?it/s]\r",
      "88it [00:00, 148830.14it/s]\n",
      "[2018-07-24 17:52:37,236] [MainThread] calculation end\n"
     ]
    }
   ],
   "source": [
    "window = int(seqlen*1000)\n",
    "a = 0.01\n",
    "simmat, times = editsim.eval_simmat(binarray_csc, window, window, a = a, backend = \"tqdm\")"
   ]
  },
  {
   "cell_type": "code",
   "execution_count": 7,
   "metadata": {},
   "outputs": [
    {
     "data": {
      "text/plain": [
       "<matplotlib.colorbar.Colorbar at 0x7f3dd4ea2438>"
      ]
     },
     "execution_count": 7,
     "metadata": {},
     "output_type": "execute_result"
    },
    {
     "data": {
      "image/png": "[encoded data removed]",
      "text/plain": [
       "<matplotlib.figure.Figure at 0x7f3e1063a710>"
      ]
     },
     "metadata": {},
     "output_type": "display_data"
    }
   ],
   "source": [
    "plt.imshow(simmat[:20, :20])\n",
    "plt.colorbar()"
   ]
  },
  {
   "cell_type": "code",
   "execution_count": 8,
   "metadata": {},
   "outputs": [
    {
     "data": {
      "image/png": "[encoded data removed]",
      "text/plain": [
       "<matplotlib.figure.Figure at 0x7f3dd4e54e80>"
      ]
     },
     "metadata": {},
     "output_type": "display_data"
    }
   ],
   "source": [
    "plt.hist(simmat.flatten());"
   ]
  },
  {
   "cell_type": "code",
   "execution_count": 9,
   "metadata": {},
   "outputs": [],
   "source": [
    "th_ = np.percentile(simmat, 50)"
   ]
  },
  {
   "cell_type": "code",
   "execution_count": 10,
   "metadata": {},
   "outputs": [],
   "source": [
    "X = []\n",
    "Y = []\n",
    "for idx1, t1 in enumerate(times):\n",
    "    for idx2, t2 in enumerate(times):\n",
    "        mat1 = binarray_csc[:, t1:t1+window].toarray()\n",
    "        mat2 = binarray_csc[:, t2:t2+window].toarray()\n",
    "        X.append([mat1, mat2])\n",
    "        tmp = 1 if simmat[idx1, idx2] >= th_ else 0\n",
    "        Y.append(1 if simmat[idx1, idx2] >= th_ else 0)\n",
    "X = np.array(X)\n",
    "Y = np.array(Y)"
   ]
  },
  {
   "cell_type": "code",
   "execution_count": 11,
   "metadata": {},
   "outputs": [],
   "source": [
    "one_indices = np.where(np.array(Y) == 1)[0]\n",
    "mask = np.zeros(Y.shape, dtype = bool)\n",
    "mask[one_indices] = True\n",
    "Y_one = Y[mask]\n",
    "Y_none = Y[~mask]\n",
    "X_one = X[mask]\n",
    "X_none = X[~mask]"
   ]
  },
  {
   "cell_type": "code",
   "execution_count": 12,
   "metadata": {},
   "outputs": [
    {
     "data": {
      "text/plain": [
       "(4246, 2, 30, 100)"
      ]
     },
     "execution_count": 12,
     "metadata": {},
     "output_type": "execute_result"
    }
   ],
   "source": [
    "X_one.shape"
   ]
  },
  {
   "cell_type": "code",
   "execution_count": 13,
   "metadata": {},
   "outputs": [],
   "source": [
    "ndata = 100\n",
    "X_ = np.r_[X_one[:ndata], X_none[:ndata]]\n",
    "Y_ = np.r_[Y_one[:ndata], Y_none[:ndata]]"
   ]
  },
  {
   "cell_type": "code",
   "execution_count": 14,
   "metadata": {},
   "outputs": [],
   "source": [
    "from sklearn.model_selection import train_test_split\n",
    "X_train_, X_test_, Y_train_, Y_test_ = train_test_split(X_, Y_, test_size = 0.2)"
   ]
  },
  {
   "cell_type": "code",
   "execution_count": 15,
   "metadata": {},
   "outputs": [],
   "source": [
    "xt_mean = np.mean(X_train_)\n",
    "xt_std = np.std(X_train_)\n",
    "yt_mean = np.mean(Y_train_)\n",
    "yt_std = np.std(Y_train_)\n",
    "\n",
    "X_train = (X_train_ - xt_mean) / xt_std\n",
    "X_test = (X_test_ - xt_mean) / xt_std\n",
    "Y_train = Y_train_\n",
    "Y_test = Y_test_\n",
    "# Y_train = (Y_train_ - yt_mean) / yt_std\n",
    "# Y_test = (Y_test_ - yt_mean) / yt_std"
   ]
  },
  {
   "cell_type": "code",
   "execution_count": 16,
   "metadata": {},
   "outputs": [],
   "source": [
    "model = __import__('siamse')"
   ]
  },
  {
   "cell_type": "code",
   "execution_count": 17,
   "metadata": {},
   "outputs": [],
   "source": [
    "import tensorflow as tf"
   ]
  },
  {
   "cell_type": "code",
   "execution_count": 18,
   "metadata": {},
   "outputs": [
    {
     "name": "stdout",
     "output_type": "stream",
     "text": [
      "epoch: 0, loss: 0.12049295753240585\n",
      "test epoch: 0, loss: 0.1337355077266693\n",
      "epoch: 10, loss: 0.020123349502682686\n",
      "test epoch: 10, loss: 0.04957849532365799\n",
      "epoch: 20, loss: 0.013928065076470375\n",
      "test epoch: 20, loss: 0.06362535804510117\n",
      "epoch: 30, loss: 0.013200351968407631\n",
      "test epoch: 30, loss: 0.09049796313047409\n",
      "epoch: 40, loss: 0.013160315342247486\n",
      "test epoch: 40, loss: 0.07220706343650818\n",
      "epoch: 50, loss: 0.011479870416224003\n",
      "test epoch: 50, loss: 0.082292839884758\n",
      "epoch: 60, loss: 0.014131957665085793\n",
      "test epoch: 60, loss: 0.07252872735261917\n",
      "epoch: 70, loss: 0.021659107878804207\n",
      "test epoch: 70, loss: 0.08227815479040146\n",
      "epoch: 80, loss: 0.014637613669037819\n",
      "test epoch: 80, loss: 0.06493449211120605\n",
      "epoch: 90, loss: 0.014344178140163422\n",
      "test epoch: 90, loss: 0.083035409450531\n"
     ]
    }
   ],
   "source": [
    "tf.reset_default_graph()\n",
    "snn = model.SNN(30, 10, 5, window)\n",
    "history = snn.fit(X_train, Y_train,\n",
    "                  X_test, Y_test,\n",
    "                  epochs = 100, batch_size = 10, p_keep = .8, every=10)"
   ]
  },
  {
   "cell_type": "code",
   "execution_count": 19,
   "metadata": {},
   "outputs": [
    {
     "data": {
      "text/plain": [
       "[<matplotlib.lines.Line2D at 0x7f3d8035db70>]"
      ]
     },
     "execution_count": 19,
     "metadata": {},
     "output_type": "execute_result"
    },
    {
     "data": {
      "image/png": "[encoded data removed]",
      "text/plain": [
       "<matplotlib.figure.Figure at 0x7f3d8dc10f28>"
      ]
     },
     "metadata": {},
     "output_type": "display_data"
    }
   ],
   "source": [
    "plt.plot(history[\"loss\"])"
   ]
  },
  {
   "cell_type": "code",
   "execution_count": 20,
   "metadata": {},
   "outputs": [
    {
     "data": {
      "text/plain": [
       "array([  7.23395497e-04,  -9.68769610e-01,  -8.75346005e-01,\n",
       "         9.46349978e-01,   7.32837617e-01,  -5.37260056e-01,\n",
       "        -7.00023174e-01,   7.86396921e-01,   8.79526198e-01,\n",
       "        -7.00888753e-01,  -6.11674249e-01,  -6.58795714e-01,\n",
       "         7.32659578e-01,   1.93670958e-01,   8.19236398e-01,\n",
       "         9.17377710e-01,   8.86592388e-01,   5.32700360e-01,\n",
       "         8.82362604e-01,   9.88994002e-01,   7.64666140e-01,\n",
       "        -4.83058274e-01,  -9.50513959e-01,  -9.07946527e-01,\n",
       "        -7.24597931e-01,   7.20839560e-01,  -8.73161256e-01,\n",
       "        -6.33739650e-01,  -5.72105527e-01,  -7.61421382e-01,\n",
       "        -7.45954871e-01,  -6.14504695e-01,   9.89845753e-01,\n",
       "        -8.82304788e-01,   6.30273223e-01,  -4.80464041e-01,\n",
       "        -6.32665515e-01,   9.93112385e-01,  -8.91416192e-01,\n",
       "        -8.62909436e-01], dtype=float32)"
      ]
     },
     "execution_count": 20,
     "metadata": {},
     "output_type": "execute_result"
    }
   ],
   "source": [
    "snn.predict(X_test) "
   ]
  },
  {
   "cell_type": "code",
   "execution_count": 24,
   "metadata": {},
   "outputs": [],
   "source": [
    "X = np.array([x[0] for x in X_train])"
   ]
  },
  {
   "cell_type": "code",
   "execution_count": 25,
   "metadata": {},
   "outputs": [],
   "source": [
    "embedding = snn.embed(X)"
   ]
  },
  {
   "cell_type": "code",
   "execution_count": 26,
   "metadata": {},
   "outputs": [
    {
     "data": {
      "text/plain": [
       "(160, 5)"
      ]
     },
     "execution_count": 26,
     "metadata": {},
     "output_type": "execute_result"
    }
   ],
   "source": [
    "embedding.shape"
   ]
  },
  {
   "cell_type": "code",
   "execution_count": 28,
   "metadata": {},
   "outputs": [
    {
     "data": {
      "text/plain": [
       "(160, 2, 30, 100)"
      ]
     },
     "execution_count": 28,
     "metadata": {},
     "output_type": "execute_result"
    }
   ],
   "source": [
    "X_train.shape"
   ]
  },
  {
   "cell_type": "code",
   "execution_count": 29,
   "metadata": {},
   "outputs": [
    {
     "data": {
      "text/plain": [
       "(160, 5)"
      ]
     },
     "execution_count": 29,
     "metadata": {},
     "output_type": "execute_result"
    }
   ],
   "source": [
    "embedding.shape"
   ]
  },
  {
   "cell_type": "code",
   "execution_count": null,
   "metadata": {},
   "outputs": [],
   "source": []
  },
  {
   "cell_type": "code",
   "execution_count": null,
   "metadata": {},
   "outputs": [],
   "source": []
  },
  {
   "cell_type": "code",
   "execution_count": null,
   "metadata": {},
   "outputs": [],
   "source": []
  },
  {
   "cell_type": "code",
   "execution_count": null,
   "metadata": {},
   "outputs": [],
   "source": []
  },
  {
   "cell_type": "code",
   "execution_count": null,
   "metadata": {},
   "outputs": [],
   "source": []
  },
  {
   "cell_type": "code",
   "execution_count": null,
   "metadata": {},
   "outputs": [],
   "source": []
  }
 ],
 "metadata": {
  "kernelspec": {
   "display_name": "Python 3",
   "language": "python",
   "name": "python3"
  },
  "language_info": {
   "codemirror_mode": {
    "name": "ipython",
    "version": 3
   },
   "file_extension": ".py",
   "mimetype": "text/x-python",
   "name": "python",
   "nbconvert_exporter": "python",
   "pygments_lexer": "ipython3",
   "version": "3.6.2"
  }
 },
 "nbformat": 4,
 "nbformat_minor": 2
}
