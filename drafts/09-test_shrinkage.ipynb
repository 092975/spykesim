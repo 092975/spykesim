{
 "cells": [
  {
   "cell_type": "code",
   "execution_count": 1,
   "metadata": {},
   "outputs": [],
   "source": [
    "import numpy as np\n",
    "import matplotlib.pyplot as plt\n",
    "import sys\n",
    "import pandas as pd\n",
    "from scipy import sparse\n",
    "sys.path.append(\"..\")\n",
    "from spykesim import editsim\n",
    "import seaborn as sns\n",
    "sns.set_context('poster')\n",
    "sns.set_style('white')\n",
    "sns.set_color_codes()\n",
    "plot_kwds = {'alpha' : 0.5, 's' : 80, 'linewidths':0}\n",
    "%matplotlib inline\n",
    "\n",
    "\n",
    "def genpoisson_spiketrain(rate, dt, duration):\n",
    "    offset = duration\n",
    "    events = np.cumsum(np.random.exponential(scale = 1 / rate, size = int(duration*rate + offset)))\n",
    "    return np.round(events[np.logical_and(0 < events, events < duration)], -int(np.log10(dt)))\n",
    "\n",
    "def genpoisson_spiketrains(nneurons, rate, dt, duration):\n",
    "    spike_timings = np.array([], dtype = np.float)\n",
    "    spike_neurons = np.array([], dtype = np.int)\n",
    "    for n in range(nneurons):\n",
    "        spike_train = genpoisson_spiketrain(rate, dt, duration)\n",
    "        spike_timings = np.r_[spike_timings, spike_train]\n",
    "        spike_neurons = np.r_[spike_neurons, n * np.ones_like(spike_train, dtype = np.int)]\n",
    "    return pd.DataFrame({\n",
    "        \"neuronid\": spike_neurons,\n",
    "        \"spiketime\": spike_timings\n",
    "    })\n",
    "\n",
    "def gen_sequence(nneurons = 10, seqlen = 0.1, dt = 0.001):\n",
    "    return np.round(np.linspace(dt, seqlen-dt, nneurons), int(-np.log10(dt)))\n",
    "\n",
    "def gen_sequences(neurons = np.arange(10), nsequences = 10, start = 0, end = 60, seqlen = 0.1, dt = 0.001, shrink = 1):\n",
    "    spike_timings = np.array([], dtype = np.float)\n",
    "    spike_neurons = np.array([], dtype = np.int)\n",
    "    nneurons = len(neurons)\n",
    "    sequence_onsets = np.random.choice(\n",
    "        np.arange(start, end - seqlen, seqlen),\n",
    "        nsequences,\n",
    "        replace = False\n",
    "    )\n",
    "    for onset in sequence_onsets:\n",
    "        spike_timings = np.r_[spike_timings, onset + gen_sequence(nneurons, seqlen / shrink, dt)]\n",
    "        spike_neurons = np.r_[spike_neurons, neurons]\n",
    "    return pd.DataFrame({\n",
    "        \"neuronid\": spike_neurons,\n",
    "        \"spiketime\": spike_timings\n",
    "    }) \n",
    "\n",
    "def gen_sequences_with_replay(shrinkages = [2], neurons = np.arange(10), nsequences = 10, duration = 60, seqlen = 0.1, dt = 0.001):\n",
    "    duration_per_type = duration / (len(shrinkages) + 1)\n",
    "    sequences = gen_sequences(neurons,\n",
    "                              nsequences,\n",
    "                              0,\n",
    "                              duration_per_type,\n",
    "                              seqlen,\n",
    "                              dt)\n",
    "    for idx, shrinkage in enumerate(shrinkages):\n",
    "        replay = gen_sequences(neurons,\n",
    "                               nsequences,\n",
    "                               duration_per_type * (idx + 1),\n",
    "                               duration_per_type * (idx + 2),\n",
    "                               seqlen,\n",
    "                               dt, \n",
    "                               abs(shrinkage))\n",
    "        if shrinkage < 0: # reverse replay\n",
    "            replay = pd.DataFrame({\n",
    "                \"neuronid\": replay.neuronid,\n",
    "                \"spiketime\": np.copy(replay.spiketime[::-1])\n",
    "            })\n",
    "        sequences = pd.concat([sequences, replay])\n",
    "    return sequences\n",
    "\n",
    "dt = 0.001\n",
    "# nsequences = 10\n",
    "# seqlen = 0.3\n",
    "nsequences = 5\n",
    "seqlen = 0.1\n",
    "shrinkages = [-5, 5]\n",
    "nneurons = 10\n",
    "duration = nsequences * seqlen * (len(shrinkages) + 1) + 0.2\n",
    "nseqkinds = 3\n",
    "df = pd.DataFrame()\n",
    "for idx in range(nseqkinds):\n",
    "    df_seq = gen_sequences_with_replay(\n",
    "        shrinkages = shrinkages,\n",
    "        neurons = np.arange(nneurons*(idx), nneurons*(idx+1)),\n",
    "        nsequences = nsequences,\n",
    "        duration = duration,\n",
    "        seqlen = seqlen,\n",
    "        dt = dt)\n",
    "    df_seq = pd.DataFrame({\n",
    "        \"neuronid\": df_seq.neuronid,\n",
    "        \"spiketime\": np.copy(df_seq.spiketime + duration * idx + idx)\n",
    "    })\n",
    "    df = pd.concat([df, df_seq])\n",
    "\n",
    "rate = 1\n",
    "nneurons = nneurons*nseqkinds \n",
    "duration = duration*nseqkinds + nseqkinds\n",
    "df_noise = genpoisson_spiketrains(nneurons, rate, dt, duration)\n",
    "df = pd.concat([df, df_noise])"
   ]
  },
  {
   "cell_type": "code",
   "execution_count": 4,
   "metadata": {},
   "outputs": [
    {
     "data": {
      "text/plain": [
       "[<matplotlib.lines.Line2D at 0x115600128>]"
      ]
     },
     "execution_count": 4,
     "metadata": {},
     "output_type": "execute_result"
    },
    {
     "data": {
      "image/png": "[encoded data removed]",
      "text/plain": [
       "<Figure size 432x288 with 1 Axes>"
      ]
     },
     "metadata": {},
     "output_type": "display_data"
    }
   ],
   "source": [
    "plt.plot(df.spiketime, df.neuronid, \"b.\", alpha = 0.3)"
   ]
  },
  {
   "cell_type": "code",
   "execution_count": 5,
   "metadata": {},
   "outputs": [],
   "source": [
    "def df2binarray_csc(df, duration_ms = int(df.spiketime.max()*1000), binwidth = 1):\n",
    "    neuronids = df.neuronid\n",
    "    spikes_ms = df.spiketime * 1000\n",
    "    nneurons = int(neuronids.max()+1)\n",
    "    nrow = nneurons \n",
    "    ncol = int(duration_ms) // binwidth + 1000\n",
    "    binarray_lil = sparse.lil_matrix((nrow, ncol))\n",
    "    for neuronid in range(nneurons):\n",
    "        spike_train_of_a_neuron = spikes_ms[neuronids == neuronid]\n",
    "        bins = np.arange(0, ncol * binwidth, binwidth)\n",
    "        digitized_spike_train_of_a_neuron = np.digitize(spike_train_of_a_neuron, bins) - 1\n",
    "        binned_spike_train_of_a_neuron = np.bincount(digitized_spike_train_of_a_neuron)\n",
    "        binarray_lil[neuronid, digitized_spike_train_of_a_neuron] = binned_spike_train_of_a_neuron[digitized_spike_train_of_a_neuron]\n",
    "    return binarray_lil.tocsc()\n",
    "\n",
    "from matplotlib import gridspec\n",
    "\n",
    "binarray_csc = df2binarray_csc(df, duration_ms=int(duration*1000), binwidth = 1)\n",
    "binmat = binarray_csc.toarray()"
   ]
  },
  {
   "cell_type": "code",
   "execution_count": 7,
   "metadata": {},
   "outputs": [
    {
     "data": {
      "text/plain": [
       "(0, 10)"
      ]
     },
     "execution_count": 7,
     "metadata": {},
     "output_type": "execute_result"
    },
    {
     "data": {
      "image/png": "[encoded data removed]",
      "text/plain": [
       "<Figure size 432x288 with 4 Axes>"
      ]
     },
     "metadata": {},
     "output_type": "display_data"
    }
   ],
   "source": [
    "outer_grid = gridspec.GridSpec(3, 5, wspace=0.9, hspace = 0.7)\n",
    "ax = plt.subplot(outer_grid[:, :3])\n",
    "row, col = np.where(binmat == 1)\n",
    "ax.plot(col, row, \"k.\")\n",
    "ax.set_xlabel(\"Time(ms)\")\n",
    "ax.set_ylabel(\"Neuron#\")\n",
    "ax = plt.subplot(outer_grid[2, 3:])\n",
    "ax.plot(col, row, \"k.\")\n",
    "ax.set_xlabel(\"Time(ms)\")\n",
    "ax.set_xlim(0, 500)\n",
    "ax.set_ylim(0, 10)\n",
    "ax = plt.subplot(outer_grid[1, 3:])\n",
    "ax.plot(col, row, \"k.\")\n",
    "ax.set_xlim(3000, 3500)\n",
    "ax.set_ylim(0, 10)\n",
    "ax = plt.subplot(outer_grid[0, 3:])\n",
    "ax.plot(col, row, \"k.\")\n",
    "ax.set_xlim(2000, 2500)\n",
    "ax.set_ylim(0, 10)"
   ]
  },
  {
   "cell_type": "code",
   "execution_count": 8,
   "metadata": {},
   "outputs": [],
   "source": [
    "window = int(seqlen*1000)\n",
    "a = 0.01"
   ]
  },
  {
   "cell_type": "code",
   "execution_count": 12,
   "metadata": {},
   "outputs": [
    {
     "name": "stderr",
     "output_type": "stream",
     "text": [
      "[2018-08-27 15:15:59,797] [MainThread] Execution of a function _eval_simvec starts\n",
      "[2018-08-27 15:16:01,538] [MainThread] submit end\n",
      "[2018-08-27 15:16:01,543] [MainThread] Progress of the calculation\n",
      "100%|██████████| 88.0/88.0 [00:05<00:00, 15.3it/s]\n",
      "[2018-08-27 15:16:07,327] [MainThread] Progress of the aggregation\n",
      "88it [00:00, 122177.67it/s]\n",
      "[2018-08-27 15:16:07,331] [MainThread] calculation end\n"
     ]
    }
   ],
   "source": [
    "window = int(seqlen*1000)\n",
    "a = 0.01\n",
    "simmat, times = editsim.eval_simmat(binarray_csc, window, window, a = a, njobs=24)"
   ]
  },
  {
   "cell_type": "code",
   "execution_count": 23,
   "metadata": {},
   "outputs": [],
   "source": [
    "seqdf = pd.DataFrame({\"times\": times}) # TODO: times -> binsに"
   ]
  },
  {
   "cell_type": "code",
   "execution_count": 24,
   "metadata": {},
   "outputs": [
    {
     "data": {
      "text/plain": [
       "Text(0.5,1,'Similarity Matrix')"
      ]
     },
     "execution_count": 24,
     "metadata": {},
     "output_type": "execute_result"
    },
    {
     "data": {
      "image/png": "[encoded data removed]",
      "text/plain": [
       "<Figure size 432x288 with 2 Axes>"
      ]
     },
     "metadata": {},
     "output_type": "display_data"
    }
   ],
   "source": [
    "plt.imshow(simmat)\n",
    "plt.colorbar()\n",
    "plt.title(\"Similarity Matrix\")"
   ]
  },
  {
   "cell_type": "code",
   "execution_count": 33,
   "metadata": {},
   "outputs": [
    {
     "data": {
      "text/plain": [
       "<matplotlib.axes._subplots.AxesSubplot at 0x1a215b6c88>"
      ]
     },
     "execution_count": 33,
     "metadata": {},
     "output_type": "execute_result"
    },
    {
     "data": {
      "image/png": "[encoded data removed]",
      "text/plain": [
       "<Figure size 432x288 with 2 Axes>"
      ]
     },
     "metadata": {},
     "output_type": "display_data"
    }
   ],
   "source": [
    "import hdbscan\n",
    "\n",
    "cluster = hdbscan.HDBSCAN(min_cluster_size=10, gen_min_span_tree=True, metric=\"precomputed\")\n",
    "distmat = 1 / (1+simmat)\n",
    "cluster.fit(distmat)\n",
    "cluster.condensed_tree_.plot(select_clusters = True, selection_palette=sns.color_palette())"
   ]
  },
  {
   "cell_type": "code",
   "execution_count": 34,
   "metadata": {},
   "outputs": [],
   "source": [
    "seqdf[\"seq\"] = cluster.labels_\n",
    "seqdf[\"seq\"] = seqdf[\"seq\"].astype(\"category\")"
   ]
  },
  {
   "cell_type": "code",
   "execution_count": 35,
   "metadata": {},
   "outputs": [],
   "source": [
    "from matplotlib import gridspec"
   ]
  },
  {
   "cell_type": "code",
   "execution_count": 36,
   "metadata": {},
   "outputs": [
    {
     "data": {
      "text/plain": [
       "array([ 1,  1,  1,  1,  1,  1,  1,  1,  1,  1, -1,  1,  1,  1,  1,  1, -1,\n",
       "       -1, -1, -1, -1, -1, -1, -1, -1, -1, -1,  2,  2,  2,  2,  2,  2,  2,\n",
       "        2,  2,  2, -1,  2,  2,  2,  2,  2, -1, -1, -1, -1, -1, -1, -1, -1,\n",
       "       -1, -1, -1,  0,  0,  0,  0,  0,  0,  0,  0,  0,  0, -1,  0,  0,  0,\n",
       "        0,  0, -1, -1, -1, -1, -1, -1, -1, -1, -1, -1, -1, -1, -1, -1, -1,\n",
       "       -1, -1, -1, -1, -1])"
      ]
     },
     "execution_count": 36,
     "metadata": {},
     "output_type": "execute_result"
    }
   ],
   "source": [
    "cluster.labels_"
   ]
  },
  {
   "cell_type": "code",
   "execution_count": 54,
   "metadata": {},
   "outputs": [
    {
     "data": {
      "text/plain": [
       "[]"
      ]
     },
     "execution_count": 54,
     "metadata": {},
     "output_type": "execute_result"
    },
    {
     "data": {
      "image/png": "[encoded data removed]",
      "text/plain": [
       "<Figure size 432x288 with 2 Axes>"
      ]
     },
     "metadata": {},
     "output_type": "display_data"
    }
   ],
   "source": [
    "plt.figure()\n",
    "outer_grid = gridspec.GridSpec(1, 5)\n",
    "ax = plt.subplot(outer_grid[0, :3])\n",
    "row, col = np.where(binmat == 1)\n",
    "ax.plot(col, row, \"k.\", alpha = 0.5, markersize = 5)\n",
    "label_colors = [sns.color_palette()[0], sns.color_palette()[1], sns.color_palette()[2], \"w\"]\n",
    "for b, label in zip(times, cluster.labels_):\n",
    "    ax.plot(np.array([b, b+window]), np.array([nneurons+2, nneurons+2]), color =  label_colors[label])\n",
    "ax.set_ylim(-1, nneurons+5)\n",
    "ax.set_xlabel(\"Time(ms)\")\n",
    "ax.set_ylabel(\"Neuron#\")\n",
    "ax.set_title(\"Detected Assemblies\")\n",
    "ax.spines[\"top\"].set_visible(False)\n",
    "ax.spines[\"right\"].set_visible(False)\n",
    "# ax.set_xticks([0, 20000])\n",
    "ax = plt.subplot(outer_grid[0, 3:])\n",
    "ax.plot([-1], [-1], c = sns.color_palette()[0], label = \"Assembly1\")\n",
    "ax.plot([-1], [-1], c = sns.color_palette()[1], label = \"Assembly2\")\n",
    "ax.plot([-1], [-1], c = sns.color_palette()[2], label = \"Assembly3\")\n",
    "ax.legend()\n",
    "ax.spines[\"top\"].set_visible(False)\n",
    "ax.spines[\"bottom\"].set_visible(False)\n",
    "ax.spines[\"left\"].set_visible(False)\n",
    "ax.spines[\"right\"].set_visible(False)\n",
    "ax.set_xticks([]); ax.set_yticks([])"
   ]
  },
  {
   "cell_type": "code",
   "execution_count": 38,
   "metadata": {},
   "outputs": [],
   "source": [
    "import multiprocessing"
   ]
  },
  {
   "cell_type": "code",
   "execution_count": 107,
   "metadata": {},
   "outputs": [],
   "source": [
    "def eval_shrinkagevec(idx1, t1, times, binarray_csc, window, a):\n",
    "    shrinkage_vec = np.ones(len(times))\n",
    "    m1 = binarray_csc[:, t1:(t1+window)].toarray().astype(np.double)\n",
    "    for idx2, t2 in enumerate(times):\n",
    "        if idx1 == idx2:\n",
    "            continue\n",
    "        m2 = binarray_csc[:, t2:(t2+window)].toarray().astype(np.double)\n",
    "        dp_max, dp_max_x, dp_max_y, bp, flip = editsim.clocal_exp_editsim_withbp_withflip(m1, m2, a=a)\n",
    "        if bp.sum() > 0:\n",
    "            dp_max, dp_max_x, dp_max_y, bp, flip = editsim.clocal_exp_editsim_withbp_withflip(m1, m2, a=a)\n",
    "            shrinkage1 = editsim.eval_shrinkage(bp, dp_max_x, dp_max_y, flip)\n",
    "            dp_max, dp_max_x, dp_max_y, bp, flip = editsim.clocal_exp_editsim_withbp_withflip(m2, m1, a=a)\n",
    "            shrinkage2 = editsim.eval_shrinkage(bp, dp_max_x, dp_max_y, flip)\n",
    "            shrinkage = shrinkage1 if abs(shrinkage1) > abs(shrinkage2) else shrinkage2\n",
    "        else:\n",
    "            shrinkage = 0\n",
    "        shrinkage_vec[idx2] = shrinkage\n",
    "    return shrinkage_vec, idx1"
   ]
  },
  {
   "cell_type": "code",
   "execution_count": 108,
   "metadata": {},
   "outputs": [],
   "source": [
    "def eval_shrinkagemat(binarray_csc, window, a, times):\n",
    "    shrinkage_mat = np.zeros((len(times), len(times)))\n",
    "    pool = multiprocessing.Pool()\n",
    "    jobs = []\n",
    "    for idx1, t1 in enumerate(times):\n",
    "        jobs.append(pool.apply_async(eval_shrinkagevec, args = (idx1, t1, times, binarray_csc, window, a)))\n",
    "    for job in jobs:\n",
    "        shrinkage_vec, idx1 = job.get()\n",
    "        shrinkage_mat[idx1, :]  = shrinkage_vec\n",
    "    pool.close()\n",
    "    return shrinkage_mat"
   ]
  },
  {
   "cell_type": "code",
   "execution_count": 121,
   "metadata": {},
   "outputs": [],
   "source": [
    "def draw_color_bar(ax, nstep = 100, min_ = 0, max_ = 1, cmap=\"viridis\"):\n",
    "    step = 0.1\n",
    "    Z = [[0,0],[0,0]]\n",
    "    levels = np.linspace(min_,max_, nstep)\n",
    "    CS3 = plt.contourf(Z, levels, ticks=[], cmap=cmap)\n",
    "    cbar = plt.colorbar(CS3, cax=ax)\n",
    "    cbar.set_ticks([min_, max_])\n",
    "    return(ax)"
   ]
  },
  {
   "cell_type": "code",
   "execution_count": 110,
   "metadata": {},
   "outputs": [],
   "source": [
    "shmat = eval_shrinkagemat(binarray_csc, window, a, times)"
   ]
  },
  {
   "cell_type": "code",
   "execution_count": 111,
   "metadata": {},
   "outputs": [
    {
     "data": {
      "text/plain": [
       "(array([5.672e+03, 1.717e+03, 2.300e+01, 9.000e+00, 1.000e+00, 3.030e+02,\n",
       "        3.420e+02, 1.300e+01, 1.700e+01, 3.000e+00]),\n",
       " array([ 0. ,  1.6,  3.2,  4.8,  6.4,  8. ,  9.6, 11.2, 12.8, 14.4, 16. ]),\n",
       " <a list of 10 Patch objects>)"
      ]
     },
     "execution_count": 111,
     "metadata": {},
     "output_type": "execute_result"
    },
    {
     "data": {
      "image/png": "[encoded data removed]",
      "text/plain": [
       "<Figure size 432x288 with 1 Axes>"
      ]
     },
     "metadata": {},
     "output_type": "display_data"
    }
   ],
   "source": [
    "plt.hist(simmat.flatten())"
   ]
  },
  {
   "cell_type": "code",
   "execution_count": 112,
   "metadata": {},
   "outputs": [],
   "source": [
    "rows, cols = np.where(simmat > 5)"
   ]
  },
  {
   "cell_type": "code",
   "execution_count": 139,
   "metadata": {},
   "outputs": [
    {
     "data": {
      "text/plain": [
       "array([-1,  0,  1,  2])"
      ]
     },
     "execution_count": 139,
     "metadata": {},
     "output_type": "execute_result"
    }
   ],
   "source": [
    "np.unique(cluster.labels_)"
   ]
  },
  {
   "cell_type": "code",
   "execution_count": 140,
   "metadata": {},
   "outputs": [],
   "source": [
    "from itertools import combinations"
   ]
  },
  {
   "cell_type": "code",
   "execution_count": 144,
   "metadata": {},
   "outputs": [
    {
     "name": "stdout",
     "output_type": "stream",
     "text": [
      "(1, 2)\n",
      "(1, 3)\n",
      "(2, 3)\n"
     ]
    }
   ],
   "source": [
    "for item in combinations([1, 2, 3], 2):\n",
    "    print(item)"
   ]
  },
  {
   "cell_type": "code",
   "execution_count": 187,
   "metadata": {},
   "outputs": [
    {
     "name": "stdout",
     "output_type": "stream",
     "text": [
      "(array([54, 55, 56, 57, 58, 59, 60, 61, 62, 63, 65, 66, 67, 68, 69]),)\n",
      "(array([ 0,  1,  2,  3,  4,  5,  6,  7,  8,  9, 11, 12, 13, 14, 15]),)\n",
      "(array([27, 28, 29, 30, 31, 32, 33, 34, 35, 36, 38, 39, 40, 41, 42]),)\n"
     ]
    }
   ],
   "source": [
    "rshmat = np.ones_like(shmat) * np.inf\n",
    "for label in np.unique(cluster.labels_):\n",
    "    if label == -1:\n",
    "        continue\n",
    "    print(np.where(cluster.labels_ == label))\n",
    "    elems = combinations(np.where(cluster.labels_ == label)[0], 2)\n",
    "    for elem1, elem2 in elems:\n",
    "        rshmat[elem1, elem2] = shmat[elem1, elem2]\n",
    "        rshmat[elem2, elem1] = shmat[elem2, elem1]"
   ]
  },
  {
   "cell_type": "code",
   "execution_count": 189,
   "metadata": {},
   "outputs": [
    {
     "name": "stderr",
     "output_type": "stream",
     "text": [
      "/Users/kei/.pyenv/versions/anaconda3-5.2.0/lib/python3.6/site-packages/matplotlib/contour.py:960: UserWarning: The following kwargs were not used by contour: 'ticks'\n",
      "  s)\n",
      "/Users/kei/.pyenv/versions/anaconda3-5.2.0/lib/python3.6/site-packages/matplotlib/contour.py:960: UserWarning: The following kwargs were not used by contour: 'ticks'\n",
      "  s)\n"
     ]
    },
    {
     "data": {
      "text/plain": [
       "<matplotlib.axes._subplots.AxesSubplot at 0x1a282cc940>"
      ]
     },
     "execution_count": 189,
     "metadata": {},
     "output_type": "execute_result"
    },
    {
     "data": {
      "image/png": "[encoded data removed]",
      "text/plain": [
       "<Figure size 432x288 with 4 Axes>"
      ]
     },
     "metadata": {},
     "output_type": "display_data"
    }
   ],
   "source": [
    "plt.figure()\n",
    "\n",
    "grid1 = gridspec.GridSpec(8, 8)\n",
    "grid1.update(left=0.05, right = 0.4)\n",
    "ax = plt.subplot(grid1[:, :6])\n",
    "ax.imshow(simmat, vmax = int(simmat.max()), vmin = 0, cmap=\"viridis\")\n",
    "ax.set_title(\"Similarity Matrix\")\n",
    "ax = plt.subplot(grid1[2:6, 7])\n",
    "draw_color_bar(ax, min_ = 0, max_ = int(simmat.max()), cmap=\"viridis\")\n",
    "\n",
    "grid2 = gridspec.GridSpec(8, 8)\n",
    "grid2.update(left=0.55, right = 0.9)\n",
    "ax = plt.subplot(grid2[:, :6])\n",
    "ax.imshow(rshmat, cmap=\"RdYlBu_r\")\n",
    "ax.set_title(\"Shrinkage Matrix\")\n",
    "ax = plt.subplot(grid2[2:6, 7])\n",
    "draw_color_bar(ax, min_=rshmat.min(), max_=5, cmap=\"RdYlBu_r\")"
   ]
  },
  {
   "cell_type": "markdown",
   "metadata": {},
   "source": [
    "# Plusの部分とMinusの部分を別々にクラスタリングすることにする"
   ]
  },
  {
   "cell_type": "code",
   "execution_count": 202,
   "metadata": {},
   "outputs": [
    {
     "name": "stdout",
     "output_type": "stream",
     "text": [
      "(array([ 0,  0,  0, ..., 89, 89, 89]), array([ 0,  1,  2, ..., 87, 88, 89]))\n"
     ]
    }
   ],
   "source": [
    "rows, cols = np.where(rshmat > 0)\n",
    "rshmat_plus = np.ones_like(rshmat) * np.inf\n",
    "print(elems)\n",
    "for elem1, elem2 in zip(rows, cols):\n",
    "    rshmat_plus[elem1, elem2] = rshmat[elem1, elem2]\n",
    "    rshmat_plus[elem2, elem1] = rshmat[elem2, elem1]"
   ]
  },
  {
   "cell_type": "code",
   "execution_count": 203,
   "metadata": {},
   "outputs": [
    {
     "data": {
      "text/plain": [
       "<matplotlib.colorbar.Colorbar at 0x1a2893cef0>"
      ]
     },
     "execution_count": 203,
     "metadata": {},
     "output_type": "execute_result"
    },
    {
     "data": {
      "image/png": "[encoded data removed]",
      "text/plain": [
       "<Figure size 432x288 with 2 Axes>"
      ]
     },
     "metadata": {},
     "output_type": "display_data"
    }
   ],
   "source": [
    "plt.imshow((rshmat_plus), cmap=\"RdYlBu_r\")\n",
    "plt.colorbar()"
   ]
  },
  {
   "cell_type": "code",
   "execution_count": 213,
   "metadata": {},
   "outputs": [
    {
     "name": "stderr",
     "output_type": "stream",
     "text": [
      "/Users/kei/.pyenv/versions/anaconda3-5.2.0/lib/python3.6/site-packages/hdbscan/hdbscan_.py:101: UserWarning: The minimum spanning tree contains edge weights with value infinity. Potentially, you are missing too many distances in the initial distance matrix for the given neighborhood size.\n",
      "  'size.', UserWarning)\n"
     ]
    },
    {
     "data": {
      "text/plain": [
       "<matplotlib.axes._subplots.AxesSubplot at 0x1a290fe518>"
      ]
     },
     "execution_count": 213,
     "metadata": {},
     "output_type": "execute_result"
    },
    {
     "data": {
      "image/png": "[encoded data removed]",
      "text/plain": [
       "<Figure size 432x288 with 2 Axes>"
      ]
     },
     "metadata": {},
     "output_type": "display_data"
    }
   ],
   "source": [
    "plus_cluster = hdbscan.HDBSCAN(min_cluster_size=5, gen_min_span_tree=True, metric=\"precomputed\")\n",
    "plus_cluster.fit(rshmat_plus)\n",
    "cluster.condensed_tree_.plot(select_clusters = True, selection_palette=sns.color_palette())"
   ]
  },
  {
   "cell_type": "markdown",
   "metadata": {},
   "source": [
    "## Plusのクラスタ情報をもとにして，Shrinkage Factorを考える段になってからminusを考慮する方式でやることにする"
   ]
  },
  {
   "cell_type": "markdown",
   "metadata": {},
   "source": [
    "## plus_cluster.labels_"
   ]
  },
  {
   "cell_type": "code",
   "execution_count": 204,
   "metadata": {},
   "outputs": [
    {
     "name": "stdout",
     "output_type": "stream",
     "text": [
      "(array([ 0,  0,  0, ..., 89, 89, 89]), array([ 0,  1,  2, ..., 87, 88, 89]))\n"
     ]
    }
   ],
   "source": [
    "rows, cols = np.where(rshmat < 0)\n",
    "rshmat_minus = np.ones_like(rshmat) * np.inf\n",
    "print(elems)\n",
    "for elem1, elem2 in zip(rows, cols):\n",
    "    rshmat_minus[elem1, elem2] = rshmat[elem1, elem2]\n",
    "    rshmat_minus[elem2, elem1] = rshmat[elem2, elem1]"
   ]
  },
  {
   "cell_type": "code",
   "execution_count": 210,
   "metadata": {},
   "outputs": [
    {
     "name": "stderr",
     "output_type": "stream",
     "text": [
      "/Users/kei/.pyenv/versions/anaconda3-5.2.0/lib/python3.6/site-packages/hdbscan/hdbscan_.py:101: UserWarning: The minimum spanning tree contains edge weights with value infinity. Potentially, you are missing too many distances in the initial distance matrix for the given neighborhood size.\n",
      "  'size.', UserWarning)\n"
     ]
    },
    {
     "data": {
      "text/plain": [
       "<matplotlib.axes._subplots.AxesSubplot at 0x1a28f8dfd0>"
      ]
     },
     "execution_count": 210,
     "metadata": {},
     "output_type": "execute_result"
    },
    {
     "data": {
      "image/png": "[encoded data removed]",
      "text/plain": [
       "<Figure size 432x288 with 2 Axes>"
      ]
     },
     "metadata": {},
     "output_type": "display_data"
    }
   ],
   "source": [
    "minus_cluster = hdbscan.HDBSCAN(min_cluster_size=10, gen_min_span_tree=True, metric=\"precomputed\")\n",
    "minus_cluster.fit(-rshmat_minus)\n",
    "cluster.condensed_tree_.plot(select_clusters = True, selection_palette=sns.color_palette())"
   ]
  },
  {
   "cell_type": "code",
   "execution_count": 208,
   "metadata": {},
   "outputs": [
    {
     "data": {
      "text/plain": [
       "<matplotlib.colorbar.Colorbar at 0x1a28e11240>"
      ]
     },
     "execution_count": 208,
     "metadata": {},
     "output_type": "execute_result"
    },
    {
     "data": {
      "image/png": "[encoded data removed]",
      "text/plain": [
       "<Figure size 432x288 with 2 Axes>"
      ]
     },
     "metadata": {},
     "output_type": "display_data"
    }
   ],
   "source": [
    "plt.imshow(rshmat_minus, cmap=\"RdYlBu_r\")\n",
    "plt.colorbar()"
   ]
  },
  {
   "cell_type": "code",
   "execution_count": 190,
   "metadata": {},
   "outputs": [
    {
     "data": {
      "text/plain": [
       "<matplotlib.colorbar.Colorbar at 0x1a28517470>"
      ]
     },
     "execution_count": 190,
     "metadata": {},
     "output_type": "execute_result"
    },
    {
     "data": {
      "image/png": "[encoded data removed]",
      "text/plain": [
       "<Figure size 432x288 with 2 Axes>"
      ]
     },
     "metadata": {},
     "output_type": "display_data"
    }
   ],
   "source": [
    "plt.imshow(np.abs(rshmat)())\n",
    "plt.colorbar()"
   ]
  },
  {
   "cell_type": "code",
   "execution_count": 183,
   "metadata": {},
   "outputs": [
    {
     "name": "stderr",
     "output_type": "stream",
     "text": [
      "/Users/kei/.pyenv/versions/anaconda3-5.2.0/lib/python3.6/site-packages/hdbscan/hdbscan_.py:101: UserWarning: The minimum spanning tree contains edge weights with value infinity. Potentially, you are missing too many distances in the initial distance matrix for the given neighborhood size.\n",
      "  'size.', UserWarning)\n"
     ]
    },
    {
     "ename": "ValueError",
     "evalue": "max() arg is an empty sequence",
     "output_type": "error",
     "traceback": [
      "\u001b[0;31m---------------------------------------------------\u001b[0m",
      "\u001b[0;31mValueError\u001b[0m        Traceback (most recent call last)",
      "\u001b[0;32m<ipython-input-183-43baa4d457c3>\u001b[0m in \u001b[0;36m<module>\u001b[0;34m()\u001b[0m\n\u001b[1;32m      1\u001b[0m \u001b[0mshcluster\u001b[0m \u001b[0;34m=\u001b[0m \u001b[0mhdbscan\u001b[0m\u001b[0;34m.\u001b[0m\u001b[0mHDBSCAN\u001b[0m\u001b[0;34m(\u001b[0m\u001b[0mmin_cluster_size\u001b[0m\u001b[0;34m=\u001b[0m\u001b[0;36m10\u001b[0m\u001b[0;34m,\u001b[0m \u001b[0mgen_min_span_tree\u001b[0m\u001b[0;34m=\u001b[0m\u001b[0;32mTrue\u001b[0m\u001b[0;34m,\u001b[0m \u001b[0mmetric\u001b[0m\u001b[0;34m=\u001b[0m\u001b[0;34m\"precomputed\"\u001b[0m\u001b[0;34m)\u001b[0m\u001b[0;34m\u001b[0m\u001b[0m\n\u001b[1;32m      2\u001b[0m \u001b[0mshcluster\u001b[0m\u001b[0;34m.\u001b[0m\u001b[0mfit\u001b[0m\u001b[0;34m(\u001b[0m\u001b[0mrshmat\u001b[0m\u001b[0;34m)\u001b[0m\u001b[0;34m\u001b[0m\u001b[0m\n\u001b[0;32m----> 3\u001b[0;31m \u001b[0mshcluster\u001b[0m\u001b[0;34m.\u001b[0m\u001b[0mcondensed_tree_\u001b[0m\u001b[0;34m.\u001b[0m\u001b[0mplot\u001b[0m\u001b[0;34m(\u001b[0m\u001b[0mselect_clusters\u001b[0m \u001b[0;34m=\u001b[0m \u001b[0;32mTrue\u001b[0m\u001b[0;34m,\u001b[0m \u001b[0mselection_palette\u001b[0m\u001b[0;34m=\u001b[0m\u001b[0msns\u001b[0m\u001b[0;34m.\u001b[0m\u001b[0mcolor_palette\u001b[0m\u001b[0;34m(\u001b[0m\u001b[0;34m)\u001b[0m\u001b[0;34m)\u001b[0m\u001b[0;34m\u001b[0m\u001b[0m\n\u001b[0m",
      "\u001b[0;32m~/.pyenv/versions/anaconda3-5.2.0/lib/python3.6/site-packages/hdbscan/plots.py\u001b[0m in \u001b[0;36mplot\u001b[0;34m(self, leaf_separation, cmap, select_clusters, label_clusters, selection_palette, axis, colorbar, log_size, max_rectangles_per_icicle)\u001b[0m\n\u001b[1;32m    341\u001b[0m         \u001b[0;32mif\u001b[0m \u001b[0mcmap\u001b[0m \u001b[0;34m!=\u001b[0m \u001b[0;34m'none'\u001b[0m\u001b[0;34m:\u001b[0m\u001b[0;34m\u001b[0m\u001b[0m\n\u001b[1;32m    342\u001b[0m             sm = plt.cm.ScalarMappable(cmap=cmap,\n\u001b[0;32m--> 343\u001b[0;31m                                        norm=plt.Normalize(0, max(plot_data['bar_widths'])))\n\u001b[0m\u001b[1;32m    344\u001b[0m             \u001b[0msm\u001b[0m\u001b[0;34m.\u001b[0m\u001b[0mset_array\u001b[0m\u001b[0;34m(\u001b[0m\u001b[0mplot_data\u001b[0m\u001b[0;34m[\u001b[0m\u001b[0;34m'bar_widths'\u001b[0m\u001b[0;34m]\u001b[0m\u001b[0;34m)\u001b[0m\u001b[0;34m\u001b[0m\u001b[0m\n\u001b[1;32m    345\u001b[0m             \u001b[0mbar_colors\u001b[0m \u001b[0;34m=\u001b[0m \u001b[0;34m[\u001b[0m\u001b[0msm\u001b[0m\u001b[0;34m.\u001b[0m\u001b[0mto_rgba\u001b[0m\u001b[0;34m(\u001b[0m\u001b[0mx\u001b[0m\u001b[0;34m)\u001b[0m \u001b[0;32mfor\u001b[0m \u001b[0mx\u001b[0m \u001b[0;32min\u001b[0m \u001b[0mplot_data\u001b[0m\u001b[0;34m[\u001b[0m\u001b[0;34m'bar_widths'\u001b[0m\u001b[0;34m]\u001b[0m\u001b[0;34m]\u001b[0m\u001b[0;34m\u001b[0m\u001b[0m\n",
      "\u001b[0;31mValueError\u001b[0m: max() arg is an empty sequence"
     ]
    }
   ],
   "source": [
    "shcluster = hdbscan.HDBSCAN(min_cluster_size=10, gen_min_span_tree=True, metric=\"precomputed\")\n",
    "shcluster.fit(np.abs(rshmat))\n",
    "shcluster.condensed_tree_.plot(select_clusters = True, selection_palette=sns.color_palette())"
   ]
  },
  {
   "cell_type": "code",
   "execution_count": null,
   "metadata": {},
   "outputs": [],
   "source": [
    "rshdistmat"
   ]
  },
  {
   "cell_type": "code",
   "execution_count": null,
   "metadata": {},
   "outputs": [],
   "source": []
  },
  {
   "cell_type": "code",
   "execution_count": null,
   "metadata": {},
   "outputs": [],
   "source": []
  },
  {
   "cell_type": "code",
   "execution_count": null,
   "metadata": {},
   "outputs": [],
   "source": []
  },
  {
   "cell_type": "code",
   "execution_count": null,
   "metadata": {},
   "outputs": [],
   "source": []
  },
  {
   "cell_type": "code",
   "execution_count": 72,
   "metadata": {},
   "outputs": [
    {
     "ename": "AttributeError",
     "evalue": "'DataFrame' object has no attribute 'bin'",
     "output_type": "error",
     "traceback": [
      "\u001b[0;31m---------------------------------------------------\u001b[0m",
      "\u001b[0;31mAttributeError\u001b[0m    Traceback (most recent call last)",
      "\u001b[0;32m<ipython-input-72-9db089aad198>\u001b[0m in \u001b[0;36m<module>\u001b[0;34m()\u001b[0m\n\u001b[1;32m      5\u001b[0m     \u001b[0;32mif\u001b[0m \u001b[0mlabel\u001b[0m \u001b[0;34m==\u001b[0m \u001b[0;34m-\u001b[0m\u001b[0;36m1\u001b[0m\u001b[0;34m:\u001b[0m\u001b[0;34m\u001b[0m\u001b[0m\n\u001b[1;32m      6\u001b[0m         \u001b[0;32mcontinue\u001b[0m\u001b[0;34m\u001b[0m\u001b[0m\n\u001b[0;32m----> 7\u001b[0;31m     \u001b[0mshtimes\u001b[0m \u001b[0;34m=\u001b[0m \u001b[0mseqdf\u001b[0m\u001b[0;34m.\u001b[0m\u001b[0mbin\u001b[0m\u001b[0;34m[\u001b[0m\u001b[0mseqdf\u001b[0m\u001b[0;34m.\u001b[0m\u001b[0mseq\u001b[0m \u001b[0;34m==\u001b[0m \u001b[0mlabel\u001b[0m\u001b[0;34m]\u001b[0m\u001b[0;34m\u001b[0m\u001b[0m\n\u001b[0m\u001b[1;32m      8\u001b[0m     \u001b[0mshtimes_list\u001b[0m\u001b[0;34m.\u001b[0m\u001b[0mappend\u001b[0m\u001b[0;34m(\u001b[0m\u001b[0mshtimes\u001b[0m\u001b[0;34m)\u001b[0m\u001b[0;34m\u001b[0m\u001b[0m\n\u001b[1;32m      9\u001b[0m     \u001b[0mshmat_list\u001b[0m\u001b[0;34m.\u001b[0m\u001b[0mappend\u001b[0m\u001b[0;34m(\u001b[0m\u001b[0meval_shrinkagemat\u001b[0m\u001b[0;34m(\u001b[0m\u001b[0mbinarray_csc\u001b[0m\u001b[0;34m,\u001b[0m \u001b[0mwindow\u001b[0m\u001b[0;34m,\u001b[0m \u001b[0ma\u001b[0m\u001b[0;34m,\u001b[0m \u001b[0mshtimes\u001b[0m\u001b[0;34m)\u001b[0m\u001b[0;34m)\u001b[0m\u001b[0;34m\u001b[0m\u001b[0m\n",
      "\u001b[0;32m~/.pyenv/versions/anaconda3-5.2.0/lib/python3.6/site-packages/pandas/core/generic.py\u001b[0m in \u001b[0;36m__getattr__\u001b[0;34m(self, name)\u001b[0m\n\u001b[1;32m   4370\u001b[0m             \u001b[0;32mif\u001b[0m \u001b[0mself\u001b[0m\u001b[0;34m.\u001b[0m\u001b[0m_info_axis\u001b[0m\u001b[0;34m.\u001b[0m\u001b[0m_can_hold_identifiers_and_holds_name\u001b[0m\u001b[0;34m(\u001b[0m\u001b[0mname\u001b[0m\u001b[0;34m)\u001b[0m\u001b[0;34m:\u001b[0m\u001b[0;34m\u001b[0m\u001b[0m\n\u001b[1;32m   4371\u001b[0m                 \u001b[0;32mreturn\u001b[0m \u001b[0mself\u001b[0m\u001b[0;34m[\u001b[0m\u001b[0mname\u001b[0m\u001b[0;34m]\u001b[0m\u001b[0;34m\u001b[0m\u001b[0m\n\u001b[0;32m-> 4372\u001b[0;31m             \u001b[0;32mreturn\u001b[0m \u001b[0mobject\u001b[0m\u001b[0;34m.\u001b[0m\u001b[0m__getattribute__\u001b[0m\u001b[0;34m(\u001b[0m\u001b[0mself\u001b[0m\u001b[0;34m,\u001b[0m \u001b[0mname\u001b[0m\u001b[0;34m)\u001b[0m\u001b[0;34m\u001b[0m\u001b[0m\n\u001b[0m\u001b[1;32m   4373\u001b[0m \u001b[0;34m\u001b[0m\u001b[0m\n\u001b[1;32m   4374\u001b[0m     \u001b[0;32mdef\u001b[0m \u001b[0m__setattr__\u001b[0m\u001b[0;34m(\u001b[0m\u001b[0mself\u001b[0m\u001b[0;34m,\u001b[0m \u001b[0mname\u001b[0m\u001b[0;34m,\u001b[0m \u001b[0mvalue\u001b[0m\u001b[0;34m)\u001b[0m\u001b[0;34m:\u001b[0m\u001b[0;34m\u001b[0m\u001b[0m\n",
      "\u001b[0;31mAttributeError\u001b[0m: 'DataFrame' object has no attribute 'bin'"
     ]
    }
   ],
   "source": [
    "uniq_labels = np.unique(seqdf.seq)\n",
    "shtimes_list = []\n",
    "shmat_list = []\n",
    "for label in uniq_labels:\n",
    "    if label == -1:\n",
    "        continue\n",
    "    shtimes = seqdf.bin[seqdf.seq == label]\n",
    "    shtimes_list.append(shtimes)\n",
    "    shmat_list.append(eval_shrinkagemat(binarray_csc, window, a, shtimes))"
   ]
  },
  {
   "cell_type": "code",
   "execution_count": null,
   "metadata": {},
   "outputs": [],
   "source": [
    "for shmat in shmat_list:\n",
    "    plt.imshow(shmat)\n",
    "    print(shmat.max(), shmat.min())\n",
    "    plt.colorbar()\n",
    "    plt.show()"
   ]
  },
  {
   "cell_type": "code",
   "execution_count": null,
   "metadata": {},
   "outputs": [],
   "source": [
    "plt.imshow(distmat)\n",
    "plt.colorbar()"
   ]
  },
  {
   "cell_type": "code",
   "execution_count": null,
   "metadata": {},
   "outputs": [],
   "source": [
    "from scipy.cluster.hierarchy import cophenet\n",
    "from scipy.cluster.hierarchy import dendrogram, linkage\n",
    "from scipy.cluster.hierarchy import inconsistent\n",
    "from scipy.cluster.hierarchy import fcluster"
   ]
  },
  {
   "cell_type": "code",
   "execution_count": 197,
   "metadata": {},
   "outputs": [
    {
     "data": {
      "image/png": "[encoded data removed]",
      "text/plain": [
       "<matplotlib.figure.Figure at 0x7efdbe568668>"
      ]
     },
     "metadata": {},
     "output_type": "display_data"
    }
   ],
   "source": [
    "Z = linkage(simmat, 'ward')\n",
    "fcluster(Z, 1)\n",
    "plt.title('Hierarchical Clustering Dendrogram')\n",
    "plt.xlabel('sample index')\n",
    "plt.ylabel('distance')\n",
    "dendrogram(\n",
    "    Z,\n",
    "    leaf_rotation=90.,  # rotates the x axis labels\n",
    "    leaf_font_size=8.,  # font size for the x axis labels\n",
    ");"
   ]
  },
  {
   "cell_type": "code",
   "execution_count": 69,
   "metadata": {},
   "outputs": [
    {
     "ename": "NameError",
     "evalue": "name 'linkage' is not defined",
     "output_type": "error",
     "traceback": [
      "\u001b[0;31m---------------------------------------------------------------------------\u001b[0m",
      "\u001b[0;31mNameError\u001b[0m                                 Traceback (most recent call last)",
      "\u001b[0;32m<ipython-input-69-0eff50262bdb>\u001b[0m in \u001b[0;36m<module>\u001b[0;34m()\u001b[0m\n\u001b[1;32m      6\u001b[0m         \u001b[0mwhshmat\u001b[0m\u001b[0;34m[\u001b[0m\u001b[0mrow\u001b[0m\u001b[0;34m,\u001b[0m \u001b[0mcol\u001b[0m\u001b[0;34m]\u001b[0m \u001b[0;34m=\u001b[0m \u001b[0mshmat\u001b[0m\u001b[0;34m[\u001b[0m\u001b[0mrow\u001b[0m\u001b[0;34m,\u001b[0m \u001b[0mcol\u001b[0m\u001b[0;34m]\u001b[0m\u001b[0;34m\u001b[0m\u001b[0m\n\u001b[1;32m      7\u001b[0m     \u001b[0mdistmat\u001b[0m \u001b[0;34m=\u001b[0m \u001b[0;36m1\u001b[0m \u001b[0;34m/\u001b[0m \u001b[0;34m(\u001b[0m\u001b[0;36m1\u001b[0m \u001b[0;34m+\u001b[0m \u001b[0mwhshmat\u001b[0m\u001b[0;34m)\u001b[0m\u001b[0;34m\u001b[0m\u001b[0m\n\u001b[0;32m----> 8\u001b[0;31m     \u001b[0mZ\u001b[0m \u001b[0;34m=\u001b[0m \u001b[0mlinkage\u001b[0m\u001b[0;34m(\u001b[0m\u001b[0mwhshmat\u001b[0m\u001b[0;34m,\u001b[0m \u001b[0;34m'ward'\u001b[0m\u001b[0;34m)\u001b[0m\u001b[0;34m\u001b[0m\u001b[0m\n\u001b[0m\u001b[1;32m      9\u001b[0m     \u001b[0mseqdf\u001b[0m\u001b[0;34m.\u001b[0m\u001b[0mloc\u001b[0m\u001b[0;34m[\u001b[0m\u001b[0mshtimes\u001b[0m\u001b[0;34m.\u001b[0m\u001b[0mindex\u001b[0m\u001b[0;34m,\u001b[0m \u001b[0;34m\"shr\"\u001b[0m\u001b[0;34m]\u001b[0m \u001b[0;34m=\u001b[0m \u001b[0mfcluster\u001b[0m\u001b[0;34m(\u001b[0m\u001b[0mZ\u001b[0m\u001b[0;34m,\u001b[0m \u001b[0;36m1\u001b[0m\u001b[0;34m)\u001b[0m\u001b[0;34m\u001b[0m\u001b[0m\n\u001b[1;32m     10\u001b[0m \u001b[0mseqdf\u001b[0m\u001b[0;34m[\u001b[0m\u001b[0;34m\"shr\"\u001b[0m\u001b[0;34m]\u001b[0m \u001b[0;34m=\u001b[0m \u001b[0mseqdf\u001b[0m\u001b[0;34m[\u001b[0m\u001b[0;34m\"shr\"\u001b[0m\u001b[0;34m]\u001b[0m\u001b[0;34m.\u001b[0m\u001b[0mastype\u001b[0m\u001b[0;34m(\u001b[0m\u001b[0;34m'category'\u001b[0m\u001b[0;34m)\u001b[0m\u001b[0;34m\u001b[0m\u001b[0m\n",
      "\u001b[0;31mNameError\u001b[0m: name 'linkage' is not defined"
     ]
    }
   ],
   "source": [
    "seqdf[\"shr\"] = -1\n",
    "for shtimes, shmat in zip(shtimes_list, shmat_list):\n",
    "    rows, cols = np.where(np.logical_and(0.99 < shmat, shmat < 1.01)) # TODO params\n",
    "    whshmat = np.zeros_like(shmat)\n",
    "    for row, col in zip(rows, cols):\n",
    "        whshmat[row, col] = shmat[row, col]\n",
    "    distmat = 1 / (1 + whshmat)\n",
    "    Z = linkage(whshmat, 'ward')\n",
    "    seqdf.loc[shtimes.index, \"shr\"] = fcluster(Z, 1)\n",
    "seqdf[\"shr\"] = seqdf[\"shr\"].astype('category')"
   ]
  },
  {
   "cell_type": "code",
   "execution_count": 252,
   "metadata": {},
   "outputs": [
    {
     "name": "stdout",
     "output_type": "stream",
     "text": [
      "2\n"
     ]
    }
   ],
   "source": [
    "seqidx = 1\n",
    "shridx1 = seqdf.shr.unique()[\n",
    "    np.array(\n",
    "        [len(\n",
    "            seqdf.query(\n",
    "                \"seq == {} and shr == {}\".format(seqidx, shridx1)\n",
    "            ).index) for shridx in seqdf.shr.unique()\n",
    "        ]).argmax()\n",
    "]\n",
    "print(shridx1)"
   ]
  },
  {
   "cell_type": "code",
   "execution_count": 250,
   "metadata": {},
   "outputs": [
    {
     "data": {
      "text/html": [
       "<div>\n",
       "<style>\n",
       "    .dataframe thead tr:only-child th {\n",
       "        text-align: right;\n",
       "    }\n",
       "\n",
       "    .dataframe thead th {\n",
       "        text-align: left;\n",
       "    }\n",
       "\n",
       "    .dataframe tbody tr th {\n",
       "        vertical-align: top;\n",
       "    }\n",
       "</style>\n",
       "<table border=\"1\" class=\"dataframe\">\n",
       "  <thead>\n",
       "    <tr style=\"text-align: right;\">\n",
       "      <th></th>\n",
       "      <th>bin</th>\n",
       "      <th>seq</th>\n",
       "      <th>shr</th>\n",
       "    </tr>\n",
       "  </thead>\n",
       "  <tbody>\n",
       "    <tr>\n",
       "      <th>0</th>\n",
       "      <td>0</td>\n",
       "      <td>1</td>\n",
       "      <td>2</td>\n",
       "    </tr>\n",
       "    <tr>\n",
       "      <th>1</th>\n",
       "      <td>300</td>\n",
       "      <td>1</td>\n",
       "      <td>2</td>\n",
       "    </tr>\n",
       "    <tr>\n",
       "      <th>2</th>\n",
       "      <td>600</td>\n",
       "      <td>1</td>\n",
       "      <td>2</td>\n",
       "    </tr>\n",
       "    <tr>\n",
       "      <th>3</th>\n",
       "      <td>900</td>\n",
       "      <td>1</td>\n",
       "      <td>2</td>\n",
       "    </tr>\n",
       "    <tr>\n",
       "      <th>4</th>\n",
       "      <td>1200</td>\n",
       "      <td>1</td>\n",
       "      <td>2</td>\n",
       "    </tr>\n",
       "    <tr>\n",
       "      <th>5</th>\n",
       "      <td>1500</td>\n",
       "      <td>1</td>\n",
       "      <td>2</td>\n",
       "    </tr>\n",
       "    <tr>\n",
       "      <th>6</th>\n",
       "      <td>1800</td>\n",
       "      <td>1</td>\n",
       "      <td>2</td>\n",
       "    </tr>\n",
       "    <tr>\n",
       "      <th>7</th>\n",
       "      <td>2100</td>\n",
       "      <td>1</td>\n",
       "      <td>2</td>\n",
       "    </tr>\n",
       "    <tr>\n",
       "      <th>8</th>\n",
       "      <td>2400</td>\n",
       "      <td>1</td>\n",
       "      <td>2</td>\n",
       "    </tr>\n",
       "    <tr>\n",
       "      <th>9</th>\n",
       "      <td>2700</td>\n",
       "      <td>1</td>\n",
       "      <td>2</td>\n",
       "    </tr>\n",
       "    <tr>\n",
       "      <th>10</th>\n",
       "      <td>3000</td>\n",
       "      <td>1</td>\n",
       "      <td>1</td>\n",
       "    </tr>\n",
       "    <tr>\n",
       "      <th>11</th>\n",
       "      <td>3300</td>\n",
       "      <td>1</td>\n",
       "      <td>1</td>\n",
       "    </tr>\n",
       "    <tr>\n",
       "      <th>12</th>\n",
       "      <td>3600</td>\n",
       "      <td>1</td>\n",
       "      <td>1</td>\n",
       "    </tr>\n",
       "    <tr>\n",
       "      <th>13</th>\n",
       "      <td>3900</td>\n",
       "      <td>1</td>\n",
       "      <td>1</td>\n",
       "    </tr>\n",
       "    <tr>\n",
       "      <th>14</th>\n",
       "      <td>4200</td>\n",
       "      <td>1</td>\n",
       "      <td>1</td>\n",
       "    </tr>\n",
       "    <tr>\n",
       "      <th>15</th>\n",
       "      <td>4500</td>\n",
       "      <td>1</td>\n",
       "      <td>1</td>\n",
       "    </tr>\n",
       "    <tr>\n",
       "      <th>16</th>\n",
       "      <td>4800</td>\n",
       "      <td>1</td>\n",
       "      <td>1</td>\n",
       "    </tr>\n",
       "    <tr>\n",
       "      <th>17</th>\n",
       "      <td>5100</td>\n",
       "      <td>1</td>\n",
       "      <td>1</td>\n",
       "    </tr>\n",
       "    <tr>\n",
       "      <th>18</th>\n",
       "      <td>5400</td>\n",
       "      <td>1</td>\n",
       "      <td>1</td>\n",
       "    </tr>\n",
       "    <tr>\n",
       "      <th>19</th>\n",
       "      <td>5700</td>\n",
       "      <td>1</td>\n",
       "      <td>1</td>\n",
       "    </tr>\n",
       "    <tr>\n",
       "      <th>20</th>\n",
       "      <td>6000</td>\n",
       "      <td>1</td>\n",
       "      <td>3</td>\n",
       "    </tr>\n",
       "    <tr>\n",
       "      <th>21</th>\n",
       "      <td>6300</td>\n",
       "      <td>1</td>\n",
       "      <td>3</td>\n",
       "    </tr>\n",
       "    <tr>\n",
       "      <th>22</th>\n",
       "      <td>6600</td>\n",
       "      <td>1</td>\n",
       "      <td>3</td>\n",
       "    </tr>\n",
       "    <tr>\n",
       "      <th>23</th>\n",
       "      <td>6900</td>\n",
       "      <td>1</td>\n",
       "      <td>3</td>\n",
       "    </tr>\n",
       "    <tr>\n",
       "      <th>24</th>\n",
       "      <td>7200</td>\n",
       "      <td>1</td>\n",
       "      <td>3</td>\n",
       "    </tr>\n",
       "    <tr>\n",
       "      <th>25</th>\n",
       "      <td>7500</td>\n",
       "      <td>1</td>\n",
       "      <td>3</td>\n",
       "    </tr>\n",
       "    <tr>\n",
       "      <th>26</th>\n",
       "      <td>7800</td>\n",
       "      <td>1</td>\n",
       "      <td>3</td>\n",
       "    </tr>\n",
       "    <tr>\n",
       "      <th>27</th>\n",
       "      <td>8100</td>\n",
       "      <td>1</td>\n",
       "      <td>3</td>\n",
       "    </tr>\n",
       "    <tr>\n",
       "      <th>28</th>\n",
       "      <td>8400</td>\n",
       "      <td>1</td>\n",
       "      <td>3</td>\n",
       "    </tr>\n",
       "    <tr>\n",
       "      <th>29</th>\n",
       "      <td>8700</td>\n",
       "      <td>1</td>\n",
       "      <td>3</td>\n",
       "    </tr>\n",
       "  </tbody>\n",
       "</table>\n",
       "</div>"
      ],
      "text/plain": [
       "     bin seq shr\n",
       "0      0   1   2\n",
       "1    300   1   2\n",
       "2    600   1   2\n",
       "3    900   1   2\n",
       "4   1200   1   2\n",
       "5   1500   1   2\n",
       "6   1800   1   2\n",
       "7   2100   1   2\n",
       "8   2400   1   2\n",
       "9   2700   1   2\n",
       "10  3000   1   1\n",
       "11  3300   1   1\n",
       "12  3600   1   1\n",
       "13  3900   1   1\n",
       "14  4200   1   1\n",
       "15  4500   1   1\n",
       "16  4800   1   1\n",
       "17  5100   1   1\n",
       "18  5400   1   1\n",
       "19  5700   1   1\n",
       "20  6000   1   3\n",
       "21  6300   1   3\n",
       "22  6600   1   3\n",
       "23  6900   1   3\n",
       "24  7200   1   3\n",
       "25  7500   1   3\n",
       "26  7800   1   3\n",
       "27  8100   1   3\n",
       "28  8400   1   3\n",
       "29  8700   1   3"
      ]
     },
     "execution_count": 250,
     "metadata": {},
     "output_type": "execute_result"
    }
   ],
   "source": [
    "seqdf.query(\"seq == {}\".format(seqidx))"
   ]
  },
  {
   "cell_type": "code",
   "execution_count": 17,
   "metadata": {},
   "outputs": [],
   "source": [
    "from functools import partial"
   ]
  },
  {
   "cell_type": "code",
   "execution_count": 22,
   "metadata": {},
   "outputs": [],
   "source": [
    "def f(x, y, z):\n",
    "    return x+y+z"
   ]
  },
  {
   "cell_type": "code",
   "execution_count": 23,
   "metadata": {},
   "outputs": [
    {
     "data": {
      "text/plain": [
       "[21, 31]"
      ]
     },
     "execution_count": 23,
     "metadata": {},
     "output_type": "execute_result"
    }
   ],
   "source": [
    "list(map(partial(f, 10, 1), [10, 20]))"
   ]
  },
  {
   "cell_type": "code",
   "execution_count": 78,
   "metadata": {},
   "outputs": [],
   "source": [
    "seqidx = 1\n",
    "def select_seq(seqdf, seqidx, shridx):\n",
    "    return seqdf.query(\n",
    "        \"seq == {} and shr == {}\".format(\n",
    "            seqidx, shridx\n",
    "        )\n",
    "    )\n",
    "def scale(seqdf, seqidx, shridx):\n",
    "    return len(\n",
    "        select_seq(\n",
    "            seqdf, seqidx, shridx\n",
    "        ).index\n",
    "    )\n",
    "get_scale = partial(\n",
    "    scale, seqdf, seqidx\n",
    ")"
   ]
  },
  {
   "cell_type": "code",
   "execution_count": 80,
   "metadata": {},
   "outputs": [
    {
     "data": {
      "text/plain": [
       "0"
      ]
     },
     "execution_count": 80,
     "metadata": {},
     "output_type": "execute_result"
    }
   ],
   "source": [
    "get_scale(2)"
   ]
  },
  {
   "cell_type": "code",
   "execution_count": null,
   "metadata": {},
   "outputs": [],
   "source": []
  },
  {
   "cell_type": "code",
   "execution_count": null,
   "metadata": {},
   "outputs": [],
   "source": [
    "for seqidx in seqdf.seq.unique():\n",
    "    # 適当なidxから始める -> sortして中央に来たidxをAwakeとみなすか？\n",
    "    if seqidx == -1:\n",
    "        continue\n",
    "    n_elems = []\n",
    "    # 要素数最大のidxを抜き出す\n",
    "    shridx1 = seqdf.shr.unique()[\n",
    "        np.array(\n",
    "            [len(\n",
    "                seqdf.query(\n",
    "                    \"seq == {} and shr == {}\".format(seqidx, shridx1)\n",
    "                ).index) for shridx in seqdf.shr.unique() if shridx != -1\n",
    "            ]).argmax()\n",
    "    ]\n",
    "    get_scale = partial(\n",
    "        seqdf.query(\n",
    "        \"seq == {} and shr == {}\".format, seqidx\n",
    "    )\n",
    "    same_scale = seqdf.query(\n",
    "        \"seq == {} and shr == {}\".format(seqidx, shridx1)\n",
    "    ).index\n",
    "    for shridx2 in seqdf.shr.unique():\n",
    "        if shridx1 == shridx2 or shridx2 == -1:\n",
    "            continue\n",
    "        different_scale = seqdf.query(\n",
    "            \"seq == {} and shr == {}\".format(seqidx, shridx2)\n",
    "        ).index\n",
    "        scales = []\n",
    "        for idx1 in same_scale:\n",
    "            for idx2 in different_scale:\n",
    "                scales.append(shmat[idx1, idx2])\n",
    "        print(\"sc\",  np.median(scales) if len(scales) != 0 else np.nan)"
   ]
  },
  {
   "cell_type": "code",
   "execution_count": 269,
   "metadata": {},
   "outputs": [
    {
     "name": "stdout",
     "output_type": "stream",
     "text": [
      "sc -6.0\n",
      "sc 5.0\n",
      "sc nan\n",
      "sc -6.0\n",
      "sc 5.0\n",
      "sc nan\n",
      "sc -6.0\n",
      "sc 1.0\n",
      "sc 4.5\n"
     ]
    }
   ],
   "source": [
    "for seqidx in seqdf.seq.unique():\n",
    "    # 適当なidxから始める -> sortして中央に来たidxをAwakeとみなすか？\n",
    "    if seqidx == -1:\n",
    "        continue\n",
    "    n_elems = []\n",
    "    # 要素数最大のidxを抜き出す\n",
    "    shridx1 = seqdf.shr.unique()[\n",
    "        np.array(\n",
    "            [len(\n",
    "                seqdf.query(\n",
    "                    \"seq == {} and shr == {}\".format(seqidx, shridx1)\n",
    "                ).index) for shridx in seqdf.shr.unique() if shridx != -1\n",
    "            ]).argmax()\n",
    "    ]\n",
    "    same_scale = seqdf.query(\n",
    "        \"seq == {} and shr == {}\".format(seqidx, shridx1)\n",
    "    ).index\n",
    "    for shridx2 in seqdf.shr.unique():\n",
    "        if shridx1 == shridx2 or shridx2 == -1:\n",
    "            continue\n",
    "        different_scale = seqdf.query(\n",
    "            \"seq == {} and shr == {}\".format(seqidx, shridx2)\n",
    "        ).index\n",
    "        scales = []\n",
    "        for idx1 in same_scale:\n",
    "            for idx2 in different_scale:\n",
    "                scales.append(shmat[idx1, idx2])\n",
    "        print(\"sc\",  np.median(scales) if len(scales) != 0 else np.nan)"
   ]
  },
  {
   "cell_type": "code",
   "execution_count": 243,
   "metadata": {},
   "outputs": [
    {
     "data": {
      "text/plain": [
       "0.0"
      ]
     },
     "execution_count": 243,
     "metadata": {},
     "output_type": "execute_result"
    }
   ],
   "source": [
    "np.median(shmat)"
   ]
  },
  {
   "cell_type": "code",
   "execution_count": 238,
   "metadata": {},
   "outputs": [
    {
     "data": {
      "text/plain": [
       "array([[-2., -2.,  1., ...,  0.,  0.,  0.],\n",
       "       [ 1.,  1.,  1., ...,  0.,  0.,  0.],\n",
       "       [ 1., -2.,  1., ...,  0.,  0.,  0.],\n",
       "       ..., \n",
       "       [-2.,  1.,  3., ...,  0.,  0.,  0.],\n",
       "       [-2.,  1.,  1., ...,  0.,  0.,  0.],\n",
       "       [-2., -2., -2., ...,  0.,  0.,  0.]])"
      ]
     },
     "execution_count": 238,
     "metadata": {},
     "output_type": "execute_result"
    }
   ],
   "source": [
    "shmat[indices]"
   ]
  },
  {
   "cell_type": "code",
   "execution_count": 232,
   "metadata": {},
   "outputs": [
    {
     "data": {
      "text/plain": [
       "<matplotlib.image.AxesImage at 0x7efd9a9a0470>"
      ]
     },
     "execution_count": 232,
     "metadata": {},
     "output_type": "execute_result"
    },
    {
     "data": {
      "image/png": "[encoded data removed]",
      "text/plain": [
       "<matplotlib.figure.Figure at 0x7efd9ab74d30>"
      ]
     },
     "metadata": {},
     "output_type": "display_data"
    }
   ],
   "source": [
    "plt.imshow(shmat)"
   ]
  },
  {
   "cell_type": "code",
   "execution_count": 224,
   "metadata": {},
   "outputs": [
    {
     "data": {
      "text/plain": [
       "[2, 1, 3, -1, 4]\n",
       "Categories (5, int64): [2, 1, 3, -1, 4]"
      ]
     },
     "execution_count": 224,
     "metadata": {},
     "output_type": "execute_result"
    }
   ],
   "source": [
    "seqdf.shr.unique()"
   ]
  },
  {
   "cell_type": "code",
   "execution_count": 234,
   "metadata": {},
   "outputs": [
    {
     "data": {
      "text/plain": [
       "Int64Index([68, 69, 70, 71, 72, 73, 74, 75, 76, 77, 88, 89, 90, 91, 92, 93, 94,\n",
       "            95, 96, 97],\n",
       "           dtype='int64')"
      ]
     },
     "execution_count": 234,
     "metadata": {},
     "output_type": "execute_result"
    }
   ],
   "source": [
    "indices = seqdf.query(\"seq == {} and shr != {}\".format(0, 1)).index\n",
    "indices"
   ]
  },
  {
   "cell_type": "code",
   "execution_count": 72,
   "metadata": {},
   "outputs": [
    {
     "data": {
      "text/html": [
       "<div>\n",
       "<style>\n",
       "    .dataframe thead tr:only-child th {\n",
       "        text-align: right;\n",
       "    }\n",
       "\n",
       "    .dataframe thead th {\n",
       "        text-align: left;\n",
       "    }\n",
       "\n",
       "    .dataframe tbody tr th {\n",
       "        vertical-align: top;\n",
       "    }\n",
       "</style>\n",
       "<table border=\"1\" class=\"dataframe\">\n",
       "  <thead>\n",
       "    <tr style=\"text-align: right;\">\n",
       "      <th></th>\n",
       "      <th>bin</th>\n",
       "      <th>seq</th>\n",
       "      <th>test</th>\n",
       "      <th>shr</th>\n",
       "    </tr>\n",
       "  </thead>\n",
       "  <tbody>\n",
       "    <tr>\n",
       "      <th>0</th>\n",
       "      <td>0</td>\n",
       "      <td>1</td>\n",
       "      <td>0</td>\n",
       "      <td>0.0</td>\n",
       "    </tr>\n",
       "    <tr>\n",
       "      <th>1</th>\n",
       "      <td>300</td>\n",
       "      <td>1</td>\n",
       "      <td>0</td>\n",
       "      <td>0.0</td>\n",
       "    </tr>\n",
       "    <tr>\n",
       "      <th>2</th>\n",
       "      <td>600</td>\n",
       "      <td>1</td>\n",
       "      <td>0</td>\n",
       "      <td>0.0</td>\n",
       "    </tr>\n",
       "    <tr>\n",
       "      <th>3</th>\n",
       "      <td>900</td>\n",
       "      <td>1</td>\n",
       "      <td>0</td>\n",
       "      <td>0.0</td>\n",
       "    </tr>\n",
       "    <tr>\n",
       "      <th>4</th>\n",
       "      <td>1200</td>\n",
       "      <td>1</td>\n",
       "      <td>0</td>\n",
       "      <td>0.0</td>\n",
       "    </tr>\n",
       "    <tr>\n",
       "      <th>5</th>\n",
       "      <td>1500</td>\n",
       "      <td>1</td>\n",
       "      <td>0</td>\n",
       "      <td>1.0</td>\n",
       "    </tr>\n",
       "    <tr>\n",
       "      <th>6</th>\n",
       "      <td>1800</td>\n",
       "      <td>1</td>\n",
       "      <td>0</td>\n",
       "      <td>1.0</td>\n",
       "    </tr>\n",
       "    <tr>\n",
       "      <th>7</th>\n",
       "      <td>2100</td>\n",
       "      <td>1</td>\n",
       "      <td>0</td>\n",
       "      <td>1.0</td>\n",
       "    </tr>\n",
       "    <tr>\n",
       "      <th>8</th>\n",
       "      <td>2400</td>\n",
       "      <td>1</td>\n",
       "      <td>0</td>\n",
       "      <td>1.0</td>\n",
       "    </tr>\n",
       "    <tr>\n",
       "      <th>9</th>\n",
       "      <td>2700</td>\n",
       "      <td>1</td>\n",
       "      <td>0</td>\n",
       "      <td>1.0</td>\n",
       "    </tr>\n",
       "    <tr>\n",
       "      <th>10</th>\n",
       "      <td>3000</td>\n",
       "      <td>1</td>\n",
       "      <td>0</td>\n",
       "      <td>0.0</td>\n",
       "    </tr>\n",
       "    <tr>\n",
       "      <th>11</th>\n",
       "      <td>3300</td>\n",
       "      <td>1</td>\n",
       "      <td>0</td>\n",
       "      <td>0.0</td>\n",
       "    </tr>\n",
       "    <tr>\n",
       "      <th>12</th>\n",
       "      <td>3600</td>\n",
       "      <td>1</td>\n",
       "      <td>0</td>\n",
       "      <td>0.0</td>\n",
       "    </tr>\n",
       "    <tr>\n",
       "      <th>13</th>\n",
       "      <td>3900</td>\n",
       "      <td>1</td>\n",
       "      <td>0</td>\n",
       "      <td>0.0</td>\n",
       "    </tr>\n",
       "    <tr>\n",
       "      <th>14</th>\n",
       "      <td>4200</td>\n",
       "      <td>1</td>\n",
       "      <td>0</td>\n",
       "      <td>0.0</td>\n",
       "    </tr>\n",
       "    <tr>\n",
       "      <th>15</th>\n",
       "      <td>4500</td>\n",
       "      <td>-1</td>\n",
       "      <td>0</td>\n",
       "      <td>NaN</td>\n",
       "    </tr>\n",
       "    <tr>\n",
       "      <th>16</th>\n",
       "      <td>4800</td>\n",
       "      <td>-1</td>\n",
       "      <td>0</td>\n",
       "      <td>NaN</td>\n",
       "    </tr>\n",
       "    <tr>\n",
       "      <th>17</th>\n",
       "      <td>5100</td>\n",
       "      <td>-1</td>\n",
       "      <td>0</td>\n",
       "      <td>NaN</td>\n",
       "    </tr>\n",
       "    <tr>\n",
       "      <th>18</th>\n",
       "      <td>5400</td>\n",
       "      <td>-1</td>\n",
       "      <td>0</td>\n",
       "      <td>NaN</td>\n",
       "    </tr>\n",
       "    <tr>\n",
       "      <th>19</th>\n",
       "      <td>5700</td>\n",
       "      <td>0</td>\n",
       "      <td>0</td>\n",
       "      <td>0.0</td>\n",
       "    </tr>\n",
       "    <tr>\n",
       "      <th>20</th>\n",
       "      <td>6000</td>\n",
       "      <td>0</td>\n",
       "      <td>0</td>\n",
       "      <td>0.0</td>\n",
       "    </tr>\n",
       "    <tr>\n",
       "      <th>21</th>\n",
       "      <td>6300</td>\n",
       "      <td>0</td>\n",
       "      <td>0</td>\n",
       "      <td>0.0</td>\n",
       "    </tr>\n",
       "    <tr>\n",
       "      <th>22</th>\n",
       "      <td>6600</td>\n",
       "      <td>0</td>\n",
       "      <td>0</td>\n",
       "      <td>0.0</td>\n",
       "    </tr>\n",
       "    <tr>\n",
       "      <th>23</th>\n",
       "      <td>6900</td>\n",
       "      <td>0</td>\n",
       "      <td>0</td>\n",
       "      <td>0.0</td>\n",
       "    </tr>\n",
       "    <tr>\n",
       "      <th>24</th>\n",
       "      <td>7200</td>\n",
       "      <td>0</td>\n",
       "      <td>0</td>\n",
       "      <td>1.0</td>\n",
       "    </tr>\n",
       "    <tr>\n",
       "      <th>25</th>\n",
       "      <td>7500</td>\n",
       "      <td>0</td>\n",
       "      <td>0</td>\n",
       "      <td>1.0</td>\n",
       "    </tr>\n",
       "    <tr>\n",
       "      <th>26</th>\n",
       "      <td>7800</td>\n",
       "      <td>0</td>\n",
       "      <td>0</td>\n",
       "      <td>1.0</td>\n",
       "    </tr>\n",
       "    <tr>\n",
       "      <th>27</th>\n",
       "      <td>8100</td>\n",
       "      <td>0</td>\n",
       "      <td>0</td>\n",
       "      <td>1.0</td>\n",
       "    </tr>\n",
       "    <tr>\n",
       "      <th>28</th>\n",
       "      <td>8400</td>\n",
       "      <td>0</td>\n",
       "      <td>0</td>\n",
       "      <td>1.0</td>\n",
       "    </tr>\n",
       "    <tr>\n",
       "      <th>29</th>\n",
       "      <td>8700</td>\n",
       "      <td>0</td>\n",
       "      <td>0</td>\n",
       "      <td>0.0</td>\n",
       "    </tr>\n",
       "    <tr>\n",
       "      <th>30</th>\n",
       "      <td>9000</td>\n",
       "      <td>0</td>\n",
       "      <td>0</td>\n",
       "      <td>0.0</td>\n",
       "    </tr>\n",
       "    <tr>\n",
       "      <th>31</th>\n",
       "      <td>9300</td>\n",
       "      <td>0</td>\n",
       "      <td>0</td>\n",
       "      <td>0.0</td>\n",
       "    </tr>\n",
       "    <tr>\n",
       "      <th>32</th>\n",
       "      <td>9600</td>\n",
       "      <td>0</td>\n",
       "      <td>0</td>\n",
       "      <td>0.0</td>\n",
       "    </tr>\n",
       "    <tr>\n",
       "      <th>33</th>\n",
       "      <td>9900</td>\n",
       "      <td>0</td>\n",
       "      <td>0</td>\n",
       "      <td>0.0</td>\n",
       "    </tr>\n",
       "    <tr>\n",
       "      <th>34</th>\n",
       "      <td>10200</td>\n",
       "      <td>-1</td>\n",
       "      <td>0</td>\n",
       "      <td>NaN</td>\n",
       "    </tr>\n",
       "    <tr>\n",
       "      <th>35</th>\n",
       "      <td>10500</td>\n",
       "      <td>-1</td>\n",
       "      <td>0</td>\n",
       "      <td>NaN</td>\n",
       "    </tr>\n",
       "    <tr>\n",
       "      <th>36</th>\n",
       "      <td>10800</td>\n",
       "      <td>-1</td>\n",
       "      <td>0</td>\n",
       "      <td>NaN</td>\n",
       "    </tr>\n",
       "    <tr>\n",
       "      <th>37</th>\n",
       "      <td>11100</td>\n",
       "      <td>-1</td>\n",
       "      <td>0</td>\n",
       "      <td>NaN</td>\n",
       "    </tr>\n",
       "    <tr>\n",
       "      <th>38</th>\n",
       "      <td>11400</td>\n",
       "      <td>2</td>\n",
       "      <td>0</td>\n",
       "      <td>1.0</td>\n",
       "    </tr>\n",
       "    <tr>\n",
       "      <th>39</th>\n",
       "      <td>11700</td>\n",
       "      <td>2</td>\n",
       "      <td>0</td>\n",
       "      <td>1.0</td>\n",
       "    </tr>\n",
       "    <tr>\n",
       "      <th>40</th>\n",
       "      <td>12000</td>\n",
       "      <td>2</td>\n",
       "      <td>0</td>\n",
       "      <td>1.0</td>\n",
       "    </tr>\n",
       "    <tr>\n",
       "      <th>41</th>\n",
       "      <td>12300</td>\n",
       "      <td>2</td>\n",
       "      <td>0</td>\n",
       "      <td>1.0</td>\n",
       "    </tr>\n",
       "    <tr>\n",
       "      <th>42</th>\n",
       "      <td>12600</td>\n",
       "      <td>2</td>\n",
       "      <td>0</td>\n",
       "      <td>1.0</td>\n",
       "    </tr>\n",
       "    <tr>\n",
       "      <th>43</th>\n",
       "      <td>12900</td>\n",
       "      <td>2</td>\n",
       "      <td>0</td>\n",
       "      <td>2.0</td>\n",
       "    </tr>\n",
       "    <tr>\n",
       "      <th>44</th>\n",
       "      <td>13200</td>\n",
       "      <td>2</td>\n",
       "      <td>0</td>\n",
       "      <td>2.0</td>\n",
       "    </tr>\n",
       "    <tr>\n",
       "      <th>45</th>\n",
       "      <td>13500</td>\n",
       "      <td>2</td>\n",
       "      <td>0</td>\n",
       "      <td>2.0</td>\n",
       "    </tr>\n",
       "    <tr>\n",
       "      <th>46</th>\n",
       "      <td>13800</td>\n",
       "      <td>2</td>\n",
       "      <td>0</td>\n",
       "      <td>2.0</td>\n",
       "    </tr>\n",
       "    <tr>\n",
       "      <th>47</th>\n",
       "      <td>14100</td>\n",
       "      <td>2</td>\n",
       "      <td>0</td>\n",
       "      <td>2.0</td>\n",
       "    </tr>\n",
       "    <tr>\n",
       "      <th>48</th>\n",
       "      <td>14400</td>\n",
       "      <td>2</td>\n",
       "      <td>0</td>\n",
       "      <td>0.0</td>\n",
       "    </tr>\n",
       "    <tr>\n",
       "      <th>49</th>\n",
       "      <td>14700</td>\n",
       "      <td>2</td>\n",
       "      <td>0</td>\n",
       "      <td>0.0</td>\n",
       "    </tr>\n",
       "    <tr>\n",
       "      <th>50</th>\n",
       "      <td>15000</td>\n",
       "      <td>2</td>\n",
       "      <td>0</td>\n",
       "      <td>0.0</td>\n",
       "    </tr>\n",
       "    <tr>\n",
       "      <th>51</th>\n",
       "      <td>15300</td>\n",
       "      <td>2</td>\n",
       "      <td>0</td>\n",
       "      <td>0.0</td>\n",
       "    </tr>\n",
       "    <tr>\n",
       "      <th>52</th>\n",
       "      <td>15600</td>\n",
       "      <td>2</td>\n",
       "      <td>0</td>\n",
       "      <td>0.0</td>\n",
       "    </tr>\n",
       "    <tr>\n",
       "      <th>53</th>\n",
       "      <td>15900</td>\n",
       "      <td>-1</td>\n",
       "      <td>0</td>\n",
       "      <td>NaN</td>\n",
       "    </tr>\n",
       "    <tr>\n",
       "      <th>54</th>\n",
       "      <td>16200</td>\n",
       "      <td>-1</td>\n",
       "      <td>0</td>\n",
       "      <td>NaN</td>\n",
       "    </tr>\n",
       "    <tr>\n",
       "      <th>55</th>\n",
       "      <td>16500</td>\n",
       "      <td>-1</td>\n",
       "      <td>0</td>\n",
       "      <td>NaN</td>\n",
       "    </tr>\n",
       "    <tr>\n",
       "      <th>56</th>\n",
       "      <td>16800</td>\n",
       "      <td>-1</td>\n",
       "      <td>0</td>\n",
       "      <td>NaN</td>\n",
       "    </tr>\n",
       "    <tr>\n",
       "      <th>57</th>\n",
       "      <td>17100</td>\n",
       "      <td>-1</td>\n",
       "      <td>0</td>\n",
       "      <td>NaN</td>\n",
       "    </tr>\n",
       "    <tr>\n",
       "      <th>58</th>\n",
       "      <td>17400</td>\n",
       "      <td>-1</td>\n",
       "      <td>0</td>\n",
       "      <td>NaN</td>\n",
       "    </tr>\n",
       "    <tr>\n",
       "      <th>59</th>\n",
       "      <td>17700</td>\n",
       "      <td>-1</td>\n",
       "      <td>0</td>\n",
       "      <td>NaN</td>\n",
       "    </tr>\n",
       "  </tbody>\n",
       "</table>\n",
       "</div>"
      ],
      "text/plain": [
       "      bin  seq  test  shr\n",
       "0       0    1     0  0.0\n",
       "1     300    1     0  0.0\n",
       "2     600    1     0  0.0\n",
       "3     900    1     0  0.0\n",
       "4    1200    1     0  0.0\n",
       "5    1500    1     0  1.0\n",
       "6    1800    1     0  1.0\n",
       "7    2100    1     0  1.0\n",
       "8    2400    1     0  1.0\n",
       "9    2700    1     0  1.0\n",
       "10   3000    1     0  0.0\n",
       "11   3300    1     0  0.0\n",
       "12   3600    1     0  0.0\n",
       "13   3900    1     0  0.0\n",
       "14   4200    1     0  0.0\n",
       "15   4500   -1     0  NaN\n",
       "16   4800   -1     0  NaN\n",
       "17   5100   -1     0  NaN\n",
       "18   5400   -1     0  NaN\n",
       "19   5700    0     0  0.0\n",
       "20   6000    0     0  0.0\n",
       "21   6300    0     0  0.0\n",
       "22   6600    0     0  0.0\n",
       "23   6900    0     0  0.0\n",
       "24   7200    0     0  1.0\n",
       "25   7500    0     0  1.0\n",
       "26   7800    0     0  1.0\n",
       "27   8100    0     0  1.0\n",
       "28   8400    0     0  1.0\n",
       "29   8700    0     0  0.0\n",
       "30   9000    0     0  0.0\n",
       "31   9300    0     0  0.0\n",
       "32   9600    0     0  0.0\n",
       "33   9900    0     0  0.0\n",
       "34  10200   -1     0  NaN\n",
       "35  10500   -1     0  NaN\n",
       "36  10800   -1     0  NaN\n",
       "37  11100   -1     0  NaN\n",
       "38  11400    2     0  1.0\n",
       "39  11700    2     0  1.0\n",
       "40  12000    2     0  1.0\n",
       "41  12300    2     0  1.0\n",
       "42  12600    2     0  1.0\n",
       "43  12900    2     0  2.0\n",
       "44  13200    2     0  2.0\n",
       "45  13500    2     0  2.0\n",
       "46  13800    2     0  2.0\n",
       "47  14100    2     0  2.0\n",
       "48  14400    2     0  0.0\n",
       "49  14700    2     0  0.0\n",
       "50  15000    2     0  0.0\n",
       "51  15300    2     0  0.0\n",
       "52  15600    2     0  0.0\n",
       "53  15900   -1     0  NaN\n",
       "54  16200   -1     0  NaN\n",
       "55  16500   -1     0  NaN\n",
       "56  16800   -1     0  NaN\n",
       "57  17100   -1     0  NaN\n",
       "58  17400   -1     0  NaN\n",
       "59  17700   -1     0  NaN"
      ]
     },
     "execution_count": 72,
     "metadata": {},
     "output_type": "execute_result"
    }
   ],
   "source": [
    "seqdf"
   ]
  },
  {
   "cell_type": "code",
   "execution_count": 65,
   "metadata": {},
   "outputs": [],
   "source": [
    "seqdf.loc[shtimes.index, \"shr\"] = cluster.labels_"
   ]
  },
  {
   "cell_type": "code",
   "execution_count": 66,
   "metadata": {},
   "outputs": [
    {
     "data": {
      "text/html": [
       "<div>\n",
       "<style>\n",
       "    .dataframe thead tr:only-child th {\n",
       "        text-align: right;\n",
       "    }\n",
       "\n",
       "    .dataframe thead th {\n",
       "        text-align: left;\n",
       "    }\n",
       "\n",
       "    .dataframe tbody tr th {\n",
       "        vertical-align: top;\n",
       "    }\n",
       "</style>\n",
       "<table border=\"1\" class=\"dataframe\">\n",
       "  <thead>\n",
       "    <tr style=\"text-align: right;\">\n",
       "      <th></th>\n",
       "      <th>bin</th>\n",
       "      <th>seq</th>\n",
       "      <th>test</th>\n",
       "      <th>shr</th>\n",
       "    </tr>\n",
       "  </thead>\n",
       "  <tbody>\n",
       "    <tr>\n",
       "      <th>0</th>\n",
       "      <td>0</td>\n",
       "      <td>1</td>\n",
       "      <td>0</td>\n",
       "      <td>NaN</td>\n",
       "    </tr>\n",
       "    <tr>\n",
       "      <th>1</th>\n",
       "      <td>300</td>\n",
       "      <td>1</td>\n",
       "      <td>0</td>\n",
       "      <td>NaN</td>\n",
       "    </tr>\n",
       "    <tr>\n",
       "      <th>2</th>\n",
       "      <td>600</td>\n",
       "      <td>1</td>\n",
       "      <td>0</td>\n",
       "      <td>NaN</td>\n",
       "    </tr>\n",
       "    <tr>\n",
       "      <th>3</th>\n",
       "      <td>900</td>\n",
       "      <td>1</td>\n",
       "      <td>0</td>\n",
       "      <td>NaN</td>\n",
       "    </tr>\n",
       "    <tr>\n",
       "      <th>4</th>\n",
       "      <td>1200</td>\n",
       "      <td>1</td>\n",
       "      <td>0</td>\n",
       "      <td>NaN</td>\n",
       "    </tr>\n",
       "    <tr>\n",
       "      <th>5</th>\n",
       "      <td>1500</td>\n",
       "      <td>1</td>\n",
       "      <td>0</td>\n",
       "      <td>NaN</td>\n",
       "    </tr>\n",
       "    <tr>\n",
       "      <th>6</th>\n",
       "      <td>1800</td>\n",
       "      <td>1</td>\n",
       "      <td>0</td>\n",
       "      <td>NaN</td>\n",
       "    </tr>\n",
       "    <tr>\n",
       "      <th>7</th>\n",
       "      <td>2100</td>\n",
       "      <td>1</td>\n",
       "      <td>0</td>\n",
       "      <td>NaN</td>\n",
       "    </tr>\n",
       "    <tr>\n",
       "      <th>8</th>\n",
       "      <td>2400</td>\n",
       "      <td>1</td>\n",
       "      <td>0</td>\n",
       "      <td>NaN</td>\n",
       "    </tr>\n",
       "    <tr>\n",
       "      <th>9</th>\n",
       "      <td>2700</td>\n",
       "      <td>1</td>\n",
       "      <td>0</td>\n",
       "      <td>NaN</td>\n",
       "    </tr>\n",
       "    <tr>\n",
       "      <th>10</th>\n",
       "      <td>3000</td>\n",
       "      <td>1</td>\n",
       "      <td>0</td>\n",
       "      <td>NaN</td>\n",
       "    </tr>\n",
       "    <tr>\n",
       "      <th>11</th>\n",
       "      <td>3300</td>\n",
       "      <td>1</td>\n",
       "      <td>0</td>\n",
       "      <td>NaN</td>\n",
       "    </tr>\n",
       "    <tr>\n",
       "      <th>12</th>\n",
       "      <td>3600</td>\n",
       "      <td>1</td>\n",
       "      <td>0</td>\n",
       "      <td>NaN</td>\n",
       "    </tr>\n",
       "    <tr>\n",
       "      <th>13</th>\n",
       "      <td>3900</td>\n",
       "      <td>1</td>\n",
       "      <td>0</td>\n",
       "      <td>NaN</td>\n",
       "    </tr>\n",
       "    <tr>\n",
       "      <th>14</th>\n",
       "      <td>4200</td>\n",
       "      <td>1</td>\n",
       "      <td>0</td>\n",
       "      <td>NaN</td>\n",
       "    </tr>\n",
       "    <tr>\n",
       "      <th>15</th>\n",
       "      <td>4500</td>\n",
       "      <td>-1</td>\n",
       "      <td>0</td>\n",
       "      <td>NaN</td>\n",
       "    </tr>\n",
       "    <tr>\n",
       "      <th>16</th>\n",
       "      <td>4800</td>\n",
       "      <td>-1</td>\n",
       "      <td>0</td>\n",
       "      <td>NaN</td>\n",
       "    </tr>\n",
       "    <tr>\n",
       "      <th>17</th>\n",
       "      <td>5100</td>\n",
       "      <td>-1</td>\n",
       "      <td>0</td>\n",
       "      <td>NaN</td>\n",
       "    </tr>\n",
       "    <tr>\n",
       "      <th>18</th>\n",
       "      <td>5400</td>\n",
       "      <td>-1</td>\n",
       "      <td>0</td>\n",
       "      <td>NaN</td>\n",
       "    </tr>\n",
       "    <tr>\n",
       "      <th>19</th>\n",
       "      <td>5700</td>\n",
       "      <td>0</td>\n",
       "      <td>0</td>\n",
       "      <td>NaN</td>\n",
       "    </tr>\n",
       "    <tr>\n",
       "      <th>20</th>\n",
       "      <td>6000</td>\n",
       "      <td>0</td>\n",
       "      <td>0</td>\n",
       "      <td>NaN</td>\n",
       "    </tr>\n",
       "    <tr>\n",
       "      <th>21</th>\n",
       "      <td>6300</td>\n",
       "      <td>0</td>\n",
       "      <td>0</td>\n",
       "      <td>NaN</td>\n",
       "    </tr>\n",
       "    <tr>\n",
       "      <th>22</th>\n",
       "      <td>6600</td>\n",
       "      <td>0</td>\n",
       "      <td>0</td>\n",
       "      <td>NaN</td>\n",
       "    </tr>\n",
       "    <tr>\n",
       "      <th>23</th>\n",
       "      <td>6900</td>\n",
       "      <td>0</td>\n",
       "      <td>0</td>\n",
       "      <td>NaN</td>\n",
       "    </tr>\n",
       "    <tr>\n",
       "      <th>24</th>\n",
       "      <td>7200</td>\n",
       "      <td>0</td>\n",
       "      <td>0</td>\n",
       "      <td>NaN</td>\n",
       "    </tr>\n",
       "    <tr>\n",
       "      <th>25</th>\n",
       "      <td>7500</td>\n",
       "      <td>0</td>\n",
       "      <td>0</td>\n",
       "      <td>NaN</td>\n",
       "    </tr>\n",
       "    <tr>\n",
       "      <th>26</th>\n",
       "      <td>7800</td>\n",
       "      <td>0</td>\n",
       "      <td>0</td>\n",
       "      <td>NaN</td>\n",
       "    </tr>\n",
       "    <tr>\n",
       "      <th>27</th>\n",
       "      <td>8100</td>\n",
       "      <td>0</td>\n",
       "      <td>0</td>\n",
       "      <td>NaN</td>\n",
       "    </tr>\n",
       "    <tr>\n",
       "      <th>28</th>\n",
       "      <td>8400</td>\n",
       "      <td>0</td>\n",
       "      <td>0</td>\n",
       "      <td>NaN</td>\n",
       "    </tr>\n",
       "    <tr>\n",
       "      <th>29</th>\n",
       "      <td>8700</td>\n",
       "      <td>0</td>\n",
       "      <td>0</td>\n",
       "      <td>NaN</td>\n",
       "    </tr>\n",
       "    <tr>\n",
       "      <th>30</th>\n",
       "      <td>9000</td>\n",
       "      <td>0</td>\n",
       "      <td>0</td>\n",
       "      <td>NaN</td>\n",
       "    </tr>\n",
       "    <tr>\n",
       "      <th>31</th>\n",
       "      <td>9300</td>\n",
       "      <td>0</td>\n",
       "      <td>0</td>\n",
       "      <td>NaN</td>\n",
       "    </tr>\n",
       "    <tr>\n",
       "      <th>32</th>\n",
       "      <td>9600</td>\n",
       "      <td>0</td>\n",
       "      <td>0</td>\n",
       "      <td>NaN</td>\n",
       "    </tr>\n",
       "    <tr>\n",
       "      <th>33</th>\n",
       "      <td>9900</td>\n",
       "      <td>0</td>\n",
       "      <td>0</td>\n",
       "      <td>NaN</td>\n",
       "    </tr>\n",
       "    <tr>\n",
       "      <th>34</th>\n",
       "      <td>10200</td>\n",
       "      <td>-1</td>\n",
       "      <td>0</td>\n",
       "      <td>NaN</td>\n",
       "    </tr>\n",
       "    <tr>\n",
       "      <th>35</th>\n",
       "      <td>10500</td>\n",
       "      <td>-1</td>\n",
       "      <td>0</td>\n",
       "      <td>NaN</td>\n",
       "    </tr>\n",
       "    <tr>\n",
       "      <th>36</th>\n",
       "      <td>10800</td>\n",
       "      <td>-1</td>\n",
       "      <td>0</td>\n",
       "      <td>NaN</td>\n",
       "    </tr>\n",
       "    <tr>\n",
       "      <th>37</th>\n",
       "      <td>11100</td>\n",
       "      <td>-1</td>\n",
       "      <td>0</td>\n",
       "      <td>NaN</td>\n",
       "    </tr>\n",
       "    <tr>\n",
       "      <th>38</th>\n",
       "      <td>11400</td>\n",
       "      <td>2</td>\n",
       "      <td>0</td>\n",
       "      <td>1.0</td>\n",
       "    </tr>\n",
       "    <tr>\n",
       "      <th>39</th>\n",
       "      <td>11700</td>\n",
       "      <td>2</td>\n",
       "      <td>0</td>\n",
       "      <td>1.0</td>\n",
       "    </tr>\n",
       "    <tr>\n",
       "      <th>40</th>\n",
       "      <td>12000</td>\n",
       "      <td>2</td>\n",
       "      <td>0</td>\n",
       "      <td>1.0</td>\n",
       "    </tr>\n",
       "    <tr>\n",
       "      <th>41</th>\n",
       "      <td>12300</td>\n",
       "      <td>2</td>\n",
       "      <td>0</td>\n",
       "      <td>1.0</td>\n",
       "    </tr>\n",
       "    <tr>\n",
       "      <th>42</th>\n",
       "      <td>12600</td>\n",
       "      <td>2</td>\n",
       "      <td>0</td>\n",
       "      <td>1.0</td>\n",
       "    </tr>\n",
       "    <tr>\n",
       "      <th>43</th>\n",
       "      <td>12900</td>\n",
       "      <td>2</td>\n",
       "      <td>0</td>\n",
       "      <td>2.0</td>\n",
       "    </tr>\n",
       "    <tr>\n",
       "      <th>44</th>\n",
       "      <td>13200</td>\n",
       "      <td>2</td>\n",
       "      <td>0</td>\n",
       "      <td>2.0</td>\n",
       "    </tr>\n",
       "    <tr>\n",
       "      <th>45</th>\n",
       "      <td>13500</td>\n",
       "      <td>2</td>\n",
       "      <td>0</td>\n",
       "      <td>2.0</td>\n",
       "    </tr>\n",
       "    <tr>\n",
       "      <th>46</th>\n",
       "      <td>13800</td>\n",
       "      <td>2</td>\n",
       "      <td>0</td>\n",
       "      <td>2.0</td>\n",
       "    </tr>\n",
       "    <tr>\n",
       "      <th>47</th>\n",
       "      <td>14100</td>\n",
       "      <td>2</td>\n",
       "      <td>0</td>\n",
       "      <td>2.0</td>\n",
       "    </tr>\n",
       "    <tr>\n",
       "      <th>48</th>\n",
       "      <td>14400</td>\n",
       "      <td>2</td>\n",
       "      <td>0</td>\n",
       "      <td>0.0</td>\n",
       "    </tr>\n",
       "    <tr>\n",
       "      <th>49</th>\n",
       "      <td>14700</td>\n",
       "      <td>2</td>\n",
       "      <td>0</td>\n",
       "      <td>0.0</td>\n",
       "    </tr>\n",
       "    <tr>\n",
       "      <th>50</th>\n",
       "      <td>15000</td>\n",
       "      <td>2</td>\n",
       "      <td>0</td>\n",
       "      <td>0.0</td>\n",
       "    </tr>\n",
       "    <tr>\n",
       "      <th>51</th>\n",
       "      <td>15300</td>\n",
       "      <td>2</td>\n",
       "      <td>0</td>\n",
       "      <td>0.0</td>\n",
       "    </tr>\n",
       "    <tr>\n",
       "      <th>52</th>\n",
       "      <td>15600</td>\n",
       "      <td>2</td>\n",
       "      <td>0</td>\n",
       "      <td>0.0</td>\n",
       "    </tr>\n",
       "    <tr>\n",
       "      <th>53</th>\n",
       "      <td>15900</td>\n",
       "      <td>-1</td>\n",
       "      <td>0</td>\n",
       "      <td>NaN</td>\n",
       "    </tr>\n",
       "    <tr>\n",
       "      <th>54</th>\n",
       "      <td>16200</td>\n",
       "      <td>-1</td>\n",
       "      <td>0</td>\n",
       "      <td>NaN</td>\n",
       "    </tr>\n",
       "    <tr>\n",
       "      <th>55</th>\n",
       "      <td>16500</td>\n",
       "      <td>-1</td>\n",
       "      <td>0</td>\n",
       "      <td>NaN</td>\n",
       "    </tr>\n",
       "    <tr>\n",
       "      <th>56</th>\n",
       "      <td>16800</td>\n",
       "      <td>-1</td>\n",
       "      <td>0</td>\n",
       "      <td>NaN</td>\n",
       "    </tr>\n",
       "    <tr>\n",
       "      <th>57</th>\n",
       "      <td>17100</td>\n",
       "      <td>-1</td>\n",
       "      <td>0</td>\n",
       "      <td>NaN</td>\n",
       "    </tr>\n",
       "    <tr>\n",
       "      <th>58</th>\n",
       "      <td>17400</td>\n",
       "      <td>-1</td>\n",
       "      <td>0</td>\n",
       "      <td>NaN</td>\n",
       "    </tr>\n",
       "    <tr>\n",
       "      <th>59</th>\n",
       "      <td>17700</td>\n",
       "      <td>-1</td>\n",
       "      <td>0</td>\n",
       "      <td>NaN</td>\n",
       "    </tr>\n",
       "  </tbody>\n",
       "</table>\n",
       "</div>"
      ],
      "text/plain": [
       "      bin  seq  test  shr\n",
       "0       0    1     0  NaN\n",
       "1     300    1     0  NaN\n",
       "2     600    1     0  NaN\n",
       "3     900    1     0  NaN\n",
       "4    1200    1     0  NaN\n",
       "5    1500    1     0  NaN\n",
       "6    1800    1     0  NaN\n",
       "7    2100    1     0  NaN\n",
       "8    2400    1     0  NaN\n",
       "9    2700    1     0  NaN\n",
       "10   3000    1     0  NaN\n",
       "11   3300    1     0  NaN\n",
       "12   3600    1     0  NaN\n",
       "13   3900    1     0  NaN\n",
       "14   4200    1     0  NaN\n",
       "15   4500   -1     0  NaN\n",
       "16   4800   -1     0  NaN\n",
       "17   5100   -1     0  NaN\n",
       "18   5400   -1     0  NaN\n",
       "19   5700    0     0  NaN\n",
       "20   6000    0     0  NaN\n",
       "21   6300    0     0  NaN\n",
       "22   6600    0     0  NaN\n",
       "23   6900    0     0  NaN\n",
       "24   7200    0     0  NaN\n",
       "25   7500    0     0  NaN\n",
       "26   7800    0     0  NaN\n",
       "27   8100    0     0  NaN\n",
       "28   8400    0     0  NaN\n",
       "29   8700    0     0  NaN\n",
       "30   9000    0     0  NaN\n",
       "31   9300    0     0  NaN\n",
       "32   9600    0     0  NaN\n",
       "33   9900    0     0  NaN\n",
       "34  10200   -1     0  NaN\n",
       "35  10500   -1     0  NaN\n",
       "36  10800   -1     0  NaN\n",
       "37  11100   -1     0  NaN\n",
       "38  11400    2     0  1.0\n",
       "39  11700    2     0  1.0\n",
       "40  12000    2     0  1.0\n",
       "41  12300    2     0  1.0\n",
       "42  12600    2     0  1.0\n",
       "43  12900    2     0  2.0\n",
       "44  13200    2     0  2.0\n",
       "45  13500    2     0  2.0\n",
       "46  13800    2     0  2.0\n",
       "47  14100    2     0  2.0\n",
       "48  14400    2     0  0.0\n",
       "49  14700    2     0  0.0\n",
       "50  15000    2     0  0.0\n",
       "51  15300    2     0  0.0\n",
       "52  15600    2     0  0.0\n",
       "53  15900   -1     0  NaN\n",
       "54  16200   -1     0  NaN\n",
       "55  16500   -1     0  NaN\n",
       "56  16800   -1     0  NaN\n",
       "57  17100   -1     0  NaN\n",
       "58  17400   -1     0  NaN\n",
       "59  17700   -1     0  NaN"
      ]
     },
     "execution_count": 66,
     "metadata": {},
     "output_type": "execute_result"
    }
   ],
   "source": [
    "seqdf"
   ]
  },
  {
   "cell_type": "code",
   "execution_count": 62,
   "metadata": {},
   "outputs": [
    {
     "data": {
      "text/plain": [
       "38    2\n",
       "39    2\n",
       "40    2\n",
       "41    2\n",
       "42    2\n",
       "43    2\n",
       "44    2\n",
       "45    2\n",
       "46    2\n",
       "47    2\n",
       "48    2\n",
       "49    2\n",
       "50    2\n",
       "51    2\n",
       "52    2\n",
       "Name: seq, dtype: int64"
      ]
     },
     "execution_count": 62,
     "metadata": {},
     "output_type": "execute_result"
    }
   ],
   "source": [
    "seqdf.iloc[shtimes_list[2].index][\"seq\"]"
   ]
  },
  {
   "cell_type": "code",
   "execution_count": 56,
   "metadata": {},
   "outputs": [],
   "source": [
    "seqdf[\"test\"] = 0"
   ]
  },
  {
   "cell_type": "code",
   "execution_count": 60,
   "metadata": {},
   "outputs": [
    {
     "data": {
      "text/html": [
       "<div>\n",
       "<style>\n",
       "    .dataframe thead tr:only-child th {\n",
       "        text-align: right;\n",
       "    }\n",
       "\n",
       "    .dataframe thead th {\n",
       "        text-align: left;\n",
       "    }\n",
       "\n",
       "    .dataframe tbody tr th {\n",
       "        vertical-align: top;\n",
       "    }\n",
       "</style>\n",
       "<table border=\"1\" class=\"dataframe\">\n",
       "  <thead>\n",
       "    <tr style=\"text-align: right;\">\n",
       "      <th></th>\n",
       "      <th>bin</th>\n",
       "      <th>seq</th>\n",
       "      <th>test</th>\n",
       "    </tr>\n",
       "  </thead>\n",
       "  <tbody>\n",
       "    <tr>\n",
       "      <th>0</th>\n",
       "      <td>0</td>\n",
       "      <td>1</td>\n",
       "      <td>0</td>\n",
       "    </tr>\n",
       "    <tr>\n",
       "      <th>1</th>\n",
       "      <td>300</td>\n",
       "      <td>1</td>\n",
       "      <td>0</td>\n",
       "    </tr>\n",
       "    <tr>\n",
       "      <th>2</th>\n",
       "      <td>600</td>\n",
       "      <td>1</td>\n",
       "      <td>0</td>\n",
       "    </tr>\n",
       "    <tr>\n",
       "      <th>3</th>\n",
       "      <td>900</td>\n",
       "      <td>1</td>\n",
       "      <td>0</td>\n",
       "    </tr>\n",
       "    <tr>\n",
       "      <th>4</th>\n",
       "      <td>1200</td>\n",
       "      <td>1</td>\n",
       "      <td>0</td>\n",
       "    </tr>\n",
       "  </tbody>\n",
       "</table>\n",
       "</div>"
      ],
      "text/plain": [
       "    bin  seq  test\n",
       "0     0    1     0\n",
       "1   300    1     0\n",
       "2   600    1     0\n",
       "3   900    1     0\n",
       "4  1200    1     0"
      ]
     },
     "execution_count": 60,
     "metadata": {},
     "output_type": "execute_result"
    }
   ],
   "source": [
    "seqdf.head( )"
   ]
  },
  {
   "cell_type": "code",
   "execution_count": 53,
   "metadata": {},
   "outputs": [
    {
     "data": {
      "text/plain": [
       "Int64Index([38, 39, 40, 41, 42, 43, 44, 45, 46, 47, 48, 49, 50, 51, 52], dtype='int64')"
      ]
     },
     "execution_count": 53,
     "metadata": {},
     "output_type": "execute_result"
    }
   ],
   "source": [
    "tmp.index"
   ]
  },
  {
   "cell_type": "code",
   "execution_count": null,
   "metadata": {},
   "outputs": [],
   "source": []
  },
  {
   "cell_type": "code",
   "execution_count": null,
   "metadata": {},
   "outputs": [],
   "source": []
  },
  {
   "cell_type": "code",
   "execution_count": null,
   "metadata": {},
   "outputs": [],
   "source": []
  },
  {
   "cell_type": "code",
   "execution_count": null,
   "metadata": {},
   "outputs": [],
   "source": []
  },
  {
   "cell_type": "code",
   "execution_count": null,
   "metadata": {},
   "outputs": [],
   "source": []
  },
  {
   "cell_type": "code",
   "execution_count": null,
   "metadata": {},
   "outputs": [],
   "source": []
  },
  {
   "cell_type": "code",
   "execution_count": null,
   "metadata": {},
   "outputs": [],
   "source": []
  },
  {
   "cell_type": "code",
   "execution_count": 29,
   "metadata": {},
   "outputs": [
    {
     "data": {
      "text/plain": [
       "<matplotlib.axes._subplots.AxesSubplot at 0x7fc54c5339e8>"
      ]
     },
     "execution_count": 29,
     "metadata": {},
     "output_type": "execute_result"
    },
    {
     "data": {
      "image/png": "[encoded data removed]",
      "text/plain": [
       "<matplotlib.figure.Figure at 0x7fc54cf6b390>"
      ]
     },
     "metadata": {},
     "output_type": "display_data"
    }
   ],
   "source": [
    "plt.figure(figsize = (10, 5))\n",
    "\n",
    "grid1 = gridspec.GridSpec(8, 8)\n",
    "grid1.update(left=0.05, right = 0.3)\n",
    "ax = plt.subplot(grid1[:, :6])\n",
    "ax.imshow(shmat1, vmin = -5, vmax = 5)\n",
    "ax.set_title(\"S.M. 1\")\n",
    "ax = plt.subplot(grid1[2:6, 6])\n",
    "draw_color_bar(ax, min_ = -5, max_ = 5)\n",
    "\n",
    "\n",
    "grid2 = gridspec.GridSpec(8, 8)\n",
    "grid2.update(left=0.35, right = 0.6)\n",
    "ax = plt.subplot(grid2[:, :6])\n",
    "ax.imshow(shmat2, vmin = -5, vmax = 5)\n",
    "ax.set_title(\"S.M. 2\")\n",
    "ax = plt.subplot(grid2[2:6, 6])\n",
    "draw_color_bar(ax, min_ = -5, max_ = 5)\n",
    "\n",
    "grid3 = gridspec.GridSpec(8, 8)\n",
    "grid3.update(left=0.65, right = 0.9)\n",
    "ax = plt.subplot(grid3[:, :6])\n",
    "ax.imshow(shmat3, vmin = -5, vmax = 5)\n",
    "ax.set_title(\"S.M. 3\")\n",
    "ax = plt.subplot(grid3[2:6, 6])\n",
    "draw_color_bar(ax, min_ = -5, max_ = 5)"
   ]
  },
  {
   "cell_type": "markdown",
   "metadata": {},
   "source": [
    "# ここからインチキ"
   ]
  },
  {
   "cell_type": "code",
   "execution_count": 34,
   "metadata": {},
   "outputs": [
    {
     "data": {
      "text/plain": [
       "array([ 1,  1,  1,  1,  1,  1,  1,  1,  1,  1,  1,  1,  1,  1,  1, -1, -1,\n",
       "       -1, -1,  2,  2,  2,  2,  2,  2,  2,  2,  2,  2,  2,  2,  2,  2,  2,\n",
       "       -1, -1, -1, -1,  0,  0,  0,  0,  0,  0,  0,  0,  0,  0,  0,  0,  0,\n",
       "        0,  0, -1, -1, -1, -1, -1, -1, -1])"
      ]
     },
     "execution_count": 34,
     "metadata": {},
     "output_type": "execute_result"
    }
   ],
   "source": [
    "cluster.labels_"
   ]
  },
  {
   "cell_type": "code",
   "execution_count": 54,
   "metadata": {},
   "outputs": [],
   "source": [
    "shlabel = np.array([\n",
    "          1,  1,  1,  1,  1,\n",
    "          -5,  -5,  -5,  -5,  -5,\n",
    "          5,  5,  5,  5,  5,\n",
    "    0, 0, 0, 0,\n",
    "          1,  1,  1,  1,  1,\n",
    "          -5,  -5,  -5,  -5,  -5,\n",
    "          5,  5,  5,  5,  5,    \n",
    "    0, 0, 0, 0,\n",
    "          1,  1,  1,  1,  1,\n",
    "          -5,  -5,  -5,  -5,  -5,\n",
    "          5,  5,  5,  5,  5,\n",
    "          0, 0, 0, 0, 0, 0, 0])"
   ]
  },
  {
   "cell_type": "code",
   "execution_count": 55,
   "metadata": {},
   "outputs": [
    {
     "data": {
      "text/plain": [
       "[]"
      ]
     },
     "execution_count": 55,
     "metadata": {},
     "output_type": "execute_result"
    },
    {
     "data": {
      "image/png": "[encoded data removed]",
      "text/plain": [
       "<matplotlib.figure.Figure at 0x7fc519de5320>"
      ]
     },
     "metadata": {},
     "output_type": "display_data"
    }
   ],
   "source": [
    "plt.figure()\n",
    "outer_grid = gridspec.GridSpec(2, 5)\n",
    "ax = plt.subplot(outer_grid[:, :3])\n",
    "row, col = np.where(binmat == 1)\n",
    "ax.plot(col, row, \"k.\", alpha = 0.5, markersize = 5)\n",
    "shlabel_colors = [sns.color_palette()[3], sns.color_palette()[4], sns.color_palette()[5], \"w\"]\n",
    "label_colors = [sns.color_palette()[0], sns.color_palette()[1], sns.color_palette()[2], \"w\"]\n",
    "for t, label, shlabel in zip(times, cluster.labels_, shlabel):\n",
    "    ax.plot(np.array([t, t+window]), np.array([nneurons+2, nneurons+2]), color =  label_colors[label])\n",
    "    if shlabel == 0:\n",
    "        c = shlabel_colors[-1]\n",
    "    elif shlabel == 1:\n",
    "        c = shlabel_colors[0]\n",
    "    elif shlabel == 5:\n",
    "        c = shlabel_colors[1]\n",
    "    else:\n",
    "        c = shlabel_colors[2]\n",
    "    ax.plot(np.array([t, t+window]), np.array([nneurons+4, nneurons+4]), color =  c)\n",
    "ax.set_ylim(-1, nneurons+5)\n",
    "ax.set_xlabel(\"Time(ms)\")\n",
    "ax.set_ylabel(\"Neuron#\")\n",
    "ax.set_title(\"Detected Assemblies\")\n",
    "ax.spines[\"top\"].set_visible(False)\n",
    "ax.spines[\"right\"].set_visible(False)\n",
    "ax.set_xticks([0, 20000])\n",
    "ax = plt.subplot(outer_grid[0, 3:])\n",
    "ax.plot([-1], [-1], c = sns.color_palette()[0], label = \"Assembly1\")\n",
    "ax.plot([-1], [-1], c = sns.color_palette()[1], label = \"Assembly2\")\n",
    "ax.plot([-1], [-1], c = sns.color_palette()[2], label = \"Assembly2\")\n",
    "ax.legend()\n",
    "ax.spines[\"top\"].set_visible(False)\n",
    "ax.spines[\"bottom\"].set_visible(False)\n",
    "ax.spines[\"left\"].set_visible(False)\n",
    "ax.spines[\"right\"].set_visible(False)\n",
    "ax.set_xticks([]); ax.set_yticks([])\n",
    "ax = plt.subplot(outer_grid[1, 3:])\n",
    "ax.plot([-1], [-1], c = sns.color_palette()[3], label = \"x 1\")\n",
    "ax.plot([-1], [-1], c = sns.color_palette()[4], label = \"x 5\")\n",
    "ax.plot([-1], [-1], c = sns.color_palette()[5], label = \"x -5\")\n",
    "ax.legend()\n",
    "ax.spines[\"top\"].set_visible(False)\n",
    "ax.spines[\"bottom\"].set_visible(False)\n",
    "ax.spines[\"left\"].set_visible(False)\n",
    "ax.spines[\"right\"].set_visible(False)\n",
    "ax.set_xticks([]); ax.set_yticks([])"
   ]
  },
  {
   "cell_type": "markdown",
   "metadata": {},
   "source": [
    "# ここまでインチキ"
   ]
  },
  {
   "cell_type": "code",
   "execution_count": 56,
   "metadata": {},
   "outputs": [],
   "source": [
    "rows, cols = np.where(np.logical_and(0.9 < shmat1, shmat1 < 1.1))\n",
    "whshmat1 = np.zeros_like(shmat1)\n",
    "for row, col in zip(rows, cols):\n",
    "    whshmat1[row, col] = shmat1[row, col]\n",
    "rows, cols = np.where(np.logical_and(0.9 < shmat2, shmat2 < 1.1))\n",
    "whshmat2 = np.zeros_like(shmat2)\n",
    "for row, col in zip(rows, cols):\n",
    "    whshmat2[row, col] = shmat2[row, col]    \n",
    "rows, cols = np.where(np.logical_and(0.9 < shmat3, shmat3 < 1.1))\n",
    "whshmat3 = np.zeros_like(shmat3)\n",
    "for row, col in zip(rows, cols):\n",
    "    whshmat3[row, col] = shmat3[row, col]"
   ]
  },
  {
   "cell_type": "code",
   "execution_count": 57,
   "metadata": {},
   "outputs": [
    {
     "data": {
      "text/plain": [
       "<matplotlib.axes._subplots.AxesSubplot at 0x7fc519c99c18>"
      ]
     },
     "execution_count": 57,
     "metadata": {},
     "output_type": "execute_result"
    },
    {
     "data": {
      "image/png": "[encoded data removed]",
      "text/plain": [
       "<matplotlib.figure.Figure at 0x7fc519dc7cc0>"
      ]
     },
     "metadata": {},
     "output_type": "display_data"
    }
   ],
   "source": [
    "plt.figure(figsize = (10, 5))\n",
    "\n",
    "grid1 = gridspec.GridSpec(8, 8)\n",
    "grid1.update(left=0.05, right = 0.3)\n",
    "ax = plt.subplot(grid1[:, :6])\n",
    "ax.imshow(whshmat1, vmin = 0, vmax = 1)\n",
    "ax.set_title(\"S.M. 1\")\n",
    "ax = plt.subplot(grid1[2:6, 6])\n",
    "draw_color_bar(ax, min_ = 0, max_ = 1)\n",
    "\n",
    "\n",
    "grid2 = gridspec.GridSpec(8, 8)\n",
    "grid2.update(left=0.35, right = 0.6)\n",
    "ax = plt.subplot(grid2[:, :6])\n",
    "ax.imshow(whshmat2, vmin = 0, vmax = 1)\n",
    "ax.set_title(\"S.M. 2\")\n",
    "ax = plt.subplot(grid2[2:6, 6])\n",
    "draw_color_bar(ax, min_ = 0, max_ = 1)\n",
    "\n",
    "grid3 = gridspec.GridSpec(8, 8)\n",
    "grid3.update(left=0.65, right = 0.9)\n",
    "ax = plt.subplot(grid3[:, :6])\n",
    "ax.imshow(whshmat3, vmin = 0, vmax = 1)\n",
    "ax.set_title(\"S.M. 3\")\n",
    "ax = plt.subplot(grid3[2:6, 6])\n",
    "draw_color_bar(ax, min_ = 0, max_ = 1)"
   ]
  },
  {
   "cell_type": "code",
   "execution_count": 63,
   "metadata": {},
   "outputs": [
    {
     "data": {
      "image/png": "[encoded data removed]",
      "text/plain": [
       "<matplotlib.figure.Figure at 0x7fc519f039b0>"
      ]
     },
     "metadata": {},
     "output_type": "display_data"
    }
   ],
   "source": [
    "plt.hist(whshmat1);"
   ]
  },
  {
   "cell_type": "code",
   "execution_count": 78,
   "metadata": {},
   "outputs": [
    {
     "data": {
      "text/plain": [
       "<matplotlib.axes._subplots.AxesSubplot at 0x7fc5197296a0>"
      ]
     },
     "execution_count": 78,
     "metadata": {},
     "output_type": "execute_result"
    },
    {
     "data": {
      "image/png": "[encoded data removed]",
      "text/plain": [
       "<matplotlib.figure.Figure at 0x7fc519f446a0>"
      ]
     },
     "metadata": {},
     "output_type": "display_data"
    }
   ],
   "source": [
    "cluster1 = hdbscan.HDBSCAN(min_cluster_size=3, gen_min_span_tree=True, metric=\"precomputed\")\n",
    "distmat = 1 / (1 + np.exp(whshmat1))\n",
    "cluster1.fit(distmat)\n",
    "cluster1.condensed_tree_.plot(select_clusters = True, selection_palette=sns.color_palette())"
   ]
  },
  {
   "cell_type": "code",
   "execution_count": 77,
   "metadata": {},
   "outputs": [
    {
     "data": {
      "text/plain": [
       "<matplotlib.colorbar.Colorbar at 0x7fc519a086a0>"
      ]
     },
     "execution_count": 77,
     "metadata": {},
     "output_type": "execute_result"
    },
    {
     "data": {
      "image/png": "[encoded data removed]",
      "text/plain": [
       "<matplotlib.figure.Figure at 0x7fc519288d68>"
      ]
     },
     "metadata": {},
     "output_type": "display_data"
    }
   ],
   "source": [
    "plt.imshow(distmat)\n",
    "plt.colorbar()"
   ]
  },
  {
   "cell_type": "code",
   "execution_count": null,
   "metadata": {},
   "outputs": [],
   "source": []
  },
  {
   "cell_type": "code",
   "execution_count": null,
   "metadata": {},
   "outputs": [],
   "source": []
  },
  {
   "cell_type": "code",
   "execution_count": null,
   "metadata": {},
   "outputs": [],
   "source": []
  },
  {
   "cell_type": "code",
   "execution_count": 113,
   "metadata": {},
   "outputs": [],
   "source": [
    "rows, cols = np.where(np.logical_and(0.8 < shmat1, shmat1 < 1.2))\n",
    "rows, cols\n",
    "whshmat1 = np.zeros_like(shmat1)\n",
    "for row, col in zip(rows, cols):\n",
    "    whshmat1[row, col] = shmat1[row, col]"
   ]
  },
  {
   "cell_type": "code",
   "execution_count": 115,
   "metadata": {},
   "outputs": [
    {
     "data": {
      "text/plain": [
       "<matplotlib.colorbar.Colorbar at 0x7f454d9509e8>"
      ]
     },
     "execution_count": 115,
     "metadata": {},
     "output_type": "execute_result"
    },
    {
     "data": {
      "image/png": "[encoded data removed]",
      "text/plain": [
       "<matplotlib.figure.Figure at 0x7f454d9b3208>"
      ]
     },
     "metadata": {},
     "output_type": "display_data"
    }
   ],
   "source": [
    "plt.imshow(whshmat1)\n",
    "plt.colorbar()"
   ]
  },
  {
   "cell_type": "code",
   "execution_count": 99,
   "metadata": {},
   "outputs": [
    {
     "ename": "TypeError",
     "evalue": "Invalid dimensions for image data",
     "output_type": "error",
     "traceback": [
      "\u001b[0;31m--------------------------------------------------------------------------\u001b[0m",
      "\u001b[0;31mTypeError\u001b[0m                                Traceback (most recent call last)",
      "\u001b[0;32m<ipython-input-99-14f4d7e00ddb>\u001b[0m in \u001b[0;36m<module>\u001b[0;34m()\u001b[0m\n\u001b[0;32m----> 1\u001b[0;31m \u001b[0mplt\u001b[0m\u001b[0;34m.\u001b[0m\u001b[0mimshow\u001b[0m\u001b[0;34m(\u001b[0m\u001b[0mshmat1\u001b[0m\u001b[0;34m[\u001b[0m\u001b[0mshmat1\u001b[0m \u001b[0;34m==\u001b[0m \u001b[0;36m1\u001b[0m\u001b[0;34m]\u001b[0m\u001b[0;34m,\u001b[0m \u001b[0mvmin\u001b[0m\u001b[0;34m=\u001b[0m\u001b[0;34m-\u001b[0m\u001b[0;36m5\u001b[0m\u001b[0;34m,\u001b[0m \u001b[0mvmax\u001b[0m \u001b[0;34m=\u001b[0m \u001b[0;36m5\u001b[0m\u001b[0;34m)\u001b[0m\u001b[0;34m\u001b[0m\u001b[0m\n\u001b[0m\u001b[1;32m      2\u001b[0m \u001b[0mplt\u001b[0m\u001b[0;34m.\u001b[0m\u001b[0mcolorbar\u001b[0m\u001b[0;34m(\u001b[0m\u001b[0;34m)\u001b[0m\u001b[0;34m\u001b[0m\u001b[0m\n",
      "\u001b[0;32m~/.pyenv/versions/anaconda3-5.0.0/lib/python3.6/site-packages/matplotlib/pyplot.py\u001b[0m in \u001b[0;36mimshow\u001b[0;34m(X, cmap, norm, aspect, interpolation, alpha, vmin, vmax, origin, extent, shape, filternorm, filterrad, imlim, resample, url, hold, data, **kwargs)\u001b[0m\n\u001b[1;32m   3155\u001b[0m                         \u001b[0mfilternorm\u001b[0m\u001b[0;34m=\u001b[0m\u001b[0mfilternorm\u001b[0m\u001b[0;34m,\u001b[0m \u001b[0mfilterrad\u001b[0m\u001b[0;34m=\u001b[0m\u001b[0mfilterrad\u001b[0m\u001b[0;34m,\u001b[0m\u001b[0;34m\u001b[0m\u001b[0m\n\u001b[1;32m   3156\u001b[0m                         \u001b[0mimlim\u001b[0m\u001b[0;34m=\u001b[0m\u001b[0mimlim\u001b[0m\u001b[0;34m,\u001b[0m \u001b[0mresample\u001b[0m\u001b[0;34m=\u001b[0m\u001b[0mresample\u001b[0m\u001b[0;34m,\u001b[0m \u001b[0murl\u001b[0m\u001b[0;34m=\u001b[0m\u001b[0murl\u001b[0m\u001b[0;34m,\u001b[0m \u001b[0mdata\u001b[0m\u001b[0;34m=\u001b[0m\u001b[0mdata\u001b[0m\u001b[0;34m,\u001b[0m\u001b[0;34m\u001b[0m\u001b[0m\n\u001b[0;32m-> 3157\u001b[0;31m                         **kwargs)\n\u001b[0m\u001b[1;32m   3158\u001b[0m     \u001b[0;32mfinally\u001b[0m\u001b[0;34m:\u001b[0m\u001b[0;34m\u001b[0m\u001b[0m\n\u001b[1;32m   3159\u001b[0m         \u001b[0max\u001b[0m\u001b[0;34m.\u001b[0m\u001b[0m_hold\u001b[0m \u001b[0;34m=\u001b[0m \u001b[0mwashold\u001b[0m\u001b[0;34m\u001b[0m\u001b[0m\n",
      "\u001b[0;32m~/.pyenv/versions/anaconda3-5.0.0/lib/python3.6/site-packages/matplotlib/__init__.py\u001b[0m in \u001b[0;36minner\u001b[0;34m(ax, *args, **kwargs)\u001b[0m\n\u001b[1;32m   1896\u001b[0m                     warnings.warn(msg % (label_namer, func.__name__),\n\u001b[1;32m   1897\u001b[0m                                   RuntimeWarning, stacklevel=2)\n\u001b[0;32m-> 1898\u001b[0;31m             \u001b[0;32mreturn\u001b[0m \u001b[0mfunc\u001b[0m\u001b[0;34m(\u001b[0m\u001b[0max\u001b[0m\u001b[0;34m,\u001b[0m \u001b[0;34m*\u001b[0m\u001b[0margs\u001b[0m\u001b[0;34m,\u001b[0m \u001b[0;34m**\u001b[0m\u001b[0mkwargs\u001b[0m\u001b[0;34m)\u001b[0m\u001b[0;34m\u001b[0m\u001b[0m\n\u001b[0m\u001b[1;32m   1899\u001b[0m         \u001b[0mpre_doc\u001b[0m \u001b[0;34m=\u001b[0m \u001b[0minner\u001b[0m\u001b[0;34m.\u001b[0m\u001b[0m__doc__\u001b[0m\u001b[0;34m\u001b[0m\u001b[0m\n\u001b[1;32m   1900\u001b[0m         \u001b[0;32mif\u001b[0m \u001b[0mpre_doc\u001b[0m \u001b[0;32mis\u001b[0m \u001b[0;32mNone\u001b[0m\u001b[0;34m:\u001b[0m\u001b[0;34m\u001b[0m\u001b[0m\n",
      "\u001b[0;32m~/.pyenv/versions/anaconda3-5.0.0/lib/python3.6/site-packages/matplotlib/axes/_axes.py\u001b[0m in \u001b[0;36mimshow\u001b[0;34m(self, X, cmap, norm, aspect, interpolation, alpha, vmin, vmax, origin, extent, shape, filternorm, filterrad, imlim, resample, url, **kwargs)\u001b[0m\n\u001b[1;32m   5122\u001b[0m                               resample=resample, **kwargs)\n\u001b[1;32m   5123\u001b[0m \u001b[0;34m\u001b[0m\u001b[0m\n\u001b[0;32m-> 5124\u001b[0;31m         \u001b[0mim\u001b[0m\u001b[0;34m.\u001b[0m\u001b[0mset_data\u001b[0m\u001b[0;34m(\u001b[0m\u001b[0mX\u001b[0m\u001b[0;34m)\u001b[0m\u001b[0;34m\u001b[0m\u001b[0m\n\u001b[0m\u001b[1;32m   5125\u001b[0m         \u001b[0mim\u001b[0m\u001b[0;34m.\u001b[0m\u001b[0mset_alpha\u001b[0m\u001b[0;34m(\u001b[0m\u001b[0malpha\u001b[0m\u001b[0;34m)\u001b[0m\u001b[0;34m\u001b[0m\u001b[0m\n\u001b[1;32m   5126\u001b[0m         \u001b[0;32mif\u001b[0m \u001b[0mim\u001b[0m\u001b[0;34m.\u001b[0m\u001b[0mget_clip_path\u001b[0m\u001b[0;34m(\u001b[0m\u001b[0;34m)\u001b[0m \u001b[0;32mis\u001b[0m \u001b[0;32mNone\u001b[0m\u001b[0;34m:\u001b[0m\u001b[0;34m\u001b[0m\u001b[0m\n",
      "\u001b[0;32m~/.pyenv/versions/anaconda3-5.0.0/lib/python3.6/site-packages/matplotlib/image.py\u001b[0m in \u001b[0;36mset_data\u001b[0;34m(self, A)\u001b[0m\n\u001b[1;32m    598\u001b[0m         if (self._A.ndim not in (2, 3) or\n\u001b[1;32m    599\u001b[0m                 (self._A.ndim == 3 and self._A.shape[-1] not in (3, 4))):\n\u001b[0;32m--> 600\u001b[0;31m             \u001b[0;32mraise\u001b[0m \u001b[0mTypeError\u001b[0m\u001b[0;34m(\u001b[0m\u001b[0;34m\"Invalid dimensions for image data\"\u001b[0m\u001b[0;34m)\u001b[0m\u001b[0;34m\u001b[0m\u001b[0m\n\u001b[0m\u001b[1;32m    601\u001b[0m \u001b[0;34m\u001b[0m\u001b[0m\n\u001b[1;32m    602\u001b[0m         \u001b[0mself\u001b[0m\u001b[0;34m.\u001b[0m\u001b[0m_imcache\u001b[0m \u001b[0;34m=\u001b[0m \u001b[0;32mNone\u001b[0m\u001b[0;34m\u001b[0m\u001b[0m\n",
      "\u001b[0;31mTypeError\u001b[0m: Invalid dimensions for image data"
     ]
    },
    {
     "data": {
      "image/png": "[encoded data removed]",
      "text/plain": [
       "<matplotlib.figure.Figure at 0x7f454df17908>"
      ]
     },
     "metadata": {},
     "output_type": "display_data"
    }
   ],
   "source": [
    "plt.imshow(shmat1[shmat1 == 1], vmin=-5, vmax = 5)\n",
    "plt.colorbar()"
   ]
  },
  {
   "cell_type": "code",
   "execution_count": 95,
   "metadata": {},
   "outputs": [
    {
     "name": "stderr",
     "output_type": "stream",
     "text": [
      "/home/kei/.pyenv/versions/anaconda3-5.0.0/lib/python3.6/site-packages/hdbscan/plots.py:381: RuntimeWarning: invalid value encountered in double_scalars\n",
      "  height = (c_bounds[CB_TOP] - c_bounds[CB_BOTTOM])\n"
     ]
    },
    {
     "data": {
      "text/plain": [
       "<matplotlib.axes._subplots.AxesSubplot at 0x7f454e327f28>"
      ]
     },
     "execution_count": 95,
     "metadata": {},
     "output_type": "execute_result"
    },
    {
     "data": {
      "image/png": "[encoded data removed]",
      "text/plain": [
       "<matplotlib.figure.Figure at 0x7f454e668dd8>"
      ]
     },
     "metadata": {},
     "output_type": "display_data"
    }
   ],
   "source": [
    "shclu1 = hdbscan.HDBSCAN(min_cluster_size=5, gen_min_span_tree=True, metric=\"precomputed\")\n",
    "shclu1.fit(np.abs(shmat1))\n",
    "shclu1.condensed_tree_.plot(select_clusters = True, selection_palette=sns.color_palette())"
   ]
  },
  {
   "cell_type": "code",
   "execution_count": 92,
   "metadata": {},
   "outputs": [
    {
     "data": {
      "text/plain": [
       "array([ 0,  0,  0,  0,  0,  0,  0,  0,  0,  0,  0,  0,  0,  0,  1,  1,  1,\n",
       "        1,  1,  1,  1,  1,  1,  1,  1,  1,  1,  1,  1, -1])"
      ]
     },
     "execution_count": 92,
     "metadata": {},
     "output_type": "execute_result"
    }
   ],
   "source": [
    "shclu1.labels_"
   ]
  },
  {
   "cell_type": "code",
   "execution_count": 88,
   "metadata": {},
   "outputs": [
    {
     "data": {
      "text/plain": [
       "<matplotlib.colorbar.Colorbar at 0x7f45942c5780>"
      ]
     },
     "execution_count": 88,
     "metadata": {},
     "output_type": "execute_result"
    },
    {
     "data": {
      "image/png": "[encoded data removed]",
      "text/plain": [
       "<matplotlib.figure.Figure at 0x7f456c0b2b38>"
      ]
     },
     "metadata": {},
     "output_type": "display_data"
    }
   ],
   "source": [
    "plt.imshow(shmat2, vmin=-2, vmax = 2)\n",
    "plt.colorbar()"
   ]
  },
  {
   "cell_type": "code",
   "execution_count": 89,
   "metadata": {},
   "outputs": [
    {
     "data": {
      "text/plain": [
       "<matplotlib.colorbar.Colorbar at 0x7f454e7b8278>"
      ]
     },
     "execution_count": 89,
     "metadata": {},
     "output_type": "execute_result"
    },
    {
     "data": {
      "image/png": "[encoded data removed]",
      "text/plain": [
       "<matplotlib.figure.Figure at 0x7f454e7a1da0>"
      ]
     },
     "metadata": {},
     "output_type": "display_data"
    }
   ],
   "source": [
    "plt.imshow(shmat3, vmin=-2, vmax = 2)\n",
    "plt.colorbar()"
   ]
  },
  {
   "cell_type": "code",
   "execution_count": null,
   "metadata": {},
   "outputs": [],
   "source": []
  },
  {
   "cell_type": "code",
   "execution_count": null,
   "metadata": {},
   "outputs": [],
   "source": []
  },
  {
   "cell_type": "code",
   "execution_count": null,
   "metadata": {},
   "outputs": [],
   "source": []
  },
  {
   "cell_type": "code",
   "execution_count": null,
   "metadata": {},
   "outputs": [],
   "source": []
  },
  {
   "cell_type": "code",
   "execution_count": null,
   "metadata": {},
   "outputs": [],
   "source": []
  },
  {
   "cell_type": "code",
   "execution_count": null,
   "metadata": {},
   "outputs": [],
   "source": []
  },
  {
   "cell_type": "code",
   "execution_count": null,
   "metadata": {},
   "outputs": [],
   "source": []
  },
  {
   "cell_type": "code",
   "execution_count": null,
   "metadata": {},
   "outputs": [],
   "source": []
  },
  {
   "cell_type": "code",
   "execution_count": null,
   "metadata": {},
   "outputs": [],
   "source": []
  },
  {
   "cell_type": "code",
   "execution_count": null,
   "metadata": {},
   "outputs": [],
   "source": []
  },
  {
   "cell_type": "code",
   "execution_count": null,
   "metadata": {},
   "outputs": [],
   "source": []
  },
  {
   "cell_type": "code",
   "execution_count": null,
   "metadata": {},
   "outputs": [],
   "source": []
  },
  {
   "cell_type": "code",
   "execution_count": null,
   "metadata": {},
   "outputs": [],
   "source": []
  },
  {
   "cell_type": "code",
   "execution_count": null,
   "metadata": {},
   "outputs": [],
   "source": []
  },
  {
   "cell_type": "code",
   "execution_count": null,
   "metadata": {},
   "outputs": [],
   "source": []
  },
  {
   "cell_type": "code",
   "execution_count": null,
   "metadata": {},
   "outputs": [],
   "source": [
    "nmats = len(mats)\n",
    "simmat = np.zeros((nmats, nmats))\n",
    "shrmat = np.ones((nmats, nmats))\n",
    "for idx1, mat1 in enumerate(mats):\n",
    "    for idx2, mat2 in enumerate(mats):\n",
    "        if idx1 == idx2:\n",
    "            continue\n",
    "        m1, m2 = mat1.toarray().astype(np.double), mat2.toarray().astype(np.double)\n",
    "        dp_max, dp_max_x, dp_max_y, bp, flip = editsim.clocal_exp_editsim_withbp_withflip(m1, m2, a=a)\n",
    "        if bp.sum() > 0:\n",
    "            dp_max, dp_max_x, dp_max_y, bp, flip = editsim.clocal_exp_editsim_withbp_withflip(m1, m2, a=a)\n",
    "            shrinkage1 = editsim.eval_shrinkage(bp, dp_max_x, dp_max_y, flip)\n",
    "            dp_max, dp_max_x, dp_max_y, bp, flip = editsim.clocal_exp_editsim_withbp_withflip(m2, m1, a=a)\n",
    "            shrinkage2 = editsim.eval_shrinkage(bp, dp_max_x, dp_max_y, flip)\n",
    "            shrinkage = shrinkage1 if shrinkage1 > shrinkage2 else shrinkage2\n",
    "        else:\n",
    "            shrinkage = 0\n",
    "        simmat[idx1, idx2] = dp_max\n",
    "        shrmat[idx1, idx2] = shrinkage"
   ]
  },
  {
   "cell_type": "code",
   "execution_count": 184,
   "metadata": {},
   "outputs": [],
   "source": [
    "nmats = len(mats)\n",
    "simmat = np.zeros((nmats, nmats))\n",
    "shrmat = np.ones((nmats, nmats))\n",
    "for idx1, mat1 in enumerate(mats):\n",
    "    for idx2, mat2 in enumerate(mats):\n",
    "        if idx1 == idx2:\n",
    "            continue\n",
    "        m1, m2 = mat1.toarray().astype(np.double), mat2.toarray().astype(np.double)\n",
    "        dp_max, dp_max_x, dp_max_y, bp, flip = editsim.clocal_exp_editsim_withbp_withflip(m1, m2, a=a)\n",
    "        if bp.sum() > 0:\n",
    "            dp_max, dp_max_x, dp_max_y, bp, flip = editsim.clocal_exp_editsim_withbp_withflip(m1, m2, a=a)\n",
    "            shrinkage1 = editsim.eval_shrinkage(bp, dp_max_x, dp_max_y, flip)\n",
    "            dp_max, dp_max_x, dp_max_y, bp, flip = editsim.clocal_exp_editsim_withbp_withflip(m2, m1, a=a)\n",
    "            shrinkage2 = editsim.eval_shrinkage(bp, dp_max_x, dp_max_y, flip)\n",
    "            shrinkage = shrinkage1 if shrinkage1 > shrinkage2 else shrinkage2\n",
    "        else:\n",
    "            shrinkage = 0\n",
    "        simmat[idx1, idx2] = dp_max\n",
    "        shrmat[idx1, idx2] = shrinkage"
   ]
  },
  {
   "cell_type": "code",
   "execution_count": 186,
   "metadata": {},
   "outputs": [
    {
     "data": {
      "text/plain": [
       "<matplotlib.colorbar.Colorbar at 0x7f5ac6713470>"
      ]
     },
     "execution_count": 186,
     "metadata": {},
     "output_type": "execute_result"
    },
    {
     "data": {
      "image/png": "[encoded data removed]",
      "text/plain": [
       "<matplotlib.figure.Figure at 0x7f5ab44dfc88>"
      ]
     },
     "metadata": {},
     "output_type": "display_data"
    }
   ],
   "source": [
    "plt.imshow(shrmat, vmin = -2, vmax = 2)\n",
    "plt.colorbar()"
   ]
  },
  {
   "cell_type": "code",
   "execution_count": 95,
   "metadata": {},
   "outputs": [
    {
     "data": {
      "text/plain": [
       "<matplotlib.colorbar.Colorbar at 0x7f5af2434f98>"
      ]
     },
     "execution_count": 95,
     "metadata": {},
     "output_type": "execute_result"
    },
    {
     "data": {
      "image/png": "[encoded data removed]",
      "text/plain": [
       "<matplotlib.figure.Figure at 0x7f5af2335550>"
      ]
     },
     "metadata": {},
     "output_type": "display_data"
    }
   ],
   "source": [
    "plt.imshow(shrmat[:10, :], vmin = -2, vmax = 2)\n",
    "plt.colorbar()"
   ]
  },
  {
   "cell_type": "code",
   "execution_count": 97,
   "metadata": {},
   "outputs": [
    {
     "data": {
      "text/plain": [
       "<matplotlib.colorbar.Colorbar at 0x7f5af209b6a0>"
      ]
     },
     "execution_count": 97,
     "metadata": {},
     "output_type": "execute_result"
    },
    {
     "data": {
      "image/png": "[encoded data removed]",
      "text/plain": [
       "<matplotlib.figure.Figure at 0x7f5af20f1390>"
      ]
     },
     "metadata": {},
     "output_type": "display_data"
    }
   ],
   "source": [
    "plt.imshow(shrmat[10:20, :], vmin = -2, vmax = 2)\n",
    "plt.colorbar()"
   ]
  },
  {
   "cell_type": "code",
   "execution_count": 98,
   "metadata": {},
   "outputs": [
    {
     "data": {
      "text/plain": [
       "<matplotlib.colorbar.Colorbar at 0x7f5af1f8f160>"
      ]
     },
     "execution_count": 98,
     "metadata": {},
     "output_type": "execute_result"
    },
    {
     "data": {
      "image/png": "[encoded data removed]",
      "text/plain": [
       "<matplotlib.figure.Figure at 0x7f5af1f87128>"
      ]
     },
     "metadata": {},
     "output_type": "display_data"
    }
   ],
   "source": [
    "plt.imshow(shrmat[20:30, :], vmin = -2, vmax = 2)\n",
    "plt.colorbar()"
   ]
  },
  {
   "cell_type": "code",
   "execution_count": 102,
   "metadata": {},
   "outputs": [],
   "source": [
    "clusters = [[0, 1, 2, 3, 4, 5, 6, 7, 8, 9],\n",
    "            [10, 11, 12, 13, 14, 15, 16, 17, 18, 19],\n",
    "            [20, 21, 22, 23, 24, 25, 26, 27, 28, 29]]"
   ]
  },
  {
   "cell_type": "code",
   "execution_count": null,
   "metadata": {},
   "outputs": [],
   "source": [
    "for elems1 in clusters:\n",
    "    for elemns2 in clusters:\n",
    "        "
   ]
  },
  {
   "cell_type": "code",
   "execution_count": 88,
   "metadata": {},
   "outputs": [
    {
     "data": {
      "text/plain": [
       "[-2, 2, 1]"
      ]
     },
     "execution_count": 88,
     "metadata": {},
     "output_type": "execute_result"
    }
   ],
   "source": [
    "[-2, 2, 1]"
   ]
  },
  {
   "cell_type": "code",
   "execution_count": 89,
   "metadata": {},
   "outputs": [],
   "source": [
    "import random\n",
    "\n",
    "def cluster(distances, k=3):\n",
    "\n",
    "    m = distances.shape[0] # number of points\n",
    "\n",
    "    # Pick k random medoids.\n",
    "    curr_medoids = np.array([-1]*k)\n",
    "    while not len(np.unique(curr_medoids)) == k:\n",
    "        curr_medoids = np.array([random.randint(0, m - 1) for _ in range(k)])\n",
    "    old_medoids = np.array([-1]*k) # Doesn't matter what we initialize these to.\n",
    "    new_medoids = np.array([-1]*k)\n",
    "   \n",
    "    # Until the medoids stop updating, do the following:\n",
    "    while not ((old_medoids == curr_medoids).all()):\n",
    "        # Assign each point to cluster with closest medoid.\n",
    "        clusters = assign_points_to_clusters(curr_medoids, distances)\n",
    "\n",
    "        # Update cluster medoids to be lowest cost point. \n",
    "        for curr_medoid in curr_medoids:\n",
    "            cluster = np.where(clusters == curr_medoid)[0]\n",
    "            new_medoids[curr_medoids == curr_medoid] = compute_new_medoid(cluster, distances)\n",
    "\n",
    "        old_medoids[:] = curr_medoids[:]\n",
    "        curr_medoids[:] = new_medoids[:]\n",
    "\n",
    "    return clusters, curr_medoids\n",
    "\n",
    "def assign_points_to_clusters(medoids, distances):\n",
    "    distances_to_medoids = distances[:,medoids]\n",
    "    clusters = medoids[np.argmin(distances_to_medoids, axis=1)]\n",
    "    clusters[medoids] = medoids\n",
    "    return clusters\n",
    "\n",
    "def compute_new_medoid(cluster, distances):\n",
    "    mask = np.ones(distances.shape)\n",
    "    mask[np.ix_(cluster,cluster)] = 0.\n",
    "    cluster_distances = np.ma.masked_array(data=distances, mask=mask, fill_value=10e9)\n",
    "    costs = cluster_distances.sum(axis=1)\n",
    "    return costs.argmin(axis=0, fill_value=10e9)\n"
   ]
  },
  {
   "cell_type": "code",
   "execution_count": 90,
   "metadata": {},
   "outputs": [],
   "source": [
    "distmat = - simmat"
   ]
  },
  {
   "cell_type": "code",
   "execution_count": 92,
   "metadata": {},
   "outputs": [
    {
     "data": {
      "text/plain": [
       "(array([10, 10, 10, 10, 10, 10, 10, 10, 10, 10, 10, 10, 10, 10, 10, 10, 16,\n",
       "        10, 18, 10, 10, 10, 10, 10, 10, 10, 10, 10, 10, 10, 10, 10, 10, 10,\n",
       "        34]), array([10, 34, 16, 18]))"
      ]
     },
     "execution_count": 92,
     "metadata": {},
     "output_type": "execute_result"
    }
   ],
   "source": []
  },
  {
   "cell_type": "code",
   "execution_count": null,
   "metadata": {},
   "outputs": [],
   "source": []
  },
  {
   "cell_type": "code",
   "execution_count": null,
   "metadata": {},
   "outputs": [],
   "source": []
  },
  {
   "cell_type": "code",
   "execution_count": null,
   "metadata": {},
   "outputs": [],
   "source": []
  },
  {
   "cell_type": "code",
   "execution_count": null,
   "metadata": {},
   "outputs": [],
   "source": []
  },
  {
   "cell_type": "code",
   "execution_count": null,
   "metadata": {},
   "outputs": [],
   "source": [
    "from joblib import Parallel, delayed\n",
    "from math import sqrt\n",
    "\n",
    "def unwrap_self(arg, **kwarg):\n",
    "    return square_class.square_int(*arg, **kwarg)\n",
    "\n",
    "class square_class:\n",
    "    def square_int(self, i):\n",
    "        return i * i\n",
    "     \n",
    "    def run(self, num):\n",
    "        results = []\n",
    "        results = Parallel(n_jobs= -1, backend=)\\\n",
    "            (delayed(unwrap_self)(i) for i in zip([self]*len(num), num))\n",
    "        print(results)\n",
    "\n",
    "square_int = square_class()\n",
    "square_int.run(num = range(int(1e+08)));"
   ]
  }
 ],
 "metadata": {
  "kernelspec": {
   "display_name": "Python 3",
   "language": "python",
   "name": "python3"
  },
  "language_info": {
   "codemirror_mode": {
    "name": "ipython",
    "version": 3
   },
   "file_extension": ".py",
   "mimetype": "text/x-python",
   "name": "python",
   "nbconvert_exporter": "python",
   "pygments_lexer": "ipython3",
   "version": "3.6.5"
  }
 },
 "nbformat": 4,
 "nbformat_minor": 2
}
