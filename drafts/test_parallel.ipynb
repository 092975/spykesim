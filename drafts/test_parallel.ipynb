{
 "cells": [
  {
   "cell_type": "code",
   "execution_count": null,
   "metadata": {
    "collapsed": true
   },
   "outputs": [],
   "source": [
    "from concurrent.futures import ThreadPoolExecutor\n",
    "from time import sleep\n",
    " \n",
    "def return_after_5_secs(message):\n",
    "    sleep(5)\n",
    "    return message\n",
    " \n",
    "pool = ThreadPoolExecutor(3)\n",
    " \n",
    "future = pool.submit(return_after_5_secs, (\"hello\"))\n",
    "print(future.done())\n",
    "#print(future.result())\n",
    "sleep(6)\n",
    "print(future.done())\n",
    "print(future.result())"
   ]
  },
  {
   "cell_type": "code",
   "execution_count": null,
   "metadata": {
    "collapsed": true
   },
   "outputs": [],
   "source": [
    "import concurrent"
   ]
  },
  {
   "cell_type": "code",
   "execution_count": null,
   "metadata": {
    "collapsed": true
   },
   "outputs": [],
   "source": [
    "from logging import init_logger, getLogger"
   ]
  },
  {
   "cell_type": "code",
   "execution_count": null,
   "metadata": {
    "collapsed": true
   },
   "outputs": [],
   "source": [
    "init_lo"
   ]
  },
  {
   "cell_type": "code",
   "execution_count": null,
   "metadata": {
    "collapsed": true
   },
   "outputs": [],
   "source": [
    "concurrent.futures.g"
   ]
  },
  {
   "cell_type": "code",
   "execution_count": null,
   "metadata": {
    "collapsed": true
   },
   "outputs": [],
   "source": [
    "import time\n",
    "from concurrent.futures import ThreadPoolExecutor\n",
    "from logging import StreamHandler, Formatter, INFO, getLogger\n",
    "\n",
    "\n",
    "def init_logger():\n",
    "    handler = StreamHandler()\n",
    "    handler.setLevel(INFO)\n",
    "    handler.setFormatter(Formatter(\"[%(asctime)s] [%(threadName)s] %(message)s\"))\n",
    "    logger = getLogger()\n",
    "    logger.addHandler(handler)\n",
    "    logger.setLevel(INFO)\n",
    "\n",
    "def task(v):\n",
    "    getLogger().info(\"%s start\", v)\n",
    "    time.sleep(1.0)\n",
    "    getLogger().info(\"%s end\", v)\n",
    "    return v * 2\n",
    "\n",
    "def main():\n",
    "    init_logger()\n",
    "    getLogger().info(\"main start\")\n",
    "    with ThreadPoolExecutor(max_workers=2, thread_name_prefix=\"thread\") as executor:\n",
    "        futures = []\n",
    "        for i in range(5):\n",
    "            futures.append(executor.submit(task, i))\n",
    "        getLogger().info(\"submit end\")\n",
    "        getLogger().info([f.result() for f in futures])\n",
    "    getLogger().info(\"main end\")"
   ]
  },
  {
   "cell_type": "code",
   "execution_count": null,
   "metadata": {
    "collapsed": true
   },
   "outputs": [],
   "source": [
    "main()"
   ]
  },
  {
   "cell_type": "code",
   "execution_count": 33,
   "metadata": {
    "collapsed": true
   },
   "outputs": [],
   "source": [
    "from tqdm import tqdm, tqdm_notebook\n",
    "from concurrent.futures import ProcessPoolExecutor, as_completed\n",
    "from logging import StreamHandler, Formatter, INFO, getLogger\n",
    "\n",
    "\n",
    "def init_logger():\n",
    "    handler = StreamHandler()\n",
    "    handler.setLevel(INFO)\n",
    "    handler.setFormatter(Formatter(\"[%(asctime)s] [%(threadName)s] %(message)s\"))\n",
    "    logger = getLogger()\n",
    "    if (logger.hasHandlers()):\n",
    "        logger.handlers.clear()    \n",
    "    logger.addHandler(handler)\n",
    "    logger.setLevel(INFO)\n",
    "\n",
    "def parallel_process(array, function, n_jobs=48, use_kwargs=False, front_num=2, notebook = True):\n",
    "    \"\"\"\n",
    "        A parallel version of the map function with a progress bar. \n",
    "        The original function is retrieved from http://danshiebler.com/2016-09-14-parallel-progress-bar/\n",
    "        Args:\n",
    "            array (array-like): An array to iterate over.\n",
    "            function (function): A python function to apply to the elements of array\n",
    "            n_jobs (int, default=16): The number of cores to use\n",
    "            use_kwargs (boolean, default=False): Whether to consider the elements of array as dictionaries of \n",
    "                keyword arguments to function \n",
    "            front_num (int, default=3): The number of iterations to run serially before kicking off the parallel job. \n",
    "                Useful for catching bugs\n",
    "        Returns:\n",
    "            [function(array[0]), function(array[1]), ...]\n",
    "    \"\"\"\n",
    "    #We run the first few iterations serially to catch bugs\n",
    "    tqdm_ = tqdm_notebook if notebook else tqdm\n",
    "    init_logger()\n",
    "    getLogger().info(\"calculation start\")\n",
    "    if front_num > 0:\n",
    "        front = [function(**a) if use_kwargs else function(a) for a in array[:front_num]]\n",
    "    #If we set n_jobs to 1, just run a list comprehension. This is useful for benchmarking and debugging.\n",
    "    if n_jobs==1:\n",
    "        return front + [function(**a) if use_kwargs else function(a) for a in tqdm_(array[front_num:])]\n",
    "    #Assemble the workers\n",
    "    with ProcessPoolExecutor(max_workers=n_jobs) as pool:\n",
    "        #Pass the elements of array into function\n",
    "        if use_kwargs:\n",
    "            futures = [pool.submit(function, **a) for a in array[front_num:]]\n",
    "        else:\n",
    "            futures = [pool.submit(function, a) for a in array[front_num:]]\n",
    "        getLogger().info(\"submit end\")\n",
    "        kwargs = {\n",
    "            'total': len(futures),\n",
    "            'unit': 'it',\n",
    "            'unit_scale': True,\n",
    "            'leave': True\n",
    "        }\n",
    "        #Print out the progress as tasks complete\n",
    "        getLogger().info(\"Progress of the calculation\")\n",
    "        for f in tqdm_(as_completed(futures), **kwargs):\n",
    "            pass\n",
    "    out = []\n",
    "    #Get the results from the futures.\n",
    "    getLogger().info(\"Progress of the aggregation\")\n",
    "    for i, future in tqdm_(enumerate(futures)):\n",
    "        try:\n",
    "            out.append(future.result())\n",
    "        except Exception as e:\n",
    "            out.append(e)\n",
    "    getLogger().info(\"calculation end\")\n",
    "    return front + out"
   ]
  },
  {
   "cell_type": "code",
   "execution_count": 46,
   "metadata": {},
   "outputs": [
    {
     "data": {
      "text/plain": [
       "[{'idx1': 0, 't1': 0},\n",
       " {'idx1': 0, 't1': 1},\n",
       " {'idx1': 0, 't1': 2},\n",
       " {'idx1': 0, 't1': 3},\n",
       " {'idx1': 0, 't1': 4},\n",
       " {'idx1': 0, 't1': 5},\n",
       " {'idx1': 0, 't1': 6},\n",
       " {'idx1': 0, 't1': 7},\n",
       " {'idx1': 0, 't1': 8},\n",
       " {'idx1': 0, 't1': 9},\n",
       " {'idx1': 1, 't1': 0},\n",
       " {'idx1': 1, 't1': 1},\n",
       " {'idx1': 1, 't1': 2},\n",
       " {'idx1': 1, 't1': 3},\n",
       " {'idx1': 1, 't1': 4},\n",
       " {'idx1': 1, 't1': 5},\n",
       " {'idx1': 1, 't1': 6},\n",
       " {'idx1': 1, 't1': 7},\n",
       " {'idx1': 1, 't1': 8},\n",
       " {'idx1': 1, 't1': 9},\n",
       " {'idx1': 2, 't1': 0},\n",
       " {'idx1': 2, 't1': 1},\n",
       " {'idx1': 2, 't1': 2},\n",
       " {'idx1': 2, 't1': 3},\n",
       " {'idx1': 2, 't1': 4},\n",
       " {'idx1': 2, 't1': 5},\n",
       " {'idx1': 2, 't1': 6},\n",
       " {'idx1': 2, 't1': 7},\n",
       " {'idx1': 2, 't1': 8},\n",
       " {'idx1': 2, 't1': 9},\n",
       " {'idx1': 3, 't1': 0},\n",
       " {'idx1': 3, 't1': 1},\n",
       " {'idx1': 3, 't1': 2},\n",
       " {'idx1': 3, 't1': 3},\n",
       " {'idx1': 3, 't1': 4},\n",
       " {'idx1': 3, 't1': 5},\n",
       " {'idx1': 3, 't1': 6},\n",
       " {'idx1': 3, 't1': 7},\n",
       " {'idx1': 3, 't1': 8},\n",
       " {'idx1': 3, 't1': 9},\n",
       " {'idx1': 4, 't1': 0},\n",
       " {'idx1': 4, 't1': 1},\n",
       " {'idx1': 4, 't1': 2},\n",
       " {'idx1': 4, 't1': 3},\n",
       " {'idx1': 4, 't1': 4},\n",
       " {'idx1': 4, 't1': 5},\n",
       " {'idx1': 4, 't1': 6},\n",
       " {'idx1': 4, 't1': 7},\n",
       " {'idx1': 4, 't1': 8},\n",
       " {'idx1': 4, 't1': 9},\n",
       " {'idx1': 5, 't1': 0},\n",
       " {'idx1': 5, 't1': 1},\n",
       " {'idx1': 5, 't1': 2},\n",
       " {'idx1': 5, 't1': 3},\n",
       " {'idx1': 5, 't1': 4},\n",
       " {'idx1': 5, 't1': 5},\n",
       " {'idx1': 5, 't1': 6},\n",
       " {'idx1': 5, 't1': 7},\n",
       " {'idx1': 5, 't1': 8},\n",
       " {'idx1': 5, 't1': 9},\n",
       " {'idx1': 6, 't1': 0},\n",
       " {'idx1': 6, 't1': 1},\n",
       " {'idx1': 6, 't1': 2},\n",
       " {'idx1': 6, 't1': 3},\n",
       " {'idx1': 6, 't1': 4},\n",
       " {'idx1': 6, 't1': 5},\n",
       " {'idx1': 6, 't1': 6},\n",
       " {'idx1': 6, 't1': 7},\n",
       " {'idx1': 6, 't1': 8},\n",
       " {'idx1': 6, 't1': 9},\n",
       " {'idx1': 7, 't1': 0},\n",
       " {'idx1': 7, 't1': 1},\n",
       " {'idx1': 7, 't1': 2},\n",
       " {'idx1': 7, 't1': 3},\n",
       " {'idx1': 7, 't1': 4},\n",
       " {'idx1': 7, 't1': 5},\n",
       " {'idx1': 7, 't1': 6},\n",
       " {'idx1': 7, 't1': 7},\n",
       " {'idx1': 7, 't1': 8},\n",
       " {'idx1': 7, 't1': 9},\n",
       " {'idx1': 8, 't1': 0},\n",
       " {'idx1': 8, 't1': 1},\n",
       " {'idx1': 8, 't1': 2},\n",
       " {'idx1': 8, 't1': 3},\n",
       " {'idx1': 8, 't1': 4},\n",
       " {'idx1': 8, 't1': 5},\n",
       " {'idx1': 8, 't1': 6},\n",
       " {'idx1': 8, 't1': 7},\n",
       " {'idx1': 8, 't1': 8},\n",
       " {'idx1': 8, 't1': 9},\n",
       " {'idx1': 9, 't1': 0},\n",
       " {'idx1': 9, 't1': 1},\n",
       " {'idx1': 9, 't1': 2},\n",
       " {'idx1': 9, 't1': 3},\n",
       " {'idx1': 9, 't1': 4},\n",
       " {'idx1': 9, 't1': 5},\n",
       " {'idx1': 9, 't1': 6},\n",
       " {'idx1': 9, 't1': 7},\n",
       " {'idx1': 9, 't1': 8},\n",
       " {'idx1': 9, 't1': 9}]"
      ]
     },
     "execution_count": 46,
     "metadata": {},
     "output_type": "execute_result"
    }
   ],
   "source": [
    "[{\"idx1\": i, \"t1\": j} for i in range(10) for j in range(10)]\n",
    "# {\"idx1\": i, \"t1\": j, \"times\": np.arange(10) for i in range(10) for j in range(10)}"
   ]
  },
  {
   "cell_type": "code",
   "execution_count": null,
   "metadata": {
    "collapsed": true
   },
   "outputs": [],
   "source": [
    "(idx1, t1, times, binarray_csc, window, a) for idx1, t1 in enumerate(times)\n"
   ]
  },
  {
   "cell_type": "code",
   "execution_count": 34,
   "metadata": {
    "collapsed": true
   },
   "outputs": [],
   "source": [
    "def get_big_number(i, x = int(1e+05)):\n",
    "    return sum([x*x*i for i in range(x)])"
   ]
  },
  {
   "cell_type": "code",
   "execution_count": 35,
   "metadata": {},
   "outputs": [
    {
     "name": "stderr",
     "output_type": "stream",
     "text": [
      "[2018-07-12 17:30:31,022] [MainThread] calculation start\n",
      "[2018-07-12 17:30:36,054] [MainThread] submit end\n",
      "[2018-07-12 17:30:36,062] [MainThread] Progress of the calculation\n"
     ]
    },
    {
     "data": {
      "application/vnd.jupyter.widget-view+json": {
       "model_id": "18804cc4481746aa99bbc554cc6fa924",
       "version_major": 2,
       "version_minor": 0
      },
      "text/plain": [
       "A Jupyter Widget"
      ]
     },
     "metadata": {},
     "output_type": "display_data"
    },
    {
     "name": "stderr",
     "output_type": "stream",
     "text": [
      "[2018-07-12 17:30:43,146] [MainThread] Progress of the aggregation\n"
     ]
    },
    {
     "name": "stdout",
     "output_type": "stream",
     "text": [
      "\n"
     ]
    },
    {
     "data": {
      "application/vnd.jupyter.widget-view+json": {
       "model_id": "c331d6495902416ea152e44046b14732",
       "version_major": 2,
       "version_minor": 0
      },
      "text/plain": [
       "A Jupyter Widget"
      ]
     },
     "metadata": {},
     "output_type": "display_data"
    },
    {
     "name": "stderr",
     "output_type": "stream",
     "text": [
      "[2018-07-12 17:30:43,211] [MainThread] calculation end\n"
     ]
    },
    {
     "name": "stdout",
     "output_type": "stream",
     "text": [
      "\n"
     ]
    }
   ],
   "source": [
    "list_of_big_number = parallel_process(range(int(1e+04)), get_big_number)"
   ]
  },
  {
   "cell_type": "code",
   "execution_count": 37,
   "metadata": {
    "collapsed": true
   },
   "outputs": [],
   "source": [
    "def get_big_number(i, x = int(1e+05)):\n",
    "    return sum([x*x*i for i in range(x)])"
   ]
  },
  {
   "cell_type": "code",
   "execution_count": null,
   "metadata": {
    "collapsed": true
   },
   "outputs": [],
   "source": [
    "arr = []"
   ]
  },
  {
   "cell_type": "code",
   "execution_count": 41,
   "metadata": {},
   "outputs": [
    {
     "ename": "TypeError",
     "evalue": "get_big_number() argument after ** must be a mapping, not list",
     "output_type": "error",
     "traceback": [
      "\u001b[0;31m--------------------------------------------------------------------------\u001b[0m",
      "\u001b[0;31mTypeError\u001b[0m                                Traceback (most recent call last)",
      "\u001b[0;32m<ipython-input-41-ae3c5ff32bb0>\u001b[0m in \u001b[0;36m<module>\u001b[0;34m()\u001b[0m\n\u001b[0;32m----> 1\u001b[0;31m \u001b[0mget_big_number\u001b[0m\u001b[0;34m(\u001b[0m\u001b[0;34m**\u001b[0m\u001b[0marr\u001b[0m\u001b[0;34m)\u001b[0m\u001b[0;34m\u001b[0m\u001b[0m\n\u001b[0m",
      "\u001b[0;31mTypeError\u001b[0m: get_big_number() argument after ** must be a mapping, not list"
     ]
    }
   ],
   "source": [
    "get_big_number(**arr)"
   ]
  },
  {
   "cell_type": "code",
   "execution_count": 43,
   "metadata": {},
   "outputs": [
    {
     "data": {
      "text/plain": [
       "49500000"
      ]
     },
     "execution_count": 43,
     "metadata": {},
     "output_type": "execute_result"
    }
   ],
   "source": [
    "get_big_number(**arr[0])"
   ]
  },
  {
   "cell_type": "code",
   "execution_count": 40,
   "metadata": {},
   "outputs": [],
   "source": [
    "arr = [{\"i\":1, \"x\": 100}]"
   ]
  },
  {
   "cell_type": "code",
   "execution_count": 44,
   "metadata": {
    "collapsed": true
   },
   "outputs": [],
   "source": [
    "from scipy.sparse import csc_matrix, lil_matrix\n",
    "import numpy as np\n",
    "import matplotlib.pyplot as plt\n",
    "import sys\n",
    "sys.path.append(\"../spykesim\")\n",
    "import spykesim.editsim as sp\n",
    "%load_ext cython\n",
    "%matplotlib inline"
   ]
  },
  {
   "cell_type": "code",
   "execution_count": 18,
   "metadata": {
    "collapsed": true
   },
   "outputs": [],
   "source": [
    "\n",
    "items = [1, 2, 3, 4, 5]\n",
    "squared = list(map(lambda x: x**2, items))"
   ]
  },
  {
   "cell_type": "code",
   "execution_count": 19,
   "metadata": {},
   "outputs": [
    {
     "data": {
      "text/plain": [
       "[1, 4, 9, 16, 25]"
      ]
     },
     "execution_count": 19,
     "metadata": {},
     "output_type": "execute_result"
    }
   ],
   "source": [
    "squared"
   ]
  },
  {
   "cell_type": "code",
   "execution_count": 20,
   "metadata": {},
   "outputs": [],
   "source": [
    "a = map(lambda x: x**2, items)"
   ]
  },
  {
   "cell_type": "code",
   "execution_count": 21,
   "metadata": {},
   "outputs": [
    {
     "name": "stdout",
     "output_type": "stream",
     "text": [
      "1\n",
      "4\n",
      "9\n",
      "16\n",
      "25\n"
     ]
    }
   ],
   "source": [
    "for b in a: \n",
    "    print(b)"
   ]
  },
  {
   "cell_type": "code",
   "execution_count": 11,
   "metadata": {},
   "outputs": [],
   "source": [
    "from functools import partial"
   ]
  },
  {
   "cell_type": "code",
   "execution_count": 48,
   "metadata": {},
   "outputs": [],
   "source": [
    "def f(x = 1, k = -3, y = 2, z = -1):\n",
    "    print(\"x\", x)\n",
    "    print(\"k\", k)\n",
    "    print(\"y\", y)\n",
    "    print(\"z\", z)\n",
    "    return x + y + z"
   ]
  },
  {
   "cell_type": "code",
   "execution_count": 49,
   "metadata": {},
   "outputs": [],
   "source": [
    "a = 10"
   ]
  },
  {
   "cell_type": "code",
   "execution_count": 50,
   "metadata": {},
   "outputs": [],
   "source": [
    "func = partial(f, z = a, k = 1)"
   ]
  },
  {
   "cell_type": "code",
   "execution_count": 51,
   "metadata": {},
   "outputs": [
    {
     "ename": "TypeError",
     "evalue": "f() got multiple values for argument 'k'",
     "output_type": "error",
     "traceback": [
      "\u001b[0;31m---------------------------------------------------------------------------\u001b[0m",
      "\u001b[0;31mTypeError\u001b[0m                                 Traceback (most recent call last)",
      "\u001b[0;32m<ipython-input-51-a77ab7ce176f>\u001b[0m in \u001b[0;36m<module>\u001b[0;34m()\u001b[0m\n\u001b[0;32m----> 1\u001b[0;31m \u001b[0mfunc\u001b[0m\u001b[0;34m(\u001b[0m\u001b[0;36m5\u001b[0m\u001b[0;34m,\u001b[0m \u001b[0;34m-\u001b[0m\u001b[0;36m20\u001b[0m\u001b[0;34m)\u001b[0m\u001b[0;34m\u001b[0m\u001b[0m\n\u001b[0m",
      "\u001b[0;31mTypeError\u001b[0m: f() got multiple values for argument 'k'"
     ]
    }
   ],
   "source": [
    "func(5, -20)"
   ]
  },
  {
   "cell_type": "code",
   "execution_count": 31,
   "metadata": {},
   "outputs": [],
   "source": [
    "items = enumerate([1,2])\n",
    "#list(map(lambda x: x[0]+x[1], items))"
   ]
  },
  {
   "cell_type": "code",
   "execution_count": 35,
   "metadata": {},
   "outputs": [],
   "source": [
    "def plusone(x):\n",
    "    return x + 1"
   ]
  },
  {
   "cell_type": "code",
   "execution_count": 37,
   "metadata": {},
   "outputs": [
    {
     "data": {
      "text/plain": [
       "<map at 0x7f32141eafd0>"
      ]
     },
     "execution_count": 37,
     "metadata": {},
     "output_type": "execute_result"
    }
   ],
   "source": [
    "\n",
    "map(plusone,\n",
    "    map(\n",
    "        lambda x: x[0]+x[1], items\n",
    "    )\n",
    "   )"
   ]
  },
  {
   "cell_type": "code",
   "execution_count": 33,
   "metadata": {},
   "outputs": [
    {
     "ename": "SyntaxError",
     "evalue": "can't assign to operator (<ipython-input-33-d1ee88fd4d00>, line 1)",
     "output_type": "error",
     "traceback": [
      "\u001b[0;36m  File \u001b[0;32m\"<ipython-input-33-d1ee88fd4d00>\"\u001b[0;36m, line \u001b[0;32m1\u001b[0m\n\u001b[0;31m    for i+1 in map(\u001b[0m\n\u001b[0m       ^\u001b[0m\n\u001b[0;31mSyntaxError\u001b[0m\u001b[0;31m:\u001b[0m can't assign to operator\n"
     ]
    }
   ],
   "source": [
    "for  in map(\n",
    "    lambda x: x[0]+x[1], items\n",
    "):\n",
    "    print(i)"
   ]
  },
  {
   "cell_type": "code",
   "execution_count": 17,
   "metadata": {},
   "outputs": [
    {
     "data": {
      "text/plain": [
       "<map at 0x7f321432e710>"
      ]
     },
     "execution_count": 17,
     "metadata": {},
     "output_type": "execute_result"
    }
   ],
   "source": [
    "map(lambda x: x[0]+x[1], items)"
   ]
  },
  {
   "cell_type": "code",
   "execution_count": null,
   "metadata": {},
   "outputs": [],
   "source": []
  }
 ],
 "metadata": {
  "kernelspec": {
   "display_name": "Python 3",
   "language": "python",
   "name": "python3"
  },
  "language_info": {
   "codemirror_mode": {
    "name": "ipython",
    "version": 3
   },
   "file_extension": ".py",
   "mimetype": "text/x-python",
   "name": "python",
   "nbconvert_exporter": "python",
   "pygments_lexer": "ipython3",
   "version": "3.6.2"
  }
 },
 "nbformat": 4,
 "nbformat_minor": 2
}
