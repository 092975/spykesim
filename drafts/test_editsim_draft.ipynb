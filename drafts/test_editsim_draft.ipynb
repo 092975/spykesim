{
 "cells": [
  {
   "cell_type": "code",
   "execution_count": 1,
   "metadata": {},
   "outputs": [],
   "source": [
    "import matplotlib.pyplot as plt\n",
    "%matplotlib inline\n",
    "%load_ext cython\n",
    "%reload_ext cython\n",
    "%load_ext autoreload"
   ]
  },
  {
   "cell_type": "code",
   "execution_count": 2,
   "metadata": {},
   "outputs": [
    {
     "name": "stdout",
     "output_type": "stream",
     "text": [
      "\u001b[33mBuilding DAG of jobs...\u001b[0m\r\n",
      "\u001b[33mUsing shell: /bin/bash\u001b[0m\r\n",
      "\u001b[33mProvided cores: 1\u001b[0m\r\n",
      "\u001b[33mRules claiming more threads will be scaled down.\u001b[0m\r\n",
      "\u001b[33mJob counts:\r\n",
      "\tcount\tjobs\r\n",
      "\t1\tall\r\n",
      "\t1\u001b[0m\r\n",
      "\u001b[32m\u001b[0m\r\n",
      "\u001b[32mrule all:\r\n",
      "    input: setup.py\r\n",
      "    jobid: 0\u001b[0m\r\n",
      "\u001b[32m\u001b[0m\r\n",
      "Compiling editsim.pyx because it changed.\r\n",
      "[1/1] Cythonizing editsim.pyx\r\n",
      "/home/kei/.pyenv/versions/anaconda3-5.0.0/lib/python3.6/distutils/dist.py:261: UserWarning: Unknown distribution option: 'extra_compile_args'\r\n",
      "  warnings.warn(msg)\r\n",
      "/home/kei/.pyenv/versions/anaconda3-5.0.0/lib/python3.6/distutils/dist.py:261: UserWarning: Unknown distribution option: 'extra_link_args'\r\n",
      "  warnings.warn(msg)\r\n",
      "running build_ext\r\n",
      "building 'editsim' extension\r\n",
      "gcc -pthread -B /home/kei/.pyenv/versions/anaconda3-5.0.0/compiler_compat -Wsign-compare -DNDEBUG -g -fwrapv -O3 -Wall -Wstrict-prototypes -fPIC -I/home/kei/.pyenv/versions/anaconda3-5.0.0/lib/python3.6/site-packages/numpy/core/include -I/home/kei/.pyenv/versions/anaconda3-5.0.0/include/python3.6m -c editsim.c -o build/temp.linux-x86_64-3.6/editsim.o\r\n",
      "In file included from \u001b[01m\u001b[K/home/kei/.pyenv/versions/anaconda3-5.0.0/lib/python3.6/site-packages/numpy/core/include/numpy/ndarraytypes.h:1809:0\u001b[m\u001b[K,\r\n",
      "                 from \u001b[01m\u001b[K/home/kei/.pyenv/versions/anaconda3-5.0.0/lib/python3.6/site-packages/numpy/core/include/numpy/ndarrayobject.h:18\u001b[m\u001b[K,\r\n",
      "                 from \u001b[01m\u001b[K/home/kei/.pyenv/versions/anaconda3-5.0.0/lib/python3.6/site-packages/numpy/core/include/numpy/arrayobject.h:4\u001b[m\u001b[K,\r\n",
      "                 from \u001b[01m\u001b[Keditsim.c:498\u001b[m\u001b[K:\r\n",
      "\u001b[01m\u001b[K/home/kei/.pyenv/versions/anaconda3-5.0.0/lib/python3.6/site-packages/numpy/core/include/numpy/npy_1_7_deprecated_api.h:15:2:\u001b[m\u001b[K \u001b[01;35m\u001b[Kwarning: \u001b[m\u001b[K#warning \"Using deprecated NumPy API, disable it by \" \"#defining NPY_NO_DEPRECATED_API NPY_1_7_API_VERSION\" [-Wcpp]\r\n",
      " #warning \"Using deprecated NumPy API, disable it by \" \\\r\n",
      "\u001b[01;32m\u001b[K  ^\u001b[m\u001b[K\r\n",
      "gcc -pthread -shared -B /home/kei/.pyenv/versions/anaconda3-5.0.0/compiler_compat -L/home/kei/.pyenv/versions/anaconda3-5.0.0/lib -Wl,-rpath=/home/kei/.pyenv/versions/anaconda3-5.0.0/lib,--no-as-needed build/temp.linux-x86_64-3.6/editsim.o -L/home/kei/.pyenv/versions/anaconda3-5.0.0/lib -lpython3.6m -o /home/kei/Projects/spykesim/drafts/editsim.cpython-36m-x86_64-linux-gnu.so\r\n",
      "\u001b[32mFinished job 0.\u001b[0m\r\n",
      "\u001b[32m1 of 1 steps (100%) done\u001b[0m\r\n",
      "\u001b[33mShutting down, this might take some time.\u001b[0m\r\n",
      "\u001b[33mComplete log: /home/kei/Projects/spykesim/drafts/.snakemake/log/2018-06-27T223319.362704.snakemake.log\u001b[0m\r\n"
     ]
    }
   ],
   "source": [
    "!snakemake\n",
    "%autoreload\n",
    "from editsim import *"
   ]
  },
  {
   "cell_type": "code",
   "execution_count": 3,
   "metadata": {
    "collapsed": true
   },
   "outputs": [],
   "source": [
    "nrow = 100\n",
    "mat1 = np.random.randint(0, 10, size = nrow ** 2).reshape(nrow, nrow).astype(np.double)\n",
    "mat2 = np.random.randint(0, 10, size = nrow ** 2).reshape(nrow, nrow).astype(np.double)"
   ]
  },
  {
   "cell_type": "markdown",
   "metadata": {},
   "source": [
    "# Simple editsim"
   ]
  },
  {
   "cell_type": "markdown",
   "metadata": {},
   "source": [
    "## Simple"
   ]
  },
  {
   "cell_type": "code",
   "execution_count": 4,
   "metadata": {
    "collapsed": true
   },
   "outputs": [],
   "source": [
    "def pysimpleeditsim(mat1, mat2):\n",
    "    nrow = mat1.shape[1]\n",
    "    ncol = mat2.shape[1]\n",
    "    dp_table = np.zeros((nrow+1, ncol+1))\n",
    "    for col1 in range(nrow):\n",
    "        for col2 in range(ncol):\n",
    "            match = np.dot(mat1[:, col1], mat2[:, col2])\n",
    "            dp_table[col1 + 1, col2 + 1] = np.max([\n",
    "                dp_table[col1, col2 + 1],\n",
    "                dp_table[col1 + 1, col2],\n",
    "                dp_table[col1, col2] + match])\n",
    "    return dp_table[-1, -1]"
   ]
  },
  {
   "cell_type": "code",
   "execution_count": null,
   "metadata": {},
   "outputs": [],
   "source": []
  },
  {
   "cell_type": "code",
   "execution_count": 5,
   "metadata": {},
   "outputs": [
    {
     "name": "stdout",
     "output_type": "stream",
     "text": [
      "67.2 ms ± 3.81 ms per loop (mean ± std. dev. of 7 runs, 10 loops each)\n"
     ]
    }
   ],
   "source": [
    "%timeit pysimpleeditsim(mat1, mat2)"
   ]
  },
  {
   "cell_type": "code",
   "execution_count": 6,
   "metadata": {},
   "outputs": [
    {
     "name": "stdout",
     "output_type": "stream",
     "text": [
      "893 µs ± 15.7 µs per loop (mean ± std. dev. of 7 runs, 1000 loops each)\n"
     ]
    }
   ],
   "source": [
    "%timeit csimpleeditsim(mat1, mat2)"
   ]
  },
  {
   "cell_type": "code",
   "execution_count": 7,
   "metadata": {},
   "outputs": [
    {
     "data": {
      "text/plain": [
       "True"
      ]
     },
     "execution_count": 7,
     "metadata": {},
     "output_type": "execute_result"
    }
   ],
   "source": [
    "pysimpleeditsim(mat1, mat2) == csimpleeditsim(mat1, mat2)"
   ]
  },
  {
   "cell_type": "markdown",
   "metadata": {},
   "source": [
    "## With bp"
   ]
  },
  {
   "cell_type": "code",
   "execution_count": 9,
   "metadata": {
    "collapsed": true
   },
   "outputs": [],
   "source": [
    "def pysimpleeditsim_withbp(mat1, mat2):\n",
    "    nrow = mat1.shape[1]\n",
    "    ncol = mat2.shape[1]\n",
    "    dp_table = np.zeros((nrow+1, ncol+1))\n",
    "    bp_table = np.ones_like(dp_table) * (-1)\n",
    "    for col1 in range(nrow):\n",
    "        for col2 in range(ncol):\n",
    "            match = np.dot(mat1[:, col1], mat2[:, col2])\n",
    "            choices = [\n",
    "                dp_table[col1, col2 + 1],\n",
    "                dp_table[col1 + 1, col2],\n",
    "                dp_table[col1, col2] + match\n",
    "            ]\n",
    "            bp_table[col1 + 1, col2 + 1] = np.argmax(choices)\n",
    "            dp_table[col1 + 1, col2 + 1] = np.max(choices)            \n",
    "    return dp_table[-1, -1], bp_table"
   ]
  },
  {
   "cell_type": "code",
   "execution_count": 10,
   "metadata": {},
   "outputs": [
    {
     "name": "stdout",
     "output_type": "stream",
     "text": [
      "124 ms ± 2.59 ms per loop (mean ± std. dev. of 7 runs, 10 loops each)\n"
     ]
    }
   ],
   "source": [
    "%timeit pysimpleeditsim_withbp(mat1, mat2)"
   ]
  },
  {
   "cell_type": "code",
   "execution_count": 11,
   "metadata": {},
   "outputs": [
    {
     "name": "stdout",
     "output_type": "stream",
     "text": [
      "1.05 ms ± 15 µs per loop (mean ± std. dev. of 7 runs, 1000 loops each)\n"
     ]
    }
   ],
   "source": [
    "%timeit csimpleeditsim_withbp(mat1, mat2)"
   ]
  },
  {
   "cell_type": "code",
   "execution_count": 13,
   "metadata": {},
   "outputs": [
    {
     "data": {
      "text/plain": [
       "(205628.0, 205628.0)"
      ]
     },
     "execution_count": 13,
     "metadata": {},
     "output_type": "execute_result"
    }
   ],
   "source": [
    "pysimpleeditsim_withbp(mat1, mat2)[0], csimpleeditsim_withbp(mat1, mat2)[0]"
   ]
  },
  {
   "cell_type": "code",
   "execution_count": 16,
   "metadata": {},
   "outputs": [
    {
     "data": {
      "text/plain": [
       "True"
      ]
     },
     "execution_count": 16,
     "metadata": {},
     "output_type": "execute_result"
    }
   ],
   "source": [
    "(np.sum(pysimpleeditsim_withbp(mat1, mat2)[1] == csimpleeditsim_withbp(mat1, mat2)[1])) == (101*101)"
   ]
  },
  {
   "cell_type": "markdown",
   "metadata": {},
   "source": [
    "## align"
   ]
  },
  {
   "cell_type": "code",
   "execution_count": null,
   "metadata": {
    "collapsed": true
   },
   "outputs": [],
   "source": [
    "\n"
   ]
  },
  {
   "cell_type": "markdown",
   "metadata": {},
   "source": [
    "# local_exp editsim"
   ]
  },
  {
   "cell_type": "code",
   "execution_count": null,
   "metadata": {
    "collapsed": true
   },
   "outputs": [],
   "source": []
  }
 ],
 "metadata": {
  "kernelspec": {
   "display_name": "Python 3",
   "language": "python",
   "name": "python3"
  },
  "language_info": {
   "codemirror_mode": {
    "name": "ipython",
    "version": 3
   },
   "file_extension": ".py",
   "mimetype": "text/x-python",
   "name": "python",
   "nbconvert_exporter": "python",
   "pygments_lexer": "ipython3",
   "version": "3.6.2"
  }
 },
 "nbformat": 4,
 "nbformat_minor": 2
}
