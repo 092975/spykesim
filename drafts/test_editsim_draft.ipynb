{
 "cells": [
  {
   "cell_type": "code",
   "execution_count": 1,
   "metadata": {},
   "outputs": [],
   "source": [
    "import matplotlib.pyplot as plt\n",
    "%matplotlib inline\n",
    "%load_ext cython\n",
    "%reload_ext cython\n",
    "%load_ext autoreload"
   ]
  },
  {
   "cell_type": "code",
   "execution_count": 2,
   "metadata": {},
   "outputs": [
    {
     "name": "stdout",
     "output_type": "stream",
     "text": [
      "\u001b[33mBuilding DAG of jobs...\u001b[0m\n",
      "\u001b[33mUsing shell: /bin/bash\u001b[0m\n",
      "\u001b[33mProvided cores: 1\u001b[0m\n",
      "\u001b[33mRules claiming more threads will be scaled down.\u001b[0m\n",
      "\u001b[33mJob counts:\n",
      "\tcount\tjobs\n",
      "\t1\tall\n",
      "\t1\u001b[0m\n",
      "\u001b[32m\u001b[0m\n",
      "\u001b[32mrule all:\n",
      "    input: setup.py\n",
      "    jobid: 0\u001b[0m\n",
      "\u001b[32m\u001b[0m\n",
      "/Users/kei/.pyenv/versions/anaconda3-5.0.0/lib/python3.6/distutils/dist.py:261: UserWarning: Unknown distribution option: 'extra_compile_args'\n",
      "  warnings.warn(msg)\n",
      "/Users/kei/.pyenv/versions/anaconda3-5.0.0/lib/python3.6/distutils/dist.py:261: UserWarning: Unknown distribution option: 'extra_link_args'\n",
      "  warnings.warn(msg)\n",
      "running build_ext\n",
      "\u001b[32mFinished job 0.\u001b[0m\n",
      "\u001b[32m1 of 1 steps (100%) done\u001b[0m\n",
      "\u001b[33mComplete log: /Users/kei/Projects/spykesim/drafts/.snakemake/log/2018-06-26T234139.138875.snakemake.log\u001b[0m\n"
     ]
    }
   ],
   "source": [
    "!snakemake\n",
    "%autoreload\n",
    "from editsim import *"
   ]
  },
  {
   "cell_type": "code",
   "execution_count": 3,
   "metadata": {
    "collapsed": true
   },
   "outputs": [],
   "source": [
    "nrow = 100\n",
    "mat1 = np.random.randint(0, 10, size = nrow ** 2).reshape(nrow, nrow).astype(np.double)\n",
    "mat2 = np.random.randint(0, 10, size = nrow ** 2).reshape(nrow, nrow).astype(np.double)"
   ]
  },
  {
   "cell_type": "markdown",
   "metadata": {},
   "source": [
    "# Simple editsim"
   ]
  },
  {
   "cell_type": "markdown",
   "metadata": {},
   "source": [
    "## Simple"
   ]
  },
  {
   "cell_type": "code",
   "execution_count": 4,
   "metadata": {
    "collapsed": true
   },
   "outputs": [],
   "source": [
    "def pysimpleeditsim(mat1, mat2):\n",
    "    nrow = mat1.shape[1]\n",
    "    ncol = mat2.shape[1]\n",
    "    dp_table = np.zeros((nrow+1, ncol+1))\n",
    "    for col1 in range(nrow):\n",
    "        for col2 in range(ncol):\n",
    "            match = np.dot(mat1[:, col1], mat2[:, col2])\n",
    "            dp_table[col1 + 1, col2 + 1] = np.max([\n",
    "                dp_table[col1, col2 + 1],\n",
    "                dp_table[col1 + 1, col2],\n",
    "                dp_table[col1, col2] + match])\n",
    "    return dp_table[-1, -1]"
   ]
  },
  {
   "cell_type": "code",
   "execution_count": 5,
   "metadata": {},
   "outputs": [
    {
     "name": "stdout",
     "output_type": "stream",
     "text": [
      "67.2 ms ± 3.81 ms per loop (mean ± std. dev. of 7 runs, 10 loops each)\n"
     ]
    }
   ],
   "source": [
    "%timeit pysimpleeditsim(mat1, mat2)"
   ]
  },
  {
   "cell_type": "code",
   "execution_count": 6,
   "metadata": {},
   "outputs": [
    {
     "name": "stdout",
     "output_type": "stream",
     "text": [
      "893 µs ± 15.7 µs per loop (mean ± std. dev. of 7 runs, 1000 loops each)\n"
     ]
    }
   ],
   "source": [
    "%timeit csimpleeditsim(mat1, mat2)"
   ]
  },
  {
   "cell_type": "code",
   "execution_count": 7,
   "metadata": {},
   "outputs": [
    {
     "data": {
      "text/plain": [
       "True"
      ]
     },
     "execution_count": 7,
     "metadata": {},
     "output_type": "execute_result"
    }
   ],
   "source": [
    "pysimpleeditsim(mat1, mat2) == csimpleeditsim(mat1, mat2)"
   ]
  },
  {
   "cell_type": "markdown",
   "metadata": {},
   "source": [
    "## With bp"
   ]
  },
  {
   "cell_type": "code",
   "execution_count": 9,
   "metadata": {
    "collapsed": true
   },
   "outputs": [],
   "source": [
    "def pysimpleeditsim_withbp(mat1, mat2):\n",
    "    nrow = mat1.shape[1]\n",
    "    ncol = mat2.shape[1]\n",
    "    dp_table = np.zeros((nrow+1, ncol+1))\n",
    "    bp_table = np.ones_like(dp_table) * (-1)\n",
    "    for col1 in range(nrow):\n",
    "        for col2 in range(ncol):\n",
    "            match = np.dot(mat1[:, col1], mat2[:, col2])\n",
    "            choices = [\n",
    "                dp_table[col1, col2 + 1],\n",
    "                dp_table[col1 + 1, col2],\n",
    "                dp_table[col1, col2] + match\n",
    "            ]\n",
    "            bp_table[col1 + 1, col2 + 1] = np.argmax(choices)\n",
    "            dp_table[col1 + 1, col2 + 1] = np.max(choices)            \n",
    "    return dp_table[-1, -1], bp_table"
   ]
  },
  {
   "cell_type": "code",
   "execution_count": 10,
   "metadata": {},
   "outputs": [
    {
     "name": "stdout",
     "output_type": "stream",
     "text": [
      "124 ms ± 2.59 ms per loop (mean ± std. dev. of 7 runs, 10 loops each)\n"
     ]
    }
   ],
   "source": [
    "%timeit pysimpleeditsim_withbp(mat1, mat2)"
   ]
  },
  {
   "cell_type": "code",
   "execution_count": 11,
   "metadata": {},
   "outputs": [
    {
     "name": "stdout",
     "output_type": "stream",
     "text": [
      "1.05 ms ± 15 µs per loop (mean ± std. dev. of 7 runs, 1000 loops each)\n"
     ]
    }
   ],
   "source": [
    "%timeit csimpleeditsim_withbp(mat1, mat2)"
   ]
  },
  {
   "cell_type": "code",
   "execution_count": 13,
   "metadata": {},
   "outputs": [
    {
     "data": {
      "text/plain": [
       "(205628.0, 205628.0)"
      ]
     },
     "execution_count": 13,
     "metadata": {},
     "output_type": "execute_result"
    }
   ],
   "source": [
    "pysimpleeditsim_withbp(mat1, mat2)[0], csimpleeditsim_withbp(mat1, mat2)[0]"
   ]
  },
  {
   "cell_type": "code",
   "execution_count": 16,
   "metadata": {},
   "outputs": [
    {
     "data": {
      "text/plain": [
       "True"
      ]
     },
     "execution_count": 16,
     "metadata": {},
     "output_type": "execute_result"
    }
   ],
   "source": [
    "(np.sum(pysimpleeditsim_withbp(mat1, mat2)[1] == csimpleeditsim_withbp(mat1, mat2)[1])) == (101*101)"
   ]
  },
  {
   "cell_type": "markdown",
   "metadata": {},
   "source": [
    "## align"
   ]
  },
  {
   "cell_type": "code",
   "execution_count": null,
   "metadata": {
    "collapsed": true
   },
   "outputs": [],
   "source": [
    "\n"
   ]
  },
  {
   "cell_type": "markdown",
   "metadata": {},
   "source": [
    "# local_exp editsim"
   ]
  },
  {
   "cell_type": "code",
   "execution_count": null,
   "metadata": {
    "collapsed": true
   },
   "outputs": [],
   "source": []
  }
 ],
 "metadata": {
  "kernelspec": {
   "display_name": "Python 3",
   "language": "python",
   "name": "python3"
  },
  "language_info": {
   "codemirror_mode": {
    "name": "ipython",
    "version": 3
   },
   "file_extension": ".py",
   "mimetype": "text/x-python",
   "name": "python",
   "nbconvert_exporter": "python",
   "pygments_lexer": "ipython3",
   "version": "3.6.2"
  }
 },
 "nbformat": 4,
 "nbformat_minor": 2
}
